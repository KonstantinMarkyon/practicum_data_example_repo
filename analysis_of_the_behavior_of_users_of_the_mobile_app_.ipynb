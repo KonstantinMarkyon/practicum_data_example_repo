{
  "nbformat": 4,
  "nbformat_minor": 0,
  "metadata": {
    "ExecuteTimeLog": [
      {
        "duration": 1365,
        "start_time": "2021-06-10T11:39:34.026Z"
      },
      {
        "duration": 148,
        "start_time": "2021-06-10T11:39:35.393Z"
      },
      {
        "duration": 12,
        "start_time": "2021-06-10T11:39:35.543Z"
      },
      {
        "duration": 17,
        "start_time": "2021-06-10T11:39:35.557Z"
      },
      {
        "duration": 14,
        "start_time": "2021-06-10T11:39:35.585Z"
      },
      {
        "duration": 53,
        "start_time": "2021-06-10T11:39:35.601Z"
      },
      {
        "duration": 76,
        "start_time": "2021-06-10T11:39:35.656Z"
      },
      {
        "duration": 1104,
        "start_time": "2021-06-10T11:39:35.734Z"
      },
      {
        "duration": 14,
        "start_time": "2021-06-10T11:39:36.840Z"
      },
      {
        "duration": 4,
        "start_time": "2021-06-10T11:39:36.856Z"
      },
      {
        "duration": 23,
        "start_time": "2021-06-10T11:39:36.862Z"
      },
      {
        "duration": 28,
        "start_time": "2021-06-10T11:39:36.887Z"
      },
      {
        "duration": 41,
        "start_time": "2021-06-10T11:39:36.917Z"
      },
      {
        "duration": 936,
        "start_time": "2021-06-10T11:39:36.960Z"
      },
      {
        "duration": 22,
        "start_time": "2021-06-10T11:39:37.897Z"
      },
      {
        "duration": 34,
        "start_time": "2021-06-10T11:39:37.920Z"
      },
      {
        "duration": 51,
        "start_time": "2021-06-10T11:39:37.956Z"
      },
      {
        "duration": 4,
        "start_time": "2021-06-10T11:39:38.009Z"
      },
      {
        "duration": 26,
        "start_time": "2021-06-10T11:39:38.015Z"
      },
      {
        "duration": 630,
        "start_time": "2021-06-10T11:39:38.042Z"
      },
      {
        "duration": 102,
        "start_time": "2021-06-10T11:39:38.684Z"
      },
      {
        "duration": 10,
        "start_time": "2021-06-10T11:39:38.787Z"
      },
      {
        "duration": 165,
        "start_time": "2021-06-10T11:39:38.799Z"
      },
      {
        "duration": 23,
        "start_time": "2021-06-10T11:39:38.966Z"
      },
      {
        "duration": 37,
        "start_time": "2021-06-10T11:39:38.990Z"
      },
      {
        "duration": 79,
        "start_time": "2021-06-10T11:39:39.029Z"
      },
      {
        "duration": 2,
        "start_time": "2021-06-10T11:39:39.110Z"
      },
      {
        "duration": 125,
        "start_time": "2021-06-10T11:39:39.114Z"
      },
      {
        "duration": 4,
        "start_time": "2021-06-10T11:39:39.241Z"
      },
      {
        "duration": 4,
        "start_time": "2021-06-10T11:39:39.247Z"
      },
      {
        "duration": 58,
        "start_time": "2021-06-10T11:39:39.253Z"
      },
      {
        "duration": 38,
        "start_time": "2021-06-10T11:39:39.313Z"
      },
      {
        "duration": 215,
        "start_time": "2021-06-10T11:39:39.353Z"
      },
      {
        "duration": 7,
        "start_time": "2021-06-10T11:39:39.569Z"
      },
      {
        "duration": 232,
        "start_time": "2021-06-10T11:39:39.577Z"
      },
      {
        "duration": 6,
        "start_time": "2021-06-10T11:39:39.811Z"
      },
      {
        "duration": 274,
        "start_time": "2021-06-10T11:39:39.819Z"
      },
      {
        "duration": 228,
        "start_time": "2021-06-10T11:39:40.095Z"
      },
      {
        "duration": 223,
        "start_time": "2021-06-10T11:39:40.324Z"
      },
      {
        "duration": 4,
        "start_time": "2021-06-10T11:39:40.548Z"
      },
      {
        "duration": 388,
        "start_time": "2021-06-10T11:39:40.553Z"
      },
      {
        "duration": 6,
        "start_time": "2021-06-10T11:39:40.943Z"
      },
      {
        "duration": 385,
        "start_time": "2021-06-10T11:39:40.951Z"
      },
      {
        "duration": 232,
        "start_time": "2021-06-10T11:39:41.337Z"
      },
      {
        "duration": 225,
        "start_time": "2021-06-10T11:39:41.571Z"
      },
      {
        "duration": 394,
        "start_time": "2021-06-10T11:39:41.798Z"
      },
      {
        "duration": 1984,
        "start_time": "2021-06-30T16:31:04.999Z"
      },
      {
        "duration": 218,
        "start_time": "2021-06-30T16:31:06.986Z"
      },
      {
        "duration": 18,
        "start_time": "2021-06-30T16:31:07.207Z"
      },
      {
        "duration": 48,
        "start_time": "2021-06-30T16:31:07.228Z"
      },
      {
        "duration": 28,
        "start_time": "2021-06-30T16:31:07.278Z"
      },
      {
        "duration": 99,
        "start_time": "2021-06-30T16:31:07.308Z"
      },
      {
        "duration": 100,
        "start_time": "2021-06-30T16:31:07.409Z"
      },
      {
        "duration": 2062,
        "start_time": "2021-06-30T16:31:07.513Z"
      },
      {
        "duration": 26,
        "start_time": "2021-06-30T16:31:09.585Z"
      },
      {
        "duration": 18,
        "start_time": "2021-06-30T16:31:09.614Z"
      },
      {
        "duration": 14,
        "start_time": "2021-06-30T16:31:09.634Z"
      },
      {
        "duration": 64,
        "start_time": "2021-06-30T16:31:09.651Z"
      },
      {
        "duration": 94,
        "start_time": "2021-06-30T16:31:09.718Z"
      },
      {
        "duration": 1660,
        "start_time": "2021-06-30T16:31:09.814Z"
      },
      {
        "duration": 36,
        "start_time": "2021-06-30T16:31:11.479Z"
      },
      {
        "duration": 79,
        "start_time": "2021-06-30T16:31:11.517Z"
      },
      {
        "duration": 36,
        "start_time": "2021-06-30T16:31:11.598Z"
      },
      {
        "duration": 6,
        "start_time": "2021-06-30T16:31:11.636Z"
      },
      {
        "duration": 62,
        "start_time": "2021-06-30T16:31:11.645Z"
      },
      {
        "duration": 919,
        "start_time": "2021-06-30T16:31:11.709Z"
      },
      {
        "duration": 154,
        "start_time": "2021-06-30T16:31:12.630Z"
      },
      {
        "duration": 23,
        "start_time": "2021-06-30T16:31:12.786Z"
      },
      {
        "duration": 307,
        "start_time": "2021-06-30T16:31:12.814Z"
      },
      {
        "duration": 14,
        "start_time": "2021-06-30T16:31:13.125Z"
      },
      {
        "duration": 80,
        "start_time": "2021-06-30T16:31:13.142Z"
      },
      {
        "duration": 120,
        "start_time": "2021-06-30T16:31:13.224Z"
      },
      {
        "duration": 3,
        "start_time": "2021-06-30T16:31:13.347Z"
      },
      {
        "duration": 211,
        "start_time": "2021-06-30T16:31:13.352Z"
      },
      {
        "duration": 7,
        "start_time": "2021-06-30T16:31:13.574Z"
      },
      {
        "duration": 23,
        "start_time": "2021-06-30T16:31:13.583Z"
      },
      {
        "duration": 67,
        "start_time": "2021-06-30T16:31:13.608Z"
      },
      {
        "duration": 59,
        "start_time": "2021-06-30T16:31:13.677Z"
      },
      {
        "duration": 353,
        "start_time": "2021-06-30T16:31:13.739Z"
      },
      {
        "duration": 13,
        "start_time": "2021-06-30T16:31:14.095Z"
      },
      {
        "duration": 375,
        "start_time": "2021-06-30T16:31:14.110Z"
      },
      {
        "duration": 13,
        "start_time": "2021-06-30T16:31:14.490Z"
      },
      {
        "duration": 380,
        "start_time": "2021-06-30T16:31:14.505Z"
      },
      {
        "duration": 365,
        "start_time": "2021-06-30T16:31:14.891Z"
      },
      {
        "duration": 373,
        "start_time": "2021-06-30T16:31:15.258Z"
      },
      {
        "duration": 5,
        "start_time": "2021-06-30T16:31:15.634Z"
      },
      {
        "duration": 615,
        "start_time": "2021-06-30T16:31:15.641Z"
      },
      {
        "duration": 27,
        "start_time": "2021-06-30T16:31:16.258Z"
      },
      {
        "duration": 535,
        "start_time": "2021-06-30T16:31:16.288Z"
      },
      {
        "duration": 375,
        "start_time": "2021-06-30T16:31:16.825Z"
      },
      {
        "duration": 355,
        "start_time": "2021-06-30T16:31:17.202Z"
      },
      {
        "duration": 593,
        "start_time": "2021-06-30T16:31:17.567Z"
      },
      {
        "duration": 1883,
        "start_time": "2021-07-04T08:17:33.960Z"
      },
      {
        "duration": 192,
        "start_time": "2021-07-04T08:17:35.845Z"
      },
      {
        "duration": 22,
        "start_time": "2021-07-04T08:17:36.040Z"
      },
      {
        "duration": 28,
        "start_time": "2021-07-04T08:17:36.065Z"
      },
      {
        "duration": 18,
        "start_time": "2021-07-04T08:17:36.096Z"
      },
      {
        "duration": 105,
        "start_time": "2021-07-04T08:17:36.116Z"
      },
      {
        "duration": 86,
        "start_time": "2021-07-04T08:17:36.223Z"
      },
      {
        "duration": 1622,
        "start_time": "2021-07-04T08:17:36.313Z"
      },
      {
        "duration": 30,
        "start_time": "2021-07-04T08:17:37.938Z"
      },
      {
        "duration": 6,
        "start_time": "2021-07-04T08:17:37.970Z"
      },
      {
        "duration": 7,
        "start_time": "2021-07-04T08:17:37.979Z"
      },
      {
        "duration": 71,
        "start_time": "2021-07-04T08:17:37.989Z"
      },
      {
        "duration": 48,
        "start_time": "2021-07-04T08:17:38.062Z"
      },
      {
        "duration": 1407,
        "start_time": "2021-07-04T08:17:38.112Z"
      },
      {
        "duration": 44,
        "start_time": "2021-07-04T08:17:39.522Z"
      },
      {
        "duration": 48,
        "start_time": "2021-07-04T08:17:39.568Z"
      },
      {
        "duration": 54,
        "start_time": "2021-07-04T08:17:39.618Z"
      },
      {
        "duration": 6,
        "start_time": "2021-07-04T08:17:39.674Z"
      },
      {
        "duration": 32,
        "start_time": "2021-07-04T08:17:39.683Z"
      },
      {
        "duration": 862,
        "start_time": "2021-07-04T08:17:39.717Z"
      },
      {
        "duration": 114,
        "start_time": "2021-07-04T08:17:40.581Z"
      },
      {
        "duration": 69,
        "start_time": "2021-07-04T08:17:40.698Z"
      },
      {
        "duration": 257,
        "start_time": "2021-07-04T08:17:40.774Z"
      },
      {
        "duration": 24,
        "start_time": "2021-07-04T08:17:41.034Z"
      },
      {
        "duration": 48,
        "start_time": "2021-07-04T08:17:41.060Z"
      },
      {
        "duration": 104,
        "start_time": "2021-07-04T08:17:41.110Z"
      },
      {
        "duration": 4,
        "start_time": "2021-07-04T08:17:41.217Z"
      },
      {
        "duration": 191,
        "start_time": "2021-07-04T08:17:41.223Z"
      },
      {
        "duration": 6,
        "start_time": "2021-07-04T08:17:41.416Z"
      },
      {
        "duration": 9,
        "start_time": "2021-07-04T08:17:41.425Z"
      },
      {
        "duration": 64,
        "start_time": "2021-07-04T08:17:41.436Z"
      },
      {
        "duration": 75,
        "start_time": "2021-07-04T08:17:41.504Z"
      },
      {
        "duration": 277,
        "start_time": "2021-07-04T08:17:41.581Z"
      },
      {
        "duration": 10,
        "start_time": "2021-07-04T08:17:41.860Z"
      },
      {
        "duration": 336,
        "start_time": "2021-07-04T08:17:41.873Z"
      },
      {
        "duration": 11,
        "start_time": "2021-07-04T08:17:42.212Z"
      },
      {
        "duration": 344,
        "start_time": "2021-07-04T08:17:42.226Z"
      },
      {
        "duration": 324,
        "start_time": "2021-07-04T08:17:42.573Z"
      },
      {
        "duration": 323,
        "start_time": "2021-07-04T08:17:42.899Z"
      },
      {
        "duration": 5,
        "start_time": "2021-07-04T08:17:43.224Z"
      },
      {
        "duration": 539,
        "start_time": "2021-07-04T08:17:43.231Z"
      },
      {
        "duration": 10,
        "start_time": "2021-07-04T08:17:43.772Z"
      },
      {
        "duration": 517,
        "start_time": "2021-07-04T08:17:43.785Z"
      },
      {
        "duration": 338,
        "start_time": "2021-07-04T08:17:44.304Z"
      },
      {
        "duration": 346,
        "start_time": "2021-07-04T08:17:44.644Z"
      },
      {
        "duration": 523,
        "start_time": "2021-07-04T08:17:44.992Z"
      },
      {
        "duration": 313,
        "start_time": "2021-07-04T08:27:44.301Z"
      },
      {
        "duration": 1741,
        "start_time": "2021-07-04T08:27:53.393Z"
      },
      {
        "duration": 200,
        "start_time": "2021-07-04T08:27:55.137Z"
      },
      {
        "duration": 23,
        "start_time": "2021-07-04T08:27:55.340Z"
      },
      {
        "duration": 26,
        "start_time": "2021-07-04T08:27:55.367Z"
      },
      {
        "duration": 20,
        "start_time": "2021-07-04T08:27:55.397Z"
      },
      {
        "duration": 105,
        "start_time": "2021-07-04T08:27:55.419Z"
      },
      {
        "duration": 88,
        "start_time": "2021-07-04T08:27:55.526Z"
      },
      {
        "duration": 1801,
        "start_time": "2021-07-04T08:27:55.617Z"
      },
      {
        "duration": 34,
        "start_time": "2021-07-04T08:27:57.421Z"
      },
      {
        "duration": 5,
        "start_time": "2021-07-04T08:27:57.458Z"
      },
      {
        "duration": 8,
        "start_time": "2021-07-04T08:27:57.465Z"
      },
      {
        "duration": 43,
        "start_time": "2021-07-04T08:27:57.476Z"
      },
      {
        "duration": 83,
        "start_time": "2021-07-04T08:27:57.522Z"
      },
      {
        "duration": 1542,
        "start_time": "2021-07-04T08:27:57.608Z"
      },
      {
        "duration": 31,
        "start_time": "2021-07-04T08:27:59.155Z"
      },
      {
        "duration": 74,
        "start_time": "2021-07-04T08:27:59.188Z"
      },
      {
        "duration": 36,
        "start_time": "2021-07-04T08:27:59.265Z"
      },
      {
        "duration": 7,
        "start_time": "2021-07-04T08:27:59.304Z"
      },
      {
        "duration": 64,
        "start_time": "2021-07-04T08:27:59.314Z"
      },
      {
        "duration": 784,
        "start_time": "2021-07-04T08:27:59.381Z"
      },
      {
        "duration": 120,
        "start_time": "2021-07-04T08:28:00.168Z"
      },
      {
        "duration": 67,
        "start_time": "2021-07-04T08:28:00.290Z"
      },
      {
        "duration": 239,
        "start_time": "2021-07-04T08:28:00.362Z"
      },
      {
        "duration": 14,
        "start_time": "2021-07-04T08:28:00.605Z"
      },
      {
        "duration": 69,
        "start_time": "2021-07-04T08:28:00.621Z"
      },
      {
        "duration": 107,
        "start_time": "2021-07-04T08:28:00.692Z"
      },
      {
        "duration": 6,
        "start_time": "2021-07-04T08:28:00.801Z"
      },
      {
        "duration": 189,
        "start_time": "2021-07-04T08:28:00.809Z"
      },
      {
        "duration": 6,
        "start_time": "2021-07-04T08:28:01.001Z"
      },
      {
        "duration": 21,
        "start_time": "2021-07-04T08:28:01.009Z"
      },
      {
        "duration": 66,
        "start_time": "2021-07-04T08:28:01.032Z"
      },
      {
        "duration": 64,
        "start_time": "2021-07-04T08:28:01.100Z"
      },
      {
        "duration": 282,
        "start_time": "2021-07-04T08:28:01.166Z"
      },
      {
        "duration": 10,
        "start_time": "2021-07-04T08:28:01.455Z"
      },
      {
        "duration": 319,
        "start_time": "2021-07-04T08:28:01.468Z"
      },
      {
        "duration": 10,
        "start_time": "2021-07-04T08:28:01.789Z"
      },
      {
        "duration": 348,
        "start_time": "2021-07-04T08:28:01.801Z"
      },
      {
        "duration": 342,
        "start_time": "2021-07-04T08:28:02.152Z"
      },
      {
        "duration": 326,
        "start_time": "2021-07-04T08:28:02.496Z"
      },
      {
        "duration": 5,
        "start_time": "2021-07-04T08:28:02.825Z"
      },
      {
        "duration": 537,
        "start_time": "2021-07-04T08:28:02.832Z"
      },
      {
        "duration": 9,
        "start_time": "2021-07-04T08:28:03.372Z"
      },
      {
        "duration": 525,
        "start_time": "2021-07-04T08:28:03.384Z"
      },
      {
        "duration": 319,
        "start_time": "2021-07-04T08:28:03.912Z"
      },
      {
        "duration": 329,
        "start_time": "2021-07-04T08:28:04.234Z"
      },
      {
        "duration": 578,
        "start_time": "2021-07-04T08:28:04.566Z"
      },
      {
        "duration": 1936,
        "start_time": "2021-07-04T08:29:15.938Z"
      },
      {
        "duration": 199,
        "start_time": "2021-07-04T08:29:17.876Z"
      },
      {
        "duration": 18,
        "start_time": "2021-07-04T08:29:18.078Z"
      },
      {
        "duration": 25,
        "start_time": "2021-07-04T08:29:18.098Z"
      },
      {
        "duration": 44,
        "start_time": "2021-07-04T08:29:18.125Z"
      },
      {
        "duration": 92,
        "start_time": "2021-07-04T08:29:18.171Z"
      },
      {
        "duration": 91,
        "start_time": "2021-07-04T08:29:18.265Z"
      },
      {
        "duration": 1893,
        "start_time": "2021-07-04T08:29:18.360Z"
      },
      {
        "duration": 21,
        "start_time": "2021-07-04T08:29:20.256Z"
      },
      {
        "duration": 11,
        "start_time": "2021-07-04T08:29:20.279Z"
      },
      {
        "duration": 11,
        "start_time": "2021-07-04T08:29:20.292Z"
      },
      {
        "duration": 69,
        "start_time": "2021-07-04T08:29:20.305Z"
      },
      {
        "duration": 50,
        "start_time": "2021-07-04T08:29:20.377Z"
      },
      {
        "duration": 1396,
        "start_time": "2021-07-04T08:29:20.429Z"
      },
      {
        "duration": 45,
        "start_time": "2021-07-04T08:29:21.827Z"
      },
      {
        "duration": 54,
        "start_time": "2021-07-04T08:29:21.875Z"
      },
      {
        "duration": 50,
        "start_time": "2021-07-04T08:29:21.931Z"
      },
      {
        "duration": 6,
        "start_time": "2021-07-04T08:29:21.983Z"
      },
      {
        "duration": 31,
        "start_time": "2021-07-04T08:29:21.992Z"
      },
      {
        "duration": 839,
        "start_time": "2021-07-04T08:29:22.025Z"
      },
      {
        "duration": 111,
        "start_time": "2021-07-04T08:29:22.867Z"
      },
      {
        "duration": 13,
        "start_time": "2021-07-04T08:29:22.980Z"
      },
      {
        "duration": 289,
        "start_time": "2021-07-04T08:29:22.998Z"
      },
      {
        "duration": 13,
        "start_time": "2021-07-04T08:29:23.290Z"
      },
      {
        "duration": 69,
        "start_time": "2021-07-04T08:29:23.305Z"
      },
      {
        "duration": 101,
        "start_time": "2021-07-04T08:29:23.377Z"
      },
      {
        "duration": 4,
        "start_time": "2021-07-04T08:29:23.480Z"
      },
      {
        "duration": 186,
        "start_time": "2021-07-04T08:29:23.486Z"
      },
      {
        "duration": 6,
        "start_time": "2021-07-04T08:29:23.675Z"
      },
      {
        "duration": 11,
        "start_time": "2021-07-04T08:29:23.683Z"
      },
      {
        "duration": 86,
        "start_time": "2021-07-04T08:29:23.697Z"
      },
      {
        "duration": 50,
        "start_time": "2021-07-04T08:29:23.786Z"
      },
      {
        "duration": 297,
        "start_time": "2021-07-04T08:29:23.839Z"
      },
      {
        "duration": 19,
        "start_time": "2021-07-04T08:29:24.139Z"
      },
      {
        "duration": 325,
        "start_time": "2021-07-04T08:29:24.160Z"
      },
      {
        "duration": 12,
        "start_time": "2021-07-04T08:29:24.488Z"
      },
      {
        "duration": 352,
        "start_time": "2021-07-04T08:29:24.503Z"
      },
      {
        "duration": 321,
        "start_time": "2021-07-04T08:29:24.858Z"
      },
      {
        "duration": 336,
        "start_time": "2021-07-04T08:29:25.182Z"
      },
      {
        "duration": 7,
        "start_time": "2021-07-04T08:29:25.520Z"
      },
      {
        "duration": 553,
        "start_time": "2021-07-04T08:29:25.530Z"
      },
      {
        "duration": 10,
        "start_time": "2021-07-04T08:29:26.086Z"
      },
      {
        "duration": 483,
        "start_time": "2021-07-04T08:29:26.098Z"
      },
      {
        "duration": 319,
        "start_time": "2021-07-04T08:29:26.583Z"
      },
      {
        "duration": 327,
        "start_time": "2021-07-04T08:29:26.904Z"
      },
      {
        "duration": 501,
        "start_time": "2021-07-04T08:29:27.234Z"
      },
      {
        "duration": 17,
        "start_time": "2021-07-04T08:29:59.316Z"
      },
      {
        "duration": 1807,
        "start_time": "2021-07-04T08:30:13.083Z"
      },
      {
        "duration": 193,
        "start_time": "2021-07-04T08:30:14.893Z"
      },
      {
        "duration": 16,
        "start_time": "2021-07-04T08:30:15.089Z"
      },
      {
        "duration": 24,
        "start_time": "2021-07-04T08:30:15.107Z"
      },
      {
        "duration": 19,
        "start_time": "2021-07-04T08:30:15.156Z"
      },
      {
        "duration": 86,
        "start_time": "2021-07-04T08:30:15.177Z"
      },
      {
        "duration": 89,
        "start_time": "2021-07-04T08:30:15.266Z"
      },
      {
        "duration": 1607,
        "start_time": "2021-07-04T08:30:15.359Z"
      },
      {
        "duration": 20,
        "start_time": "2021-07-04T08:30:16.969Z"
      },
      {
        "duration": 7,
        "start_time": "2021-07-04T08:30:16.991Z"
      },
      {
        "duration": 9,
        "start_time": "2021-07-04T08:30:17.000Z"
      },
      {
        "duration": 74,
        "start_time": "2021-07-04T08:30:17.011Z"
      },
      {
        "duration": 69,
        "start_time": "2021-07-04T08:30:17.087Z"
      },
      {
        "duration": 1450,
        "start_time": "2021-07-04T08:30:17.159Z"
      },
      {
        "duration": 46,
        "start_time": "2021-07-04T08:30:18.611Z"
      },
      {
        "duration": 49,
        "start_time": "2021-07-04T08:30:18.659Z"
      },
      {
        "duration": 58,
        "start_time": "2021-07-04T08:30:18.710Z"
      },
      {
        "duration": 7,
        "start_time": "2021-07-04T08:30:18.770Z"
      },
      {
        "duration": 30,
        "start_time": "2021-07-04T08:30:18.779Z"
      },
      {
        "duration": 852,
        "start_time": "2021-07-04T08:30:18.811Z"
      },
      {
        "duration": 112,
        "start_time": "2021-07-04T08:30:19.665Z"
      },
      {
        "duration": 12,
        "start_time": "2021-07-04T08:30:19.780Z"
      },
      {
        "duration": 268,
        "start_time": "2021-07-04T08:30:19.797Z"
      },
      {
        "duration": 12,
        "start_time": "2021-07-04T08:30:20.068Z"
      },
      {
        "duration": 73,
        "start_time": "2021-07-04T08:30:20.082Z"
      },
      {
        "duration": 87,
        "start_time": "2021-07-04T08:30:20.157Z"
      },
      {
        "duration": 4,
        "start_time": "2021-07-04T08:30:20.256Z"
      },
      {
        "duration": 179,
        "start_time": "2021-07-04T08:30:20.262Z"
      },
      {
        "duration": 16,
        "start_time": "2021-07-04T08:30:20.443Z"
      },
      {
        "duration": 10,
        "start_time": "2021-07-04T08:30:20.461Z"
      },
      {
        "duration": 50,
        "start_time": "2021-07-04T08:30:20.474Z"
      },
      {
        "duration": 69,
        "start_time": "2021-07-04T08:30:20.527Z"
      },
      {
        "duration": 291,
        "start_time": "2021-07-04T08:30:20.599Z"
      },
      {
        "duration": 10,
        "start_time": "2021-07-04T08:30:20.893Z"
      },
      {
        "duration": 317,
        "start_time": "2021-07-04T08:30:20.905Z"
      },
      {
        "duration": 10,
        "start_time": "2021-07-04T08:30:21.225Z"
      },
      {
        "duration": 363,
        "start_time": "2021-07-04T08:30:21.237Z"
      },
      {
        "duration": 306,
        "start_time": "2021-07-04T08:30:21.602Z"
      },
      {
        "duration": 319,
        "start_time": "2021-07-04T08:30:21.910Z"
      },
      {
        "duration": 5,
        "start_time": "2021-07-04T08:30:22.232Z"
      },
      {
        "duration": 566,
        "start_time": "2021-07-04T08:30:22.239Z"
      },
      {
        "duration": 9,
        "start_time": "2021-07-04T08:30:22.808Z"
      },
      {
        "duration": 491,
        "start_time": "2021-07-04T08:30:22.820Z"
      },
      {
        "duration": 319,
        "start_time": "2021-07-04T08:30:23.313Z"
      },
      {
        "duration": 321,
        "start_time": "2021-07-04T08:30:23.634Z"
      },
      {
        "duration": 510,
        "start_time": "2021-07-04T08:30:23.958Z"
      },
      {
        "duration": 1766,
        "start_time": "2021-07-04T08:33:42.886Z"
      },
      {
        "duration": 190,
        "start_time": "2021-07-04T08:33:44.655Z"
      },
      {
        "duration": 15,
        "start_time": "2021-07-04T08:33:44.856Z"
      },
      {
        "duration": 25,
        "start_time": "2021-07-04T08:33:44.874Z"
      },
      {
        "duration": 20,
        "start_time": "2021-07-04T08:33:44.902Z"
      },
      {
        "duration": 78,
        "start_time": "2021-07-04T08:33:44.956Z"
      },
      {
        "duration": 92,
        "start_time": "2021-07-04T08:33:45.036Z"
      },
      {
        "duration": 1602,
        "start_time": "2021-07-04T08:33:45.131Z"
      },
      {
        "duration": 30,
        "start_time": "2021-07-04T08:33:46.736Z"
      },
      {
        "duration": 9,
        "start_time": "2021-07-04T08:33:46.768Z"
      },
      {
        "duration": 8,
        "start_time": "2021-07-04T08:33:46.779Z"
      },
      {
        "duration": 68,
        "start_time": "2021-07-04T08:33:46.789Z"
      },
      {
        "duration": 48,
        "start_time": "2021-07-04T08:33:46.860Z"
      },
      {
        "duration": 1376,
        "start_time": "2021-07-04T08:33:46.910Z"
      },
      {
        "duration": 32,
        "start_time": "2021-07-04T08:33:48.289Z"
      },
      {
        "duration": 73,
        "start_time": "2021-07-04T08:33:48.324Z"
      },
      {
        "duration": 56,
        "start_time": "2021-07-04T08:33:48.400Z"
      },
      {
        "duration": 8,
        "start_time": "2021-07-04T08:33:48.458Z"
      },
      {
        "duration": 37,
        "start_time": "2021-07-04T08:33:48.468Z"
      },
      {
        "duration": 810,
        "start_time": "2021-07-04T08:33:48.507Z"
      },
      {
        "duration": 146,
        "start_time": "2021-07-04T08:33:49.320Z"
      },
      {
        "duration": 12,
        "start_time": "2021-07-04T08:33:49.469Z"
      },
      {
        "duration": 480,
        "start_time": "2021-07-04T08:33:49.487Z"
      },
      {
        "duration": -1406,
        "start_time": "2021-07-04T08:33:51.376Z"
      },
      {
        "duration": -1434,
        "start_time": "2021-07-04T08:33:51.406Z"
      },
      {
        "duration": -1459,
        "start_time": "2021-07-04T08:33:51.433Z"
      },
      {
        "duration": -1487,
        "start_time": "2021-07-04T08:33:51.462Z"
      },
      {
        "duration": -1535,
        "start_time": "2021-07-04T08:33:51.511Z"
      },
      {
        "duration": -1565,
        "start_time": "2021-07-04T08:33:51.543Z"
      },
      {
        "duration": -1592,
        "start_time": "2021-07-04T08:33:51.572Z"
      },
      {
        "duration": -1620,
        "start_time": "2021-07-04T08:33:51.602Z"
      },
      {
        "duration": -1658,
        "start_time": "2021-07-04T08:33:51.641Z"
      },
      {
        "duration": -1678,
        "start_time": "2021-07-04T08:33:51.662Z"
      },
      {
        "duration": -1696,
        "start_time": "2021-07-04T08:33:51.682Z"
      },
      {
        "duration": -1717,
        "start_time": "2021-07-04T08:33:51.704Z"
      },
      {
        "duration": -1740,
        "start_time": "2021-07-04T08:33:51.728Z"
      },
      {
        "duration": -1779,
        "start_time": "2021-07-04T08:33:51.769Z"
      },
      {
        "duration": -1797,
        "start_time": "2021-07-04T08:33:51.789Z"
      },
      {
        "duration": -1820,
        "start_time": "2021-07-04T08:33:51.813Z"
      },
      {
        "duration": -1838,
        "start_time": "2021-07-04T08:33:51.833Z"
      },
      {
        "duration": -1857,
        "start_time": "2021-07-04T08:33:51.854Z"
      },
      {
        "duration": -1894,
        "start_time": "2021-07-04T08:33:51.892Z"
      },
      {
        "duration": -1914,
        "start_time": "2021-07-04T08:33:51.914Z"
      },
      {
        "duration": -1933,
        "start_time": "2021-07-04T08:33:51.934Z"
      },
      {
        "duration": -1955,
        "start_time": "2021-07-04T08:33:51.958Z"
      },
      {
        "duration": -1973,
        "start_time": "2021-07-04T08:33:51.978Z"
      },
      {
        "duration": -1970,
        "start_time": "2021-07-04T08:33:52.027Z"
      },
      {
        "duration": 7207,
        "start_time": "2021-07-04T08:35:34.914Z"
      },
      {
        "duration": 12,
        "start_time": "2021-07-04T08:36:39.828Z"
      },
      {
        "duration": 170,
        "start_time": "2021-07-04T08:36:47.810Z"
      },
      {
        "duration": 1975,
        "start_time": "2021-07-04T08:37:46.822Z"
      },
      {
        "duration": 197,
        "start_time": "2021-07-04T08:37:48.799Z"
      },
      {
        "duration": 17,
        "start_time": "2021-07-04T08:37:49.000Z"
      },
      {
        "duration": 49,
        "start_time": "2021-07-04T08:37:49.020Z"
      },
      {
        "duration": 21,
        "start_time": "2021-07-04T08:37:49.071Z"
      },
      {
        "duration": 96,
        "start_time": "2021-07-04T08:37:49.095Z"
      },
      {
        "duration": 92,
        "start_time": "2021-07-04T08:37:49.193Z"
      },
      {
        "duration": 1803,
        "start_time": "2021-07-04T08:37:49.289Z"
      },
      {
        "duration": 22,
        "start_time": "2021-07-04T08:37:51.095Z"
      },
      {
        "duration": 8,
        "start_time": "2021-07-04T08:37:51.120Z"
      },
      {
        "duration": 7,
        "start_time": "2021-07-04T08:37:51.155Z"
      },
      {
        "duration": 43,
        "start_time": "2021-07-04T08:37:51.164Z"
      },
      {
        "duration": 75,
        "start_time": "2021-07-04T08:37:51.209Z"
      },
      {
        "duration": 1439,
        "start_time": "2021-07-04T08:37:51.286Z"
      },
      {
        "duration": 41,
        "start_time": "2021-07-04T08:37:52.727Z"
      },
      {
        "duration": 48,
        "start_time": "2021-07-04T08:37:52.770Z"
      },
      {
        "duration": 56,
        "start_time": "2021-07-04T08:37:52.821Z"
      },
      {
        "duration": 7,
        "start_time": "2021-07-04T08:37:52.879Z"
      },
      {
        "duration": 35,
        "start_time": "2021-07-04T08:37:52.888Z"
      },
      {
        "duration": 819,
        "start_time": "2021-07-04T08:37:52.925Z"
      },
      {
        "duration": 130,
        "start_time": "2021-07-04T08:37:53.746Z"
      },
      {
        "duration": 13,
        "start_time": "2021-07-04T08:37:53.878Z"
      },
      {
        "duration": 60,
        "start_time": "2021-07-04T08:37:53.896Z"
      },
      {
        "duration": 221,
        "start_time": "2021-07-04T08:37:53.959Z"
      },
      {
        "duration": 14,
        "start_time": "2021-07-04T08:37:54.183Z"
      },
      {
        "duration": 73,
        "start_time": "2021-07-04T08:37:54.200Z"
      },
      {
        "duration": 102,
        "start_time": "2021-07-04T08:37:54.276Z"
      },
      {
        "duration": 5,
        "start_time": "2021-07-04T08:37:54.381Z"
      },
      {
        "duration": 187,
        "start_time": "2021-07-04T08:37:54.389Z"
      },
      {
        "duration": 8,
        "start_time": "2021-07-04T08:37:54.579Z"
      },
      {
        "duration": 10,
        "start_time": "2021-07-04T08:37:54.590Z"
      },
      {
        "duration": 85,
        "start_time": "2021-07-04T08:37:54.602Z"
      },
      {
        "duration": 70,
        "start_time": "2021-07-04T08:37:54.690Z"
      },
      {
        "duration": 280,
        "start_time": "2021-07-04T08:37:54.763Z"
      },
      {
        "duration": 14,
        "start_time": "2021-07-04T08:37:55.045Z"
      },
      {
        "duration": 338,
        "start_time": "2021-07-04T08:37:55.062Z"
      },
      {
        "duration": 12,
        "start_time": "2021-07-04T08:37:55.403Z"
      },
      {
        "duration": 407,
        "start_time": "2021-07-04T08:37:55.417Z"
      },
      {
        "duration": 333,
        "start_time": "2021-07-04T08:37:55.826Z"
      },
      {
        "duration": 329,
        "start_time": "2021-07-04T08:37:56.161Z"
      },
      {
        "duration": 5,
        "start_time": "2021-07-04T08:37:56.492Z"
      },
      {
        "duration": 527,
        "start_time": "2021-07-04T08:37:56.499Z"
      },
      {
        "duration": 26,
        "start_time": "2021-07-04T08:37:57.030Z"
      },
      {
        "duration": 482,
        "start_time": "2021-07-04T08:37:57.058Z"
      },
      {
        "duration": 341,
        "start_time": "2021-07-04T08:37:57.542Z"
      },
      {
        "duration": 328,
        "start_time": "2021-07-04T08:37:57.885Z"
      },
      {
        "duration": 525,
        "start_time": "2021-07-04T08:37:58.216Z"
      },
      {
        "duration": 6876,
        "start_time": "2021-07-04T08:39:39.053Z"
      },
      {
        "duration": 1788,
        "start_time": "2021-07-04T08:51:18.429Z"
      },
      {
        "duration": 198,
        "start_time": "2021-07-04T08:51:20.220Z"
      },
      {
        "duration": 14,
        "start_time": "2021-07-04T08:51:20.421Z"
      },
      {
        "duration": 39,
        "start_time": "2021-07-04T08:51:20.437Z"
      },
      {
        "duration": 20,
        "start_time": "2021-07-04T08:51:20.478Z"
      },
      {
        "duration": 102,
        "start_time": "2021-07-04T08:51:20.502Z"
      },
      {
        "duration": 87,
        "start_time": "2021-07-04T08:51:20.607Z"
      },
      {
        "duration": 1622,
        "start_time": "2021-07-04T08:51:20.696Z"
      },
      {
        "duration": 21,
        "start_time": "2021-07-04T08:51:22.320Z"
      },
      {
        "duration": 16,
        "start_time": "2021-07-04T08:51:22.344Z"
      },
      {
        "duration": 11,
        "start_time": "2021-07-04T08:51:22.362Z"
      },
      {
        "duration": 41,
        "start_time": "2021-07-04T08:51:22.376Z"
      },
      {
        "duration": 80,
        "start_time": "2021-07-04T08:51:22.420Z"
      },
      {
        "duration": 1393,
        "start_time": "2021-07-04T08:51:22.503Z"
      },
      {
        "duration": 29,
        "start_time": "2021-07-04T08:51:23.898Z"
      },
      {
        "duration": 64,
        "start_time": "2021-07-04T08:51:23.930Z"
      },
      {
        "duration": 32,
        "start_time": "2021-07-04T08:51:23.996Z"
      },
      {
        "duration": 7,
        "start_time": "2021-07-04T08:51:24.058Z"
      },
      {
        "duration": 33,
        "start_time": "2021-07-04T08:51:24.068Z"
      },
      {
        "duration": 726,
        "start_time": "2021-07-04T08:51:24.103Z"
      },
      {
        "duration": 147,
        "start_time": "2021-07-04T08:51:24.831Z"
      },
      {
        "duration": 344,
        "start_time": "2021-07-04T08:51:24.981Z"
      },
      {
        "duration": 28,
        "start_time": "2021-07-04T08:51:25.327Z"
      },
      {
        "duration": 52,
        "start_time": "2021-07-04T08:51:25.357Z"
      },
      {
        "duration": 107,
        "start_time": "2021-07-04T08:51:25.412Z"
      },
      {
        "duration": 3,
        "start_time": "2021-07-04T08:51:25.522Z"
      },
      {
        "duration": 187,
        "start_time": "2021-07-04T08:51:25.528Z"
      },
      {
        "duration": 6,
        "start_time": "2021-07-04T08:51:25.718Z"
      },
      {
        "duration": 30,
        "start_time": "2021-07-04T08:51:25.727Z"
      },
      {
        "duration": 52,
        "start_time": "2021-07-04T08:51:25.760Z"
      },
      {
        "duration": 75,
        "start_time": "2021-07-04T08:51:25.815Z"
      },
      {
        "duration": 282,
        "start_time": "2021-07-04T08:51:25.892Z"
      },
      {
        "duration": 10,
        "start_time": "2021-07-04T08:51:26.176Z"
      },
      {
        "duration": 339,
        "start_time": "2021-07-04T08:51:26.188Z"
      },
      {
        "duration": 10,
        "start_time": "2021-07-04T08:51:26.529Z"
      },
      {
        "duration": 324,
        "start_time": "2021-07-04T08:51:26.556Z"
      },
      {
        "duration": 324,
        "start_time": "2021-07-04T08:51:26.882Z"
      },
      {
        "duration": 337,
        "start_time": "2021-07-04T08:51:27.209Z"
      },
      {
        "duration": 5,
        "start_time": "2021-07-04T08:51:27.555Z"
      },
      {
        "duration": 511,
        "start_time": "2021-07-04T08:51:27.562Z"
      },
      {
        "duration": 10,
        "start_time": "2021-07-04T08:51:28.076Z"
      },
      {
        "duration": 476,
        "start_time": "2021-07-04T08:51:28.088Z"
      },
      {
        "duration": 330,
        "start_time": "2021-07-04T08:51:28.566Z"
      },
      {
        "duration": 334,
        "start_time": "2021-07-04T08:51:28.899Z"
      },
      {
        "duration": 536,
        "start_time": "2021-07-04T08:51:29.235Z"
      },
      {
        "duration": 96,
        "start_time": "2021-07-04T08:53:17.225Z"
      },
      {
        "duration": -816,
        "start_time": "2021-07-04T08:53:18.140Z"
      },
      {
        "duration": -830,
        "start_time": "2021-07-04T08:53:18.156Z"
      },
      {
        "duration": -847,
        "start_time": "2021-07-04T08:53:18.174Z"
      },
      {
        "duration": -860,
        "start_time": "2021-07-04T08:53:18.189Z"
      },
      {
        "duration": -873,
        "start_time": "2021-07-04T08:53:18.203Z"
      },
      {
        "duration": -958,
        "start_time": "2021-07-04T08:53:18.289Z"
      },
      {
        "duration": 326,
        "start_time": "2021-07-04T08:53:17.333Z"
      },
      {
        "duration": -677,
        "start_time": "2021-07-04T08:53:18.339Z"
      },
      {
        "duration": -699,
        "start_time": "2021-07-04T08:53:18.362Z"
      },
      {
        "duration": -719,
        "start_time": "2021-07-04T08:53:18.383Z"
      },
      {
        "duration": -802,
        "start_time": "2021-07-04T08:53:18.468Z"
      },
      {
        "duration": -819,
        "start_time": "2021-07-04T08:53:18.486Z"
      },
      {
        "duration": -832,
        "start_time": "2021-07-04T08:53:18.501Z"
      },
      {
        "duration": -846,
        "start_time": "2021-07-04T08:53:18.516Z"
      },
      {
        "duration": -861,
        "start_time": "2021-07-04T08:53:18.532Z"
      },
      {
        "duration": -876,
        "start_time": "2021-07-04T08:53:18.548Z"
      },
      {
        "duration": -888,
        "start_time": "2021-07-04T08:53:18.562Z"
      },
      {
        "duration": -923,
        "start_time": "2021-07-04T08:53:18.598Z"
      },
      {
        "duration": -937,
        "start_time": "2021-07-04T08:53:18.613Z"
      },
      {
        "duration": -951,
        "start_time": "2021-07-04T08:53:18.628Z"
      },
      {
        "duration": -963,
        "start_time": "2021-07-04T08:53:18.641Z"
      },
      {
        "duration": -977,
        "start_time": "2021-07-04T08:53:18.657Z"
      },
      {
        "duration": -990,
        "start_time": "2021-07-04T08:53:18.671Z"
      },
      {
        "duration": -1004,
        "start_time": "2021-07-04T08:53:18.687Z"
      },
      {
        "duration": -1036,
        "start_time": "2021-07-04T08:53:18.720Z"
      },
      {
        "duration": -1048,
        "start_time": "2021-07-04T08:53:18.734Z"
      },
      {
        "duration": -1064,
        "start_time": "2021-07-04T08:53:18.751Z"
      },
      {
        "duration": -1077,
        "start_time": "2021-07-04T08:53:18.765Z"
      },
      {
        "duration": -1089,
        "start_time": "2021-07-04T08:53:18.779Z"
      },
      {
        "duration": 450,
        "start_time": "2021-07-04T08:53:17.692Z"
      },
      {
        "duration": -767,
        "start_time": "2021-07-04T08:53:18.912Z"
      },
      {
        "duration": -782,
        "start_time": "2021-07-04T08:53:18.929Z"
      },
      {
        "duration": -795,
        "start_time": "2021-07-04T08:53:18.943Z"
      },
      {
        "duration": -810,
        "start_time": "2021-07-04T08:53:18.959Z"
      },
      {
        "duration": -824,
        "start_time": "2021-07-04T08:53:18.974Z"
      },
      {
        "duration": -865,
        "start_time": "2021-07-04T08:53:19.016Z"
      },
      {
        "duration": -887,
        "start_time": "2021-07-04T08:53:19.040Z"
      },
      {
        "duration": -903,
        "start_time": "2021-07-04T08:53:19.057Z"
      },
      {
        "duration": -916,
        "start_time": "2021-07-04T08:53:19.071Z"
      },
      {
        "duration": -930,
        "start_time": "2021-07-04T08:53:19.087Z"
      },
      {
        "duration": -943,
        "start_time": "2021-07-04T08:53:19.101Z"
      },
      {
        "duration": -983,
        "start_time": "2021-07-04T08:53:19.142Z"
      },
      {
        "duration": -996,
        "start_time": "2021-07-04T08:53:19.157Z"
      },
      {
        "duration": -1012,
        "start_time": "2021-07-04T08:53:19.174Z"
      },
      {
        "duration": 1777,
        "start_time": "2021-07-04T08:53:52.846Z"
      },
      {
        "duration": 188,
        "start_time": "2021-07-04T08:53:54.625Z"
      },
      {
        "duration": 17,
        "start_time": "2021-07-04T08:53:54.816Z"
      },
      {
        "duration": 40,
        "start_time": "2021-07-04T08:53:54.836Z"
      },
      {
        "duration": 18,
        "start_time": "2021-07-04T08:53:54.878Z"
      },
      {
        "duration": 95,
        "start_time": "2021-07-04T08:53:54.899Z"
      },
      {
        "duration": 97,
        "start_time": "2021-07-04T08:53:54.996Z"
      },
      {
        "duration": 1830,
        "start_time": "2021-07-04T08:53:55.097Z"
      },
      {
        "duration": 26,
        "start_time": "2021-07-04T08:53:56.931Z"
      },
      {
        "duration": 6,
        "start_time": "2021-07-04T08:53:56.960Z"
      },
      {
        "duration": 9,
        "start_time": "2021-07-04T08:53:56.969Z"
      },
      {
        "duration": 76,
        "start_time": "2021-07-04T08:53:56.981Z"
      },
      {
        "duration": 69,
        "start_time": "2021-07-04T08:53:57.060Z"
      },
      {
        "duration": 1633,
        "start_time": "2021-07-04T08:53:57.132Z"
      },
      {
        "duration": 33,
        "start_time": "2021-07-04T08:53:58.767Z"
      },
      {
        "duration": 68,
        "start_time": "2021-07-04T08:53:58.802Z"
      },
      {
        "duration": 33,
        "start_time": "2021-07-04T08:53:58.872Z"
      },
      {
        "duration": 6,
        "start_time": "2021-07-04T08:53:58.907Z"
      },
      {
        "duration": 60,
        "start_time": "2021-07-04T08:53:58.916Z"
      },
      {
        "duration": 806,
        "start_time": "2021-07-04T08:53:58.979Z"
      },
      {
        "duration": 115,
        "start_time": "2021-07-04T08:53:59.788Z"
      },
      {
        "duration": 330,
        "start_time": "2021-07-04T08:53:59.956Z"
      },
      {
        "duration": 12,
        "start_time": "2021-07-04T08:54:00.291Z"
      },
      {
        "duration": 70,
        "start_time": "2021-07-04T08:54:00.306Z"
      },
      {
        "duration": 103,
        "start_time": "2021-07-04T08:54:00.378Z"
      },
      {
        "duration": 4,
        "start_time": "2021-07-04T08:54:00.483Z"
      },
      {
        "duration": 190,
        "start_time": "2021-07-04T08:54:00.489Z"
      },
      {
        "duration": 5,
        "start_time": "2021-07-04T08:54:00.682Z"
      },
      {
        "duration": 25,
        "start_time": "2021-07-04T08:54:00.689Z"
      },
      {
        "duration": 65,
        "start_time": "2021-07-04T08:54:00.716Z"
      },
      {
        "duration": 49,
        "start_time": "2021-07-04T08:54:00.784Z"
      },
      {
        "duration": 288,
        "start_time": "2021-07-04T08:54:00.835Z"
      },
      {
        "duration": 10,
        "start_time": "2021-07-04T08:54:01.125Z"
      },
      {
        "duration": 326,
        "start_time": "2021-07-04T08:54:01.137Z"
      },
      {
        "duration": 10,
        "start_time": "2021-07-04T08:54:01.465Z"
      },
      {
        "duration": 215,
        "start_time": "2021-07-04T08:54:01.477Z"
      },
      {
        "duration": 502,
        "start_time": "2021-07-04T08:54:01.694Z"
      },
      {
        "duration": 364,
        "start_time": "2021-07-04T08:54:02.198Z"
      },
      {
        "duration": 5,
        "start_time": "2021-07-04T08:54:02.564Z"
      },
      {
        "duration": 539,
        "start_time": "2021-07-04T08:54:02.571Z"
      },
      {
        "duration": 10,
        "start_time": "2021-07-04T08:54:03.112Z"
      },
      {
        "duration": 476,
        "start_time": "2021-07-04T08:54:03.124Z"
      },
      {
        "duration": 324,
        "start_time": "2021-07-04T08:54:03.602Z"
      },
      {
        "duration": 320,
        "start_time": "2021-07-04T08:54:03.929Z"
      },
      {
        "duration": 526,
        "start_time": "2021-07-04T08:54:04.256Z"
      },
      {
        "duration": 1864,
        "start_time": "2021-07-04T14:54:14.271Z"
      },
      {
        "duration": 203,
        "start_time": "2021-07-04T14:54:16.137Z"
      },
      {
        "duration": 24,
        "start_time": "2021-07-04T14:54:16.342Z"
      },
      {
        "duration": 24,
        "start_time": "2021-07-04T14:54:16.369Z"
      },
      {
        "duration": 19,
        "start_time": "2021-07-04T14:54:16.396Z"
      },
      {
        "duration": 108,
        "start_time": "2021-07-04T14:54:16.418Z"
      },
      {
        "duration": 99,
        "start_time": "2021-07-04T14:54:16.528Z"
      },
      {
        "duration": 1792,
        "start_time": "2021-07-04T14:54:16.631Z"
      },
      {
        "duration": 4,
        "start_time": "2021-07-04T14:54:18.426Z"
      },
      {
        "duration": 30,
        "start_time": "2021-07-04T14:54:18.432Z"
      },
      {
        "duration": 46,
        "start_time": "2021-07-04T14:54:18.464Z"
      },
      {
        "duration": 74,
        "start_time": "2021-07-04T14:54:18.512Z"
      },
      {
        "duration": 1516,
        "start_time": "2021-07-04T14:54:18.589Z"
      },
      {
        "duration": 29,
        "start_time": "2021-07-04T14:54:20.108Z"
      },
      {
        "duration": 73,
        "start_time": "2021-07-04T14:54:20.140Z"
      },
      {
        "duration": 58,
        "start_time": "2021-07-04T14:54:20.216Z"
      },
      {
        "duration": 6,
        "start_time": "2021-07-04T14:54:20.277Z"
      },
      {
        "duration": 40,
        "start_time": "2021-07-04T14:54:20.285Z"
      },
      {
        "duration": 790,
        "start_time": "2021-07-04T14:54:20.328Z"
      },
      {
        "duration": 148,
        "start_time": "2021-07-04T14:54:21.121Z"
      },
      {
        "duration": 362,
        "start_time": "2021-07-04T14:54:21.271Z"
      },
      {
        "duration": 11,
        "start_time": "2021-07-04T14:54:21.635Z"
      },
      {
        "duration": 59,
        "start_time": "2021-07-04T14:54:21.651Z"
      },
      {
        "duration": 115,
        "start_time": "2021-07-04T14:54:21.713Z"
      },
      {
        "duration": 5,
        "start_time": "2021-07-04T14:54:21.831Z"
      },
      {
        "duration": 196,
        "start_time": "2021-07-04T14:54:21.838Z"
      },
      {
        "duration": 6,
        "start_time": "2021-07-04T14:54:22.036Z"
      },
      {
        "duration": 21,
        "start_time": "2021-07-04T14:54:22.044Z"
      },
      {
        "duration": 57,
        "start_time": "2021-07-04T14:54:22.067Z"
      },
      {
        "duration": 72,
        "start_time": "2021-07-04T14:54:22.126Z"
      },
      {
        "duration": 294,
        "start_time": "2021-07-04T14:54:22.201Z"
      },
      {
        "duration": 10,
        "start_time": "2021-07-04T14:54:22.497Z"
      },
      {
        "duration": 362,
        "start_time": "2021-07-04T14:54:22.510Z"
      },
      {
        "duration": 13,
        "start_time": "2021-07-04T14:54:22.876Z"
      },
      {
        "duration": 228,
        "start_time": "2021-07-04T14:54:22.891Z"
      },
      {
        "duration": 497,
        "start_time": "2021-07-04T14:54:23.122Z"
      },
      {
        "duration": 346,
        "start_time": "2021-07-04T14:54:23.622Z"
      },
      {
        "duration": 5,
        "start_time": "2021-07-04T14:54:23.971Z"
      },
      {
        "duration": 567,
        "start_time": "2021-07-04T14:54:23.980Z"
      },
      {
        "duration": 19,
        "start_time": "2021-07-04T14:54:24.550Z"
      },
      {
        "duration": 505,
        "start_time": "2021-07-04T14:54:24.572Z"
      },
      {
        "duration": 351,
        "start_time": "2021-07-04T14:54:25.079Z"
      },
      {
        "duration": 351,
        "start_time": "2021-07-04T14:54:25.433Z"
      },
      {
        "duration": 579,
        "start_time": "2021-07-04T14:54:25.787Z"
      }
    ],
    "colab": {
      "name": "analysis_of_the_behavior_of_users_of_the_mobile_app .ipynb",
      "provenance": [],
      "include_colab_link": true
    },
    "kernelspec": {
      "display_name": "Python 3",
      "language": "python",
      "name": "python3"
    },
    "language_info": {
      "codemirror_mode": {
        "name": "ipython",
        "version": 3
      },
      "file_extension": ".py",
      "mimetype": "text/x-python",
      "name": "python",
      "nbconvert_exporter": "python",
      "pygments_lexer": "ipython3",
      "version": "3.7.8"
    },
    "toc": {
      "base_numbering": 1,
      "nav_menu": {},
      "number_sections": true,
      "sideBar": true,
      "skip_h1_title": true,
      "title_cell": "Table of Contents",
      "title_sidebar": "Contents",
      "toc_cell": false,
      "toc_position": {},
      "toc_section_display": true,
      "toc_window_display": false
    }
  },
  "cells": [
    {
      "cell_type": "markdown",
      "metadata": {
        "id": "view-in-github",
        "colab_type": "text"
      },
      "source": [
        "<a href=\"https://colab.research.google.com/github/KonstantinMarkyon/practicum_data_example_repo/blob/master/analysis_of_the_behavior_of_users_of_the_mobile_app_.ipynb\" target=\"_parent\"><img src=\"https://colab.research.google.com/assets/colab-badge.svg\" alt=\"Open In Colab\"/></a>"
      ]
    },
    {
      "cell_type": "markdown",
      "metadata": {
        "id": "B--0YHjcd0V1"
      },
      "source": [
        "# Проект \"Анализ поведения пользователей мобильного приложения\""
      ]
    },
    {
      "cell_type": "markdown",
      "metadata": {
        "id": "2oVWfQnhd0V4"
      },
      "source": [
        "Наша цель: выяснить, как ведут себя пользователи мобильного приложения после смены шрифтов. Для достижения этой цели выполним следующие задачи:\n",
        "- Осуществим предобработку данных;\n",
        "- Изучим имеющиеся данные;\n",
        "- Изучим воронку событий;\n",
        "- Изучим результаты эксперимента."
      ]
    },
    {
      "cell_type": "markdown",
      "metadata": {
        "id": "kptE42P5d0V7"
      },
      "source": [
        "## Предобработка данных"
      ]
    },
    {
      "cell_type": "markdown",
      "metadata": {
        "id": "A0ZSI2c-d0V9"
      },
      "source": [
        "Импортируем нужные нам библиотеки."
      ]
    },
    {
      "cell_type": "code",
      "metadata": {
        "id": "gEgc-LOsd0V-"
      },
      "source": [
        "import pandas as pd\n",
        "import numpy as np\n",
        "import matplotlib.pyplot as plt\n",
        "from plotly import graph_objects as go\n",
        "from scipy import stats as st\n",
        "import math as mth\n",
        "import warnings\n",
        "warnings.filterwarnings(\"ignore\")"
      ],
      "execution_count": null,
      "outputs": []
    },
    {
      "cell_type": "markdown",
      "metadata": {
        "id": "lgXRdG8Ad0WB"
      },
      "source": [
        "Импортируем датасет."
      ]
    },
    {
      "cell_type": "code",
      "metadata": {
        "colab": {
          "base_uri": "https://localhost:8080/",
          "height": 391
        },
        "id": "QLOl9XRFd0WC",
        "outputId": "2d7e7899-585d-4cb6-b3d7-af72dcef41d3"
      },
      "source": [
        "data = pd.read_csv('https://code.s3.yandex.net/datasets/logs_exp.csv', sep='\\t')\n",
        "data.info()\n",
        "data.sample(5)"
      ],
      "execution_count": null,
      "outputs": [
        {
          "output_type": "stream",
          "text": [
            "<class 'pandas.core.frame.DataFrame'>\n",
            "RangeIndex: 244126 entries, 0 to 244125\n",
            "Data columns (total 4 columns):\n",
            " #   Column          Non-Null Count   Dtype \n",
            "---  ------          --------------   ----- \n",
            " 0   EventName       244126 non-null  object\n",
            " 1   DeviceIDHash    244126 non-null  int64 \n",
            " 2   EventTimestamp  244126 non-null  int64 \n",
            " 3   ExpId           244126 non-null  int64 \n",
            "dtypes: int64(3), object(1)\n",
            "memory usage: 7.5+ MB\n"
          ],
          "name": "stdout"
        },
        {
          "output_type": "execute_result",
          "data": {
            "text/html": [
              "<div>\n",
              "<style scoped>\n",
              "    .dataframe tbody tr th:only-of-type {\n",
              "        vertical-align: middle;\n",
              "    }\n",
              "\n",
              "    .dataframe tbody tr th {\n",
              "        vertical-align: top;\n",
              "    }\n",
              "\n",
              "    .dataframe thead th {\n",
              "        text-align: right;\n",
              "    }\n",
              "</style>\n",
              "<table border=\"1\" class=\"dataframe\">\n",
              "  <thead>\n",
              "    <tr style=\"text-align: right;\">\n",
              "      <th></th>\n",
              "      <th>EventName</th>\n",
              "      <th>DeviceIDHash</th>\n",
              "      <th>EventTimestamp</th>\n",
              "      <th>ExpId</th>\n",
              "    </tr>\n",
              "  </thead>\n",
              "  <tbody>\n",
              "    <tr>\n",
              "      <th>201722</th>\n",
              "      <td>MainScreenAppear</td>\n",
              "      <td>8079977679659095142</td>\n",
              "      <td>1565106470</td>\n",
              "      <td>246</td>\n",
              "    </tr>\n",
              "    <tr>\n",
              "      <th>73621</th>\n",
              "      <td>OffersScreenAppear</td>\n",
              "      <td>5377830222122315337</td>\n",
              "      <td>1564779920</td>\n",
              "      <td>248</td>\n",
              "    </tr>\n",
              "    <tr>\n",
              "      <th>206314</th>\n",
              "      <td>PaymentScreenSuccessful</td>\n",
              "      <td>1877880950237790633</td>\n",
              "      <td>1565113011</td>\n",
              "      <td>246</td>\n",
              "    </tr>\n",
              "    <tr>\n",
              "      <th>121542</th>\n",
              "      <td>PaymentScreenSuccessful</td>\n",
              "      <td>4383123329905242808</td>\n",
              "      <td>1564918646</td>\n",
              "      <td>247</td>\n",
              "    </tr>\n",
              "    <tr>\n",
              "      <th>93176</th>\n",
              "      <td>CartScreenAppear</td>\n",
              "      <td>1046044714483470353</td>\n",
              "      <td>1564839162</td>\n",
              "      <td>248</td>\n",
              "    </tr>\n",
              "  </tbody>\n",
              "</table>\n",
              "</div>"
            ],
            "text/plain": [
              "                      EventName         DeviceIDHash  EventTimestamp  ExpId\n",
              "201722         MainScreenAppear  8079977679659095142      1565106470    246\n",
              "73621        OffersScreenAppear  5377830222122315337      1564779920    248\n",
              "206314  PaymentScreenSuccessful  1877880950237790633      1565113011    246\n",
              "121542  PaymentScreenSuccessful  4383123329905242808      1564918646    247\n",
              "93176          CartScreenAppear  1046044714483470353      1564839162    248"
            ]
          },
          "metadata": {
            "tags": []
          },
          "execution_count": 2
        }
      ]
    },
    {
      "cell_type": "markdown",
      "metadata": {
        "id": "9AOYBlUVd0WF"
      },
      "source": [
        "Переименуем названия столбцов."
      ]
    },
    {
      "cell_type": "code",
      "metadata": {
        "id": "d_ScKbUbd0WH"
      },
      "source": [
        "data = data.rename(columns = {'EventName': 'event_name', \n",
        "                              'DeviceIDHash': 'user_id', \n",
        "                              'EventTimestamp': 'event_time', \n",
        "                              'ExpId': 'group'})"
      ],
      "execution_count": null,
      "outputs": []
    },
    {
      "cell_type": "markdown",
      "metadata": {
        "id": "UsWawjlPd0WI"
      },
      "source": [
        "Т.к. в столбце *event_time* выставлено unix-время, преобразуем столбец *event_time* в тип datetime с параметром *unit='s'*."
      ]
    },
    {
      "cell_type": "code",
      "metadata": {
        "colab": {
          "base_uri": "https://localhost:8080/",
          "height": 419
        },
        "id": "4cg9GabOd0WK",
        "outputId": "8652fcb8-4ede-4529-9e60-c0a1d392a26d"
      },
      "source": [
        "data['event_time'] = pd.to_datetime(data['event_time'], unit='s')\n",
        "data"
      ],
      "execution_count": null,
      "outputs": [
        {
          "output_type": "execute_result",
          "data": {
            "text/html": [
              "<div>\n",
              "<style scoped>\n",
              "    .dataframe tbody tr th:only-of-type {\n",
              "        vertical-align: middle;\n",
              "    }\n",
              "\n",
              "    .dataframe tbody tr th {\n",
              "        vertical-align: top;\n",
              "    }\n",
              "\n",
              "    .dataframe thead th {\n",
              "        text-align: right;\n",
              "    }\n",
              "</style>\n",
              "<table border=\"1\" class=\"dataframe\">\n",
              "  <thead>\n",
              "    <tr style=\"text-align: right;\">\n",
              "      <th></th>\n",
              "      <th>event_name</th>\n",
              "      <th>user_id</th>\n",
              "      <th>event_time</th>\n",
              "      <th>group</th>\n",
              "    </tr>\n",
              "  </thead>\n",
              "  <tbody>\n",
              "    <tr>\n",
              "      <th>0</th>\n",
              "      <td>MainScreenAppear</td>\n",
              "      <td>4575588528974610257</td>\n",
              "      <td>2019-07-25 04:43:36</td>\n",
              "      <td>246</td>\n",
              "    </tr>\n",
              "    <tr>\n",
              "      <th>1</th>\n",
              "      <td>MainScreenAppear</td>\n",
              "      <td>7416695313311560658</td>\n",
              "      <td>2019-07-25 11:11:42</td>\n",
              "      <td>246</td>\n",
              "    </tr>\n",
              "    <tr>\n",
              "      <th>2</th>\n",
              "      <td>PaymentScreenSuccessful</td>\n",
              "      <td>3518123091307005509</td>\n",
              "      <td>2019-07-25 11:28:47</td>\n",
              "      <td>248</td>\n",
              "    </tr>\n",
              "    <tr>\n",
              "      <th>3</th>\n",
              "      <td>CartScreenAppear</td>\n",
              "      <td>3518123091307005509</td>\n",
              "      <td>2019-07-25 11:28:47</td>\n",
              "      <td>248</td>\n",
              "    </tr>\n",
              "    <tr>\n",
              "      <th>4</th>\n",
              "      <td>PaymentScreenSuccessful</td>\n",
              "      <td>6217807653094995999</td>\n",
              "      <td>2019-07-25 11:48:42</td>\n",
              "      <td>248</td>\n",
              "    </tr>\n",
              "    <tr>\n",
              "      <th>...</th>\n",
              "      <td>...</td>\n",
              "      <td>...</td>\n",
              "      <td>...</td>\n",
              "      <td>...</td>\n",
              "    </tr>\n",
              "    <tr>\n",
              "      <th>244121</th>\n",
              "      <td>MainScreenAppear</td>\n",
              "      <td>4599628364049201812</td>\n",
              "      <td>2019-08-07 21:12:25</td>\n",
              "      <td>247</td>\n",
              "    </tr>\n",
              "    <tr>\n",
              "      <th>244122</th>\n",
              "      <td>MainScreenAppear</td>\n",
              "      <td>5849806612437486590</td>\n",
              "      <td>2019-08-07 21:13:59</td>\n",
              "      <td>246</td>\n",
              "    </tr>\n",
              "    <tr>\n",
              "      <th>244123</th>\n",
              "      <td>MainScreenAppear</td>\n",
              "      <td>5746969938801999050</td>\n",
              "      <td>2019-08-07 21:14:43</td>\n",
              "      <td>246</td>\n",
              "    </tr>\n",
              "    <tr>\n",
              "      <th>244124</th>\n",
              "      <td>MainScreenAppear</td>\n",
              "      <td>5746969938801999050</td>\n",
              "      <td>2019-08-07 21:14:58</td>\n",
              "      <td>246</td>\n",
              "    </tr>\n",
              "    <tr>\n",
              "      <th>244125</th>\n",
              "      <td>OffersScreenAppear</td>\n",
              "      <td>5746969938801999050</td>\n",
              "      <td>2019-08-07 21:15:17</td>\n",
              "      <td>246</td>\n",
              "    </tr>\n",
              "  </tbody>\n",
              "</table>\n",
              "<p>244126 rows × 4 columns</p>\n",
              "</div>"
            ],
            "text/plain": [
              "                     event_name              user_id          event_time  group\n",
              "0              MainScreenAppear  4575588528974610257 2019-07-25 04:43:36    246\n",
              "1              MainScreenAppear  7416695313311560658 2019-07-25 11:11:42    246\n",
              "2       PaymentScreenSuccessful  3518123091307005509 2019-07-25 11:28:47    248\n",
              "3              CartScreenAppear  3518123091307005509 2019-07-25 11:28:47    248\n",
              "4       PaymentScreenSuccessful  6217807653094995999 2019-07-25 11:48:42    248\n",
              "...                         ...                  ...                 ...    ...\n",
              "244121         MainScreenAppear  4599628364049201812 2019-08-07 21:12:25    247\n",
              "244122         MainScreenAppear  5849806612437486590 2019-08-07 21:13:59    246\n",
              "244123         MainScreenAppear  5746969938801999050 2019-08-07 21:14:43    246\n",
              "244124         MainScreenAppear  5746969938801999050 2019-08-07 21:14:58    246\n",
              "244125       OffersScreenAppear  5746969938801999050 2019-08-07 21:15:17    246\n",
              "\n",
              "[244126 rows x 4 columns]"
            ]
          },
          "metadata": {
            "tags": []
          },
          "execution_count": 4
        }
      ]
    },
    {
      "cell_type": "markdown",
      "metadata": {
        "id": "lWT0gA7zd0WM"
      },
      "source": [
        "Проверим датасет на пропуски."
      ]
    },
    {
      "cell_type": "code",
      "metadata": {
        "colab": {
          "base_uri": "https://localhost:8080/"
        },
        "id": "jwPuVD75d0WN",
        "outputId": "ac4f9909-c017-41b7-d652-bef3ab968af4"
      },
      "source": [
        "data.isna().sum()"
      ],
      "execution_count": null,
      "outputs": [
        {
          "output_type": "execute_result",
          "data": {
            "text/plain": [
              "event_name    0\n",
              "user_id       0\n",
              "event_time    0\n",
              "group         0\n",
              "dtype: int64"
            ]
          },
          "metadata": {
            "tags": []
          },
          "execution_count": 5
        }
      ]
    },
    {
      "cell_type": "markdown",
      "metadata": {
        "id": "WOQbi5Cfd0WP"
      },
      "source": [
        "Проверим на дубликаты."
      ]
    },
    {
      "cell_type": "code",
      "metadata": {
        "colab": {
          "base_uri": "https://localhost:8080/"
        },
        "id": "K3TjHyzed0WQ",
        "outputId": "077617cc-c2c2-467c-d09f-9291e70566b2"
      },
      "source": [
        "data.duplicated().sum()"
      ],
      "execution_count": null,
      "outputs": [
        {
          "output_type": "execute_result",
          "data": {
            "text/plain": [
              "413"
            ]
          },
          "metadata": {
            "tags": []
          },
          "execution_count": 6
        }
      ]
    },
    {
      "cell_type": "markdown",
      "metadata": {
        "id": "41tqJsxBd0WR"
      },
      "source": [
        "Удалим дубликаты."
      ]
    },
    {
      "cell_type": "code",
      "metadata": {
        "id": "eXbiNsepd0WS"
      },
      "source": [
        "data = data.drop_duplicates()"
      ],
      "execution_count": null,
      "outputs": []
    },
    {
      "cell_type": "markdown",
      "metadata": {
        "id": "qJtmKu3Ld0WT"
      },
      "source": [
        "Создадим столбцы даты.\n"
      ]
    },
    {
      "cell_type": "code",
      "metadata": {
        "colab": {
          "base_uri": "https://localhost:8080/",
          "height": 419
        },
        "id": "ksVHjnB4d0WU",
        "outputId": "d4efa179-1839-455b-8c86-a39a4f568a8f"
      },
      "source": [
        "data['date'] = pd.to_datetime(data['event_time'].dt.date).dt.strftime('%Y-%m-%d')\n",
        "data"
      ],
      "execution_count": null,
      "outputs": [
        {
          "output_type": "execute_result",
          "data": {
            "text/html": [
              "<div>\n",
              "<style scoped>\n",
              "    .dataframe tbody tr th:only-of-type {\n",
              "        vertical-align: middle;\n",
              "    }\n",
              "\n",
              "    .dataframe tbody tr th {\n",
              "        vertical-align: top;\n",
              "    }\n",
              "\n",
              "    .dataframe thead th {\n",
              "        text-align: right;\n",
              "    }\n",
              "</style>\n",
              "<table border=\"1\" class=\"dataframe\">\n",
              "  <thead>\n",
              "    <tr style=\"text-align: right;\">\n",
              "      <th></th>\n",
              "      <th>event_name</th>\n",
              "      <th>user_id</th>\n",
              "      <th>event_time</th>\n",
              "      <th>group</th>\n",
              "      <th>date</th>\n",
              "    </tr>\n",
              "  </thead>\n",
              "  <tbody>\n",
              "    <tr>\n",
              "      <th>0</th>\n",
              "      <td>MainScreenAppear</td>\n",
              "      <td>4575588528974610257</td>\n",
              "      <td>2019-07-25 04:43:36</td>\n",
              "      <td>246</td>\n",
              "      <td>2019-07-25</td>\n",
              "    </tr>\n",
              "    <tr>\n",
              "      <th>1</th>\n",
              "      <td>MainScreenAppear</td>\n",
              "      <td>7416695313311560658</td>\n",
              "      <td>2019-07-25 11:11:42</td>\n",
              "      <td>246</td>\n",
              "      <td>2019-07-25</td>\n",
              "    </tr>\n",
              "    <tr>\n",
              "      <th>2</th>\n",
              "      <td>PaymentScreenSuccessful</td>\n",
              "      <td>3518123091307005509</td>\n",
              "      <td>2019-07-25 11:28:47</td>\n",
              "      <td>248</td>\n",
              "      <td>2019-07-25</td>\n",
              "    </tr>\n",
              "    <tr>\n",
              "      <th>3</th>\n",
              "      <td>CartScreenAppear</td>\n",
              "      <td>3518123091307005509</td>\n",
              "      <td>2019-07-25 11:28:47</td>\n",
              "      <td>248</td>\n",
              "      <td>2019-07-25</td>\n",
              "    </tr>\n",
              "    <tr>\n",
              "      <th>4</th>\n",
              "      <td>PaymentScreenSuccessful</td>\n",
              "      <td>6217807653094995999</td>\n",
              "      <td>2019-07-25 11:48:42</td>\n",
              "      <td>248</td>\n",
              "      <td>2019-07-25</td>\n",
              "    </tr>\n",
              "    <tr>\n",
              "      <th>...</th>\n",
              "      <td>...</td>\n",
              "      <td>...</td>\n",
              "      <td>...</td>\n",
              "      <td>...</td>\n",
              "      <td>...</td>\n",
              "    </tr>\n",
              "    <tr>\n",
              "      <th>244121</th>\n",
              "      <td>MainScreenAppear</td>\n",
              "      <td>4599628364049201812</td>\n",
              "      <td>2019-08-07 21:12:25</td>\n",
              "      <td>247</td>\n",
              "      <td>2019-08-07</td>\n",
              "    </tr>\n",
              "    <tr>\n",
              "      <th>244122</th>\n",
              "      <td>MainScreenAppear</td>\n",
              "      <td>5849806612437486590</td>\n",
              "      <td>2019-08-07 21:13:59</td>\n",
              "      <td>246</td>\n",
              "      <td>2019-08-07</td>\n",
              "    </tr>\n",
              "    <tr>\n",
              "      <th>244123</th>\n",
              "      <td>MainScreenAppear</td>\n",
              "      <td>5746969938801999050</td>\n",
              "      <td>2019-08-07 21:14:43</td>\n",
              "      <td>246</td>\n",
              "      <td>2019-08-07</td>\n",
              "    </tr>\n",
              "    <tr>\n",
              "      <th>244124</th>\n",
              "      <td>MainScreenAppear</td>\n",
              "      <td>5746969938801999050</td>\n",
              "      <td>2019-08-07 21:14:58</td>\n",
              "      <td>246</td>\n",
              "      <td>2019-08-07</td>\n",
              "    </tr>\n",
              "    <tr>\n",
              "      <th>244125</th>\n",
              "      <td>OffersScreenAppear</td>\n",
              "      <td>5746969938801999050</td>\n",
              "      <td>2019-08-07 21:15:17</td>\n",
              "      <td>246</td>\n",
              "      <td>2019-08-07</td>\n",
              "    </tr>\n",
              "  </tbody>\n",
              "</table>\n",
              "<p>243713 rows × 5 columns</p>\n",
              "</div>"
            ],
            "text/plain": [
              "                     event_name              user_id  ... group        date\n",
              "0              MainScreenAppear  4575588528974610257  ...   246  2019-07-25\n",
              "1              MainScreenAppear  7416695313311560658  ...   246  2019-07-25\n",
              "2       PaymentScreenSuccessful  3518123091307005509  ...   248  2019-07-25\n",
              "3              CartScreenAppear  3518123091307005509  ...   248  2019-07-25\n",
              "4       PaymentScreenSuccessful  6217807653094995999  ...   248  2019-07-25\n",
              "...                         ...                  ...  ...   ...         ...\n",
              "244121         MainScreenAppear  4599628364049201812  ...   247  2019-08-07\n",
              "244122         MainScreenAppear  5849806612437486590  ...   246  2019-08-07\n",
              "244123         MainScreenAppear  5746969938801999050  ...   246  2019-08-07\n",
              "244124         MainScreenAppear  5746969938801999050  ...   246  2019-08-07\n",
              "244125       OffersScreenAppear  5746969938801999050  ...   246  2019-08-07\n",
              "\n",
              "[243713 rows x 5 columns]"
            ]
          },
          "metadata": {
            "tags": []
          },
          "execution_count": 8
        }
      ]
    },
    {
      "cell_type": "markdown",
      "metadata": {
        "id": "N2BNuD7td0WV"
      },
      "source": [
        "## Анализ датасета"
      ]
    },
    {
      "cell_type": "markdown",
      "metadata": {
        "id": "ZT9tJlaVd0WW"
      },
      "source": [
        "### Сколько всего событий в логе?"
      ]
    },
    {
      "cell_type": "code",
      "metadata": {
        "colab": {
          "base_uri": "https://localhost:8080/"
        },
        "id": "KJw2l8YHd0WW",
        "outputId": "d0c88fc9-6f25-4907-ec66-831445aedb41"
      },
      "source": [
        "print('Всего в логе {} событий.'.format(data['user_id'].count()))"
      ],
      "execution_count": null,
      "outputs": [
        {
          "output_type": "stream",
          "text": [
            "Всего в логе 243713 событий.\n"
          ],
          "name": "stdout"
        }
      ]
    },
    {
      "cell_type": "markdown",
      "metadata": {
        "id": "AAMWeeO-d0WX"
      },
      "source": [
        "### Сколько всего пользователей в логе?"
      ]
    },
    {
      "cell_type": "code",
      "metadata": {
        "colab": {
          "base_uri": "https://localhost:8080/"
        },
        "id": "kjeI_QUud0WY",
        "outputId": "5773de52-9f0b-4762-ec90-66daf8ba6137"
      },
      "source": [
        "print('Всего в логе {} пользователей.'.format(data['user_id'].nunique()))"
      ],
      "execution_count": null,
      "outputs": [
        {
          "output_type": "stream",
          "text": [
            "Всего в логе 7551 пользователей.\n"
          ],
          "name": "stdout"
        }
      ]
    },
    {
      "cell_type": "markdown",
      "metadata": {
        "id": "_UpbEpORd0WZ"
      },
      "source": [
        "### Сколько в среднем событий приходится на пользователя?"
      ]
    },
    {
      "cell_type": "code",
      "metadata": {
        "colab": {
          "base_uri": "https://localhost:8080/"
        },
        "id": "AvP6DM9zd0Wa",
        "outputId": "09b7ec10-4435-4015-bb52-279103157fe7"
      },
      "source": [
        "print('Всего в логе {} событий приходится в среднем на каждого пользователя.'.format(int(data.groupby('user_id')['event_name'].count().mean())))"
      ],
      "execution_count": null,
      "outputs": [
        {
          "output_type": "stream",
          "text": [
            "Всего в логе 32 событий приходится в среднем на каждого пользователя.\n"
          ],
          "name": "stdout"
        }
      ]
    },
    {
      "cell_type": "markdown",
      "metadata": {
        "id": "chjiwHDPd0Wb"
      },
      "source": [
        "### Выясним, данными за какой период мы располагаем."
      ]
    },
    {
      "cell_type": "code",
      "metadata": {
        "colab": {
          "base_uri": "https://localhost:8080/"
        },
        "id": "yqMpeTCdd0Wc",
        "outputId": "23dfe5d1-cdc3-42fa-daa0-b75735c61e8f"
      },
      "source": [
        "print('Мы распологаем данными за период с {} по {}.'.format(data['date'].min(), data['date'].max()))"
      ],
      "execution_count": null,
      "outputs": [
        {
          "output_type": "stream",
          "text": [
            "Мы распологаем данными за период с 2019-07-25 по 2019-08-07.\n"
          ],
          "name": "stdout"
        }
      ]
    },
    {
      "cell_type": "markdown",
      "metadata": {
        "id": "60Fuzy34d0Wd"
      },
      "source": [
        "Построим гистограмму по дате и времени."
      ]
    },
    {
      "cell_type": "code",
      "metadata": {
        "colab": {
          "base_uri": "https://localhost:8080/"
        },
        "id": "vpVkH8LQd0We",
        "scrolled": false,
        "outputId": "025063e5-4e0a-492e-898e-08ce9accd483"
      },
      "source": [
        "plt.figure(figsize=(20, 10))\n",
        "data['event_time'].hist(bins=300)\n",
        "plt.title('Данные в логе')\n",
        "plt.xlabel('Дата')\n",
        "plt.ylabel('Кол-во событий')\n",
        "plt.show()"
      ],
      "execution_count": null,
      "outputs": [
        {
          "output_type": "display_data",
          "data": {
            "image/png": "[encoded data removed]",
            "text/plain": [
              "<Figure size 1440x720 with 1 Axes>"
            ]
          },
          "metadata": {
            "tags": []
          }
        }
      ]
    },
    {
      "cell_type": "code",
      "metadata": {
        "colab": {
          "base_uri": "https://localhost:8080/"
        },
        "id": "ADcINtvCd0Wf",
        "outputId": "adbd127b-5af8-4623-e341-a11197707408"
      },
      "source": [
        "data.groupby('date').agg({'user_id': 'count'})"
      ],
      "execution_count": null,
      "outputs": [
        {
          "output_type": "execute_result",
          "data": {
            "text/html": [
              "<div>\n",
              "<style scoped>\n",
              "    .dataframe tbody tr th:only-of-type {\n",
              "        vertical-align: middle;\n",
              "    }\n",
              "\n",
              "    .dataframe tbody tr th {\n",
              "        vertical-align: top;\n",
              "    }\n",
              "\n",
              "    .dataframe thead th {\n",
              "        text-align: right;\n",
              "    }\n",
              "</style>\n",
              "<table border=\"1\" class=\"dataframe\">\n",
              "  <thead>\n",
              "    <tr style=\"text-align: right;\">\n",
              "      <th></th>\n",
              "      <th>user_id</th>\n",
              "    </tr>\n",
              "    <tr>\n",
              "      <th>date</th>\n",
              "      <th></th>\n",
              "    </tr>\n",
              "  </thead>\n",
              "  <tbody>\n",
              "    <tr>\n",
              "      <th>2019-07-25</th>\n",
              "      <td>9</td>\n",
              "    </tr>\n",
              "    <tr>\n",
              "      <th>2019-07-26</th>\n",
              "      <td>31</td>\n",
              "    </tr>\n",
              "    <tr>\n",
              "      <th>2019-07-27</th>\n",
              "      <td>55</td>\n",
              "    </tr>\n",
              "    <tr>\n",
              "      <th>2019-07-28</th>\n",
              "      <td>105</td>\n",
              "    </tr>\n",
              "    <tr>\n",
              "      <th>2019-07-29</th>\n",
              "      <td>184</td>\n",
              "    </tr>\n",
              "    <tr>\n",
              "      <th>2019-07-30</th>\n",
              "      <td>412</td>\n",
              "    </tr>\n",
              "    <tr>\n",
              "      <th>2019-07-31</th>\n",
              "      <td>2030</td>\n",
              "    </tr>\n",
              "    <tr>\n",
              "      <th>2019-08-01</th>\n",
              "      <td>36141</td>\n",
              "    </tr>\n",
              "    <tr>\n",
              "      <th>2019-08-02</th>\n",
              "      <td>35554</td>\n",
              "    </tr>\n",
              "    <tr>\n",
              "      <th>2019-08-03</th>\n",
              "      <td>33282</td>\n",
              "    </tr>\n",
              "    <tr>\n",
              "      <th>2019-08-04</th>\n",
              "      <td>32968</td>\n",
              "    </tr>\n",
              "    <tr>\n",
              "      <th>2019-08-05</th>\n",
              "      <td>36058</td>\n",
              "    </tr>\n",
              "    <tr>\n",
              "      <th>2019-08-06</th>\n",
              "      <td>35788</td>\n",
              "    </tr>\n",
              "    <tr>\n",
              "      <th>2019-08-07</th>\n",
              "      <td>31096</td>\n",
              "    </tr>\n",
              "  </tbody>\n",
              "</table>\n",
              "</div>"
            ],
            "text/plain": [
              "            user_id\n",
              "date               \n",
              "2019-07-25        9\n",
              "2019-07-26       31\n",
              "2019-07-27       55\n",
              "2019-07-28      105\n",
              "2019-07-29      184\n",
              "2019-07-30      412\n",
              "2019-07-31     2030\n",
              "2019-08-01    36141\n",
              "2019-08-02    35554\n",
              "2019-08-03    33282\n",
              "2019-08-04    32968\n",
              "2019-08-05    36058\n",
              "2019-08-06    35788\n",
              "2019-08-07    31096"
            ]
          },
          "metadata": {
            "tags": []
          },
          "execution_count": 14
        }
      ]
    },
    {
      "cell_type": "markdown",
      "metadata": {
        "id": "didVKYHyd0Wg"
      },
      "source": [
        "И гистограмма, и сгруппированная таблица показывают, что полные данные начинают появляться с 1 августа. Возьмём этот день за отправную точку. Таким образом, наш период будет отсчитываться с 1 по 7 августа 2019 года. Отбросим старые данные."
      ]
    },
    {
      "cell_type": "code",
      "metadata": {
        "colab": {
          "base_uri": "https://localhost:8080/"
        },
        "id": "z5EPRexzd0Wh",
        "outputId": "15c7cf89-2e30-4072-d13e-5741cb017716"
      },
      "source": [
        "data_new = data[data['date'] > '2019-07-31']\n",
        "data_new"
      ],
      "execution_count": null,
      "outputs": [
        {
          "output_type": "execute_result",
          "data": {
            "text/html": [
              "<div>\n",
              "<style scoped>\n",
              "    .dataframe tbody tr th:only-of-type {\n",
              "        vertical-align: middle;\n",
              "    }\n",
              "\n",
              "    .dataframe tbody tr th {\n",
              "        vertical-align: top;\n",
              "    }\n",
              "\n",
              "    .dataframe thead th {\n",
              "        text-align: right;\n",
              "    }\n",
              "</style>\n",
              "<table border=\"1\" class=\"dataframe\">\n",
              "  <thead>\n",
              "    <tr style=\"text-align: right;\">\n",
              "      <th></th>\n",
              "      <th>event_name</th>\n",
              "      <th>user_id</th>\n",
              "      <th>event_time</th>\n",
              "      <th>group</th>\n",
              "      <th>date</th>\n",
              "    </tr>\n",
              "  </thead>\n",
              "  <tbody>\n",
              "    <tr>\n",
              "      <th>2828</th>\n",
              "      <td>Tutorial</td>\n",
              "      <td>3737462046622621720</td>\n",
              "      <td>2019-08-01 00:07:28</td>\n",
              "      <td>246</td>\n",
              "      <td>2019-08-01</td>\n",
              "    </tr>\n",
              "    <tr>\n",
              "      <th>2829</th>\n",
              "      <td>MainScreenAppear</td>\n",
              "      <td>3737462046622621720</td>\n",
              "      <td>2019-08-01 00:08:00</td>\n",
              "      <td>246</td>\n",
              "      <td>2019-08-01</td>\n",
              "    </tr>\n",
              "    <tr>\n",
              "      <th>2830</th>\n",
              "      <td>MainScreenAppear</td>\n",
              "      <td>3737462046622621720</td>\n",
              "      <td>2019-08-01 00:08:55</td>\n",
              "      <td>246</td>\n",
              "      <td>2019-08-01</td>\n",
              "    </tr>\n",
              "    <tr>\n",
              "      <th>2831</th>\n",
              "      <td>OffersScreenAppear</td>\n",
              "      <td>3737462046622621720</td>\n",
              "      <td>2019-08-01 00:08:58</td>\n",
              "      <td>246</td>\n",
              "      <td>2019-08-01</td>\n",
              "    </tr>\n",
              "    <tr>\n",
              "      <th>2832</th>\n",
              "      <td>MainScreenAppear</td>\n",
              "      <td>1433840883824088890</td>\n",
              "      <td>2019-08-01 00:08:59</td>\n",
              "      <td>247</td>\n",
              "      <td>2019-08-01</td>\n",
              "    </tr>\n",
              "    <tr>\n",
              "      <th>...</th>\n",
              "      <td>...</td>\n",
              "      <td>...</td>\n",
              "      <td>...</td>\n",
              "      <td>...</td>\n",
              "      <td>...</td>\n",
              "    </tr>\n",
              "    <tr>\n",
              "      <th>244121</th>\n",
              "      <td>MainScreenAppear</td>\n",
              "      <td>4599628364049201812</td>\n",
              "      <td>2019-08-07 21:12:25</td>\n",
              "      <td>247</td>\n",
              "      <td>2019-08-07</td>\n",
              "    </tr>\n",
              "    <tr>\n",
              "      <th>244122</th>\n",
              "      <td>MainScreenAppear</td>\n",
              "      <td>5849806612437486590</td>\n",
              "      <td>2019-08-07 21:13:59</td>\n",
              "      <td>246</td>\n",
              "      <td>2019-08-07</td>\n",
              "    </tr>\n",
              "    <tr>\n",
              "      <th>244123</th>\n",
              "      <td>MainScreenAppear</td>\n",
              "      <td>5746969938801999050</td>\n",
              "      <td>2019-08-07 21:14:43</td>\n",
              "      <td>246</td>\n",
              "      <td>2019-08-07</td>\n",
              "    </tr>\n",
              "    <tr>\n",
              "      <th>244124</th>\n",
              "      <td>MainScreenAppear</td>\n",
              "      <td>5746969938801999050</td>\n",
              "      <td>2019-08-07 21:14:58</td>\n",
              "      <td>246</td>\n",
              "      <td>2019-08-07</td>\n",
              "    </tr>\n",
              "    <tr>\n",
              "      <th>244125</th>\n",
              "      <td>OffersScreenAppear</td>\n",
              "      <td>5746969938801999050</td>\n",
              "      <td>2019-08-07 21:15:17</td>\n",
              "      <td>246</td>\n",
              "      <td>2019-08-07</td>\n",
              "    </tr>\n",
              "  </tbody>\n",
              "</table>\n",
              "<p>240887 rows × 5 columns</p>\n",
              "</div>"
            ],
            "text/plain": [
              "                event_name              user_id  ... group        date\n",
              "2828              Tutorial  3737462046622621720  ...   246  2019-08-01\n",
              "2829      MainScreenAppear  3737462046622621720  ...   246  2019-08-01\n",
              "2830      MainScreenAppear  3737462046622621720  ...   246  2019-08-01\n",
              "2831    OffersScreenAppear  3737462046622621720  ...   246  2019-08-01\n",
              "2832      MainScreenAppear  1433840883824088890  ...   247  2019-08-01\n",
              "...                    ...                  ...  ...   ...         ...\n",
              "244121    MainScreenAppear  4599628364049201812  ...   247  2019-08-07\n",
              "244122    MainScreenAppear  5849806612437486590  ...   246  2019-08-07\n",
              "244123    MainScreenAppear  5746969938801999050  ...   246  2019-08-07\n",
              "244124    MainScreenAppear  5746969938801999050  ...   246  2019-08-07\n",
              "244125  OffersScreenAppear  5746969938801999050  ...   246  2019-08-07\n",
              "\n",
              "[240887 rows x 5 columns]"
            ]
          },
          "metadata": {
            "tags": []
          },
          "execution_count": 15
        }
      ]
    },
    {
      "cell_type": "markdown",
      "metadata": {
        "id": "w5H8R0bld0Wi"
      },
      "source": [
        "### Много ли событий и пользователей мы потеряли, отбросив старые данные?"
      ]
    },
    {
      "cell_type": "code",
      "metadata": {
        "colab": {
          "base_uri": "https://localhost:8080/"
        },
        "id": "wgumQNWZd0Wj",
        "outputId": "ba31f2b1-18e9-47e9-fe85-d381226e32aa"
      },
      "source": [
        "print('Всего в логе {} событий - на {} событий меньше, чем в изначальном датасете.'\n",
        "      .format(data_new['user_id'].count(), (data['user_id'].count() - data_new['user_id'].count())))\n",
        "\n",
        "print('Всего в логе {} пользователей - на {} пользователей меньше, чем в изначальном датасете.'\n",
        "      .format(data['user_id'].nunique(), (data['user_id'].nunique() - data_new['user_id'].nunique())))\n",
        "\n",
        "print('Всего в логе {} событий приходится на пользователя.'.format(int(data_new.groupby('user_id')['event_name'].count().mean())))"
      ],
      "execution_count": null,
      "outputs": [
        {
          "output_type": "stream",
          "text": [
            "Всего в логе 240887 событий - на 2826 событий меньше, чем в изначальном датасете.\n",
            "Всего в логе 7551 пользователей - на 17 пользователей меньше, чем в изначальном датасете.\n",
            "Всего в логе 31 событий приходится на пользователя.\n"
          ],
          "name": "stdout"
        }
      ]
    },
    {
      "cell_type": "markdown",
      "metadata": {
        "id": "AW7P0eJbd0Wk"
      },
      "source": [
        "### Проверим, что у есть пользователи из всех трёх экспериментальных групп."
      ]
    },
    {
      "cell_type": "code",
      "metadata": {
        "colab": {
          "base_uri": "https://localhost:8080/"
        },
        "id": "y3_vBuhOd0Wl",
        "outputId": "b06a1fc4-db6c-4d17-a775-708d2fa449c4"
      },
      "source": [
        "data_new['group'].unique()"
      ],
      "execution_count": null,
      "outputs": [
        {
          "output_type": "execute_result",
          "data": {
            "text/plain": [
              "array([246, 247, 248])"
            ]
          },
          "metadata": {
            "tags": []
          },
          "execution_count": 17
        }
      ]
    },
    {
      "cell_type": "markdown",
      "metadata": {
        "id": "poMtbAcOd0Wm"
      },
      "source": [
        "Если есть в датасете все три значения в столбце group, значит, есть и пользователи, к которым они относятся."
      ]
    },
    {
      "cell_type": "markdown",
      "metadata": {
        "id": "30UqbBQed0Wn"
      },
      "source": [
        "## Изучим воронку событий\n"
      ]
    },
    {
      "cell_type": "markdown",
      "metadata": {
        "id": "SMapmW7nd0Wn"
      },
      "source": [
        "### Посмотрим, какие события есть в логах, как часто они встречаются."
      ]
    },
    {
      "cell_type": "markdown",
      "metadata": {
        "id": "1FvDCAnhd0Wo"
      },
      "source": [
        "Осуществим группировку таблицы и построим график-воронку."
      ]
    },
    {
      "cell_type": "code",
      "metadata": {
        "colab": {
          "base_uri": "https://localhost:8080/",
          "height": 204
        },
        "id": "BsTzROKhd0Wp",
        "outputId": "539b3c14-a09b-4eea-cba5-9236a624dd98"
      },
      "source": [
        "events = data_new.groupby('event_name')['user_id'].count().reset_index().sort_values(by='user_id', ascending=False)\n",
        "events"
      ],
      "execution_count": null,
      "outputs": [
        {
          "output_type": "execute_result",
          "data": {
            "text/html": [
              "<div>\n",
              "<style scoped>\n",
              "    .dataframe tbody tr th:only-of-type {\n",
              "        vertical-align: middle;\n",
              "    }\n",
              "\n",
              "    .dataframe tbody tr th {\n",
              "        vertical-align: top;\n",
              "    }\n",
              "\n",
              "    .dataframe thead th {\n",
              "        text-align: right;\n",
              "    }\n",
              "</style>\n",
              "<table border=\"1\" class=\"dataframe\">\n",
              "  <thead>\n",
              "    <tr style=\"text-align: right;\">\n",
              "      <th></th>\n",
              "      <th>event_name</th>\n",
              "      <th>user_id</th>\n",
              "    </tr>\n",
              "  </thead>\n",
              "  <tbody>\n",
              "    <tr>\n",
              "      <th>1</th>\n",
              "      <td>MainScreenAppear</td>\n",
              "      <td>117328</td>\n",
              "    </tr>\n",
              "    <tr>\n",
              "      <th>2</th>\n",
              "      <td>OffersScreenAppear</td>\n",
              "      <td>46333</td>\n",
              "    </tr>\n",
              "    <tr>\n",
              "      <th>0</th>\n",
              "      <td>CartScreenAppear</td>\n",
              "      <td>42303</td>\n",
              "    </tr>\n",
              "    <tr>\n",
              "      <th>3</th>\n",
              "      <td>PaymentScreenSuccessful</td>\n",
              "      <td>33918</td>\n",
              "    </tr>\n",
              "    <tr>\n",
              "      <th>4</th>\n",
              "      <td>Tutorial</td>\n",
              "      <td>1005</td>\n",
              "    </tr>\n",
              "  </tbody>\n",
              "</table>\n",
              "</div>"
            ],
            "text/plain": [
              "                event_name  user_id\n",
              "1         MainScreenAppear   117328\n",
              "2       OffersScreenAppear    46333\n",
              "0         CartScreenAppear    42303\n",
              "3  PaymentScreenSuccessful    33918\n",
              "4                 Tutorial     1005"
            ]
          },
          "metadata": {
            "tags": []
          },
          "execution_count": 18
        }
      ]
    },
    {
      "cell_type": "code",
      "metadata": {
        "colab": {
          "background_save": true,
          "base_uri": "https://localhost:8080/",
          "height": 542
        },
        "id": "lNkV9yTsd0Wq",
        "outputId": "fc155935-d3d1-432c-8f92-a9f985bfcda1"
      },
      "source": [
        "fig = go.Figure()\n",
        "fig.add_trace(go.Funnel(\n",
        "    y = events['event_name'],\n",
        "    x = events['user_id'],\n",
        "    textinfo = \"value+percent initial\"))\n",
        "fig.update_layout(title=\"Частота событий в логе\",\n",
        "                  yaxis_title=\"Шаги\",)\n",
        "fig.show()"
      ],
      "execution_count": null,
      "outputs": [
        {
          "output_type": "display_data",
          "data": {
            "text/html": [
              "<html>\n",
              "<head><meta charset=\"utf-8\" /></head>\n",
              "<body>\n",
              "    <div>\n",
              "            <script src=\"https://cdnjs.cloudflare.com/ajax/libs/mathjax/2.7.5/MathJax.js?config=TeX-AMS-MML_SVG\"></script><script type=\"text/javascript\">if (window.MathJax) {MathJax.Hub.Config({SVG: {font: \"STIX-Web\"}});}</script>\n",
              "                <script type=\"text/javascript\">window.PlotlyConfig = {MathJaxConfig: 'local'};</script>\n",
              "        <script src=\"https://cdn.plot.ly/plotly-latest.min.js\"></script>    \n",
              "            <div id=\"0d7c31b3-690b-47e8-be35-89cfa9571ecf\" class=\"plotly-graph-div\" style=\"height:525px; width:100%;\"></div>\n",
              "            <script type=\"text/javascript\">\n",
              "                \n",
              "                    window.PLOTLYENV=window.PLOTLYENV || {};\n",
              "                    \n",
              "                if (document.getElementById(\"0d7c31b3-690b-47e8-be35-89cfa9571ecf\")) {\n",
              "                    Plotly.newPlot(\n",
              "                        '0d7c31b3-690b-47e8-be35-89cfa9571ecf',\n",
              "                        [{\"textinfo\": \"value+percent initial\", \"type\": \"funnel\", \"x\": [117328, 46333, 42303, 33918, 1005], \"y\": [\"MainScreenAppear\", \"OffersScreenAppear\", \"CartScreenAppear\", \"PaymentScreenSuccessful\", \"Tutorial\"]}],\n",
              "                        {\"template\": {\"data\": {\"bar\": [{\"error_x\": {\"color\": \"#2a3f5f\"}, \"error_y\": {\"color\": \"#2a3f5f\"}, \"marker\": {\"line\": {\"color\": \"#E5ECF6\", \"width\": 0.5}}, \"type\": \"bar\"}], \"barpolar\": [{\"marker\": {\"line\": {\"color\": \"#E5ECF6\", \"width\": 0.5}}, \"type\": \"barpolar\"}], \"carpet\": [{\"aaxis\": {\"endlinecolor\": \"#2a3f5f\", \"gridcolor\": \"white\", \"linecolor\": \"white\", \"minorgridcolor\": \"white\", \"startlinecolor\": \"#2a3f5f\"}, \"baxis\": {\"endlinecolor\": \"#2a3f5f\", \"gridcolor\": \"white\", \"linecolor\": \"white\", \"minorgridcolor\": \"white\", \"startlinecolor\": \"#2a3f5f\"}, \"type\": \"carpet\"}], \"choropleth\": [{\"colorbar\": {\"outlinewidth\": 0, \"ticks\": \"\"}, \"type\": \"choropleth\"}], \"contour\": [{\"colorbar\": {\"outlinewidth\": 0, \"ticks\": \"\"}, \"colorscale\": [[0.0, \"#0d0887\"], [0.1111111111111111, \"#46039f\"], [0.2222222222222222, \"#7201a8\"], [0.3333333333333333, \"#9c179e\"], [0.4444444444444444, \"#bd3786\"], [0.5555555555555556, \"#d8576b\"], [0.6666666666666666, \"#ed7953\"], [0.7777777777777778, \"#fb9f3a\"], [0.8888888888888888, \"#fdca26\"], [1.0, \"#f0f921\"]], \"type\": \"contour\"}], \"contourcarpet\": [{\"colorbar\": {\"outlinewidth\": 0, \"ticks\": \"\"}, \"type\": \"contourcarpet\"}], \"heatmap\": [{\"colorbar\": {\"outlinewidth\": 0, \"ticks\": \"\"}, \"colorscale\": [[0.0, \"#0d0887\"], [0.1111111111111111, \"#46039f\"], [0.2222222222222222, \"#7201a8\"], [0.3333333333333333, \"#9c179e\"], [0.4444444444444444, \"#bd3786\"], [0.5555555555555556, \"#d8576b\"], [0.6666666666666666, \"#ed7953\"], [0.7777777777777778, \"#fb9f3a\"], [0.8888888888888888, \"#fdca26\"], [1.0, \"#f0f921\"]], \"type\": \"heatmap\"}], \"heatmapgl\": [{\"colorbar\": {\"outlinewidth\": 0, \"ticks\": \"\"}, \"colorscale\": [[0.0, \"#0d0887\"], [0.1111111111111111, \"#46039f\"], [0.2222222222222222, \"#7201a8\"], [0.3333333333333333, \"#9c179e\"], [0.4444444444444444, \"#bd3786\"], [0.5555555555555556, \"#d8576b\"], [0.6666666666666666, \"#ed7953\"], [0.7777777777777778, \"#fb9f3a\"], [0.8888888888888888, \"#fdca26\"], [1.0, \"#f0f921\"]], \"type\": \"heatmapgl\"}], \"histogram\": [{\"marker\": {\"colorbar\": {\"outlinewidth\": 0, \"ticks\": \"\"}}, \"type\": \"histogram\"}], \"histogram2d\": [{\"colorbar\": {\"outlinewidth\": 0, \"ticks\": \"\"}, \"colorscale\": [[0.0, \"#0d0887\"], [0.1111111111111111, \"#46039f\"], [0.2222222222222222, \"#7201a8\"], [0.3333333333333333, \"#9c179e\"], [0.4444444444444444, \"#bd3786\"], [0.5555555555555556, \"#d8576b\"], [0.6666666666666666, \"#ed7953\"], [0.7777777777777778, \"#fb9f3a\"], [0.8888888888888888, \"#fdca26\"], [1.0, \"#f0f921\"]], \"type\": \"histogram2d\"}], \"histogram2dcontour\": [{\"colorbar\": {\"outlinewidth\": 0, \"ticks\": \"\"}, \"colorscale\": [[0.0, \"#0d0887\"], [0.1111111111111111, \"#46039f\"], [0.2222222222222222, \"#7201a8\"], [0.3333333333333333, \"#9c179e\"], [0.4444444444444444, \"#bd3786\"], [0.5555555555555556, \"#d8576b\"], [0.6666666666666666, \"#ed7953\"], [0.7777777777777778, \"#fb9f3a\"], [0.8888888888888888, \"#fdca26\"], [1.0, \"#f0f921\"]], \"type\": \"histogram2dcontour\"}], \"mesh3d\": [{\"colorbar\": {\"outlinewidth\": 0, \"ticks\": \"\"}, \"type\": \"mesh3d\"}], \"parcoords\": [{\"line\": {\"colorbar\": {\"outlinewidth\": 0, \"ticks\": \"\"}}, \"type\": \"parcoords\"}], \"pie\": [{\"automargin\": true, \"type\": \"pie\"}], \"scatter\": [{\"marker\": {\"colorbar\": {\"outlinewidth\": 0, \"ticks\": \"\"}}, \"type\": \"scatter\"}], \"scatter3d\": [{\"line\": {\"colorbar\": {\"outlinewidth\": 0, \"ticks\": \"\"}}, \"marker\": {\"colorbar\": {\"outlinewidth\": 0, \"ticks\": \"\"}}, \"type\": \"scatter3d\"}], \"scattercarpet\": [{\"marker\": {\"colorbar\": {\"outlinewidth\": 0, \"ticks\": \"\"}}, \"type\": \"scattercarpet\"}], \"scattergeo\": [{\"marker\": {\"colorbar\": {\"outlinewidth\": 0, \"ticks\": \"\"}}, \"type\": \"scattergeo\"}], \"scattergl\": [{\"marker\": {\"colorbar\": {\"outlinewidth\": 0, \"ticks\": \"\"}}, \"type\": \"scattergl\"}], \"scattermapbox\": [{\"marker\": {\"colorbar\": {\"outlinewidth\": 0, \"ticks\": \"\"}}, \"type\": \"scattermapbox\"}], \"scatterpolar\": [{\"marker\": {\"colorbar\": {\"outlinewidth\": 0, \"ticks\": \"\"}}, \"type\": \"scatterpolar\"}], \"scatterpolargl\": [{\"marker\": {\"colorbar\": {\"outlinewidth\": 0, \"ticks\": \"\"}}, \"type\": \"scatterpolargl\"}], \"scatterternary\": [{\"marker\": {\"colorbar\": {\"outlinewidth\": 0, \"ticks\": \"\"}}, \"type\": \"scatterternary\"}], \"surface\": [{\"colorbar\": {\"outlinewidth\": 0, \"ticks\": \"\"}, \"colorscale\": [[0.0, \"#0d0887\"], [0.1111111111111111, \"#46039f\"], [0.2222222222222222, \"#7201a8\"], [0.3333333333333333, \"#9c179e\"], [0.4444444444444444, \"#bd3786\"], [0.5555555555555556, \"#d8576b\"], [0.6666666666666666, \"#ed7953\"], [0.7777777777777778, \"#fb9f3a\"], [0.8888888888888888, \"#fdca26\"], [1.0, \"#f0f921\"]], \"type\": \"surface\"}], \"table\": [{\"cells\": {\"fill\": {\"color\": \"#EBF0F8\"}, \"line\": {\"color\": \"white\"}}, \"header\": {\"fill\": {\"color\": \"#C8D4E3\"}, \"line\": {\"color\": \"white\"}}, \"type\": \"table\"}]}, \"layout\": {\"annotationdefaults\": {\"arrowcolor\": \"#2a3f5f\", \"arrowhead\": 0, \"arrowwidth\": 1}, \"coloraxis\": {\"colorbar\": {\"outlinewidth\": 0, \"ticks\": \"\"}}, \"colorscale\": {\"diverging\": [[0, \"#8e0152\"], [0.1, \"#c51b7d\"], [0.2, \"#de77ae\"], [0.3, \"#f1b6da\"], [0.4, \"#fde0ef\"], [0.5, \"#f7f7f7\"], [0.6, \"#e6f5d0\"], [0.7, \"#b8e186\"], [0.8, \"#7fbc41\"], [0.9, \"#4d9221\"], [1, \"#276419\"]], \"sequential\": [[0.0, \"#0d0887\"], [0.1111111111111111, \"#46039f\"], [0.2222222222222222, \"#7201a8\"], [0.3333333333333333, \"#9c179e\"], [0.4444444444444444, \"#bd3786\"], [0.5555555555555556, \"#d8576b\"], [0.6666666666666666, \"#ed7953\"], [0.7777777777777778, \"#fb9f3a\"], [0.8888888888888888, \"#fdca26\"], [1.0, \"#f0f921\"]], \"sequentialminus\": [[0.0, \"#0d0887\"], [0.1111111111111111, \"#46039f\"], [0.2222222222222222, \"#7201a8\"], [0.3333333333333333, \"#9c179e\"], [0.4444444444444444, \"#bd3786\"], [0.5555555555555556, \"#d8576b\"], [0.6666666666666666, \"#ed7953\"], [0.7777777777777778, \"#fb9f3a\"], [0.8888888888888888, \"#fdca26\"], [1.0, \"#f0f921\"]]}, \"colorway\": [\"#636efa\", \"#EF553B\", \"#00cc96\", \"#ab63fa\", \"#FFA15A\", \"#19d3f3\", \"#FF6692\", \"#B6E880\", \"#FF97FF\", \"#FECB52\"], \"font\": {\"color\": \"#2a3f5f\"}, \"geo\": {\"bgcolor\": \"white\", \"lakecolor\": \"white\", \"landcolor\": \"#E5ECF6\", \"showlakes\": true, \"showland\": true, \"subunitcolor\": \"white\"}, \"hoverlabel\": {\"align\": \"left\"}, \"hovermode\": \"closest\", \"mapbox\": {\"style\": \"light\"}, \"paper_bgcolor\": \"white\", \"plot_bgcolor\": \"#E5ECF6\", \"polar\": {\"angularaxis\": {\"gridcolor\": \"white\", \"linecolor\": \"white\", \"ticks\": \"\"}, \"bgcolor\": \"#E5ECF6\", \"radialaxis\": {\"gridcolor\": \"white\", \"linecolor\": \"white\", \"ticks\": \"\"}}, \"scene\": {\"xaxis\": {\"backgroundcolor\": \"#E5ECF6\", \"gridcolor\": \"white\", \"gridwidth\": 2, \"linecolor\": \"white\", \"showbackground\": true, \"ticks\": \"\", \"zerolinecolor\": \"white\"}, \"yaxis\": {\"backgroundcolor\": \"#E5ECF6\", \"gridcolor\": \"white\", \"gridwidth\": 2, \"linecolor\": \"white\", \"showbackground\": true, \"ticks\": \"\", \"zerolinecolor\": \"white\"}, \"zaxis\": {\"backgroundcolor\": \"#E5ECF6\", \"gridcolor\": \"white\", \"gridwidth\": 2, \"linecolor\": \"white\", \"showbackground\": true, \"ticks\": \"\", \"zerolinecolor\": \"white\"}}, \"shapedefaults\": {\"line\": {\"color\": \"#2a3f5f\"}}, \"ternary\": {\"aaxis\": {\"gridcolor\": \"white\", \"linecolor\": \"white\", \"ticks\": \"\"}, \"baxis\": {\"gridcolor\": \"white\", \"linecolor\": \"white\", \"ticks\": \"\"}, \"bgcolor\": \"#E5ECF6\", \"caxis\": {\"gridcolor\": \"white\", \"linecolor\": \"white\", \"ticks\": \"\"}}, \"title\": {\"x\": 0.05}, \"xaxis\": {\"automargin\": true, \"gridcolor\": \"white\", \"linecolor\": \"white\", \"ticks\": \"\", \"title\": {\"standoff\": 15}, \"zerolinecolor\": \"white\", \"zerolinewidth\": 2}, \"yaxis\": {\"automargin\": true, \"gridcolor\": \"white\", \"linecolor\": \"white\", \"ticks\": \"\", \"title\": {\"standoff\": 15}, \"zerolinecolor\": \"white\", \"zerolinewidth\": 2}}}, \"title\": {\"text\": \"\\u0427\\u0430\\u0441\\u0442\\u043e\\u0442\\u0430 \\u0441\\u043e\\u0431\\u044b\\u0442\\u0438\\u0439 \\u0432 \\u043b\\u043e\\u0433\\u0435\"}, \"yaxis\": {\"title\": {\"text\": \"\\u0428\\u0430\\u0433\\u0438\"}}},\n",
              "                        {\"responsive\": true}\n",
              "                    ).then(function(){\n",
              "                            \n",
              "var gd = document.getElementById('0d7c31b3-690b-47e8-be35-89cfa9571ecf');\n",
              "var x = new MutationObserver(function (mutations, observer) {{\n",
              "        var display = window.getComputedStyle(gd).display;\n",
              "        if (!display || display === 'none') {{\n",
              "            console.log([gd, 'removed!']);\n",
              "            Plotly.purge(gd);\n",
              "            observer.disconnect();\n",
              "        }}\n",
              "}});\n",
              "\n",
              "// Listen for the removal of the full notebook cells\n",
              "var notebookContainer = gd.closest('#notebook-container');\n",
              "if (notebookContainer) {{\n",
              "    x.observe(notebookContainer, {childList: true});\n",
              "}}\n",
              "\n",
              "// Listen for the clearing of the current output cell\n",
              "var outputEl = gd.closest('.output');\n",
              "if (outputEl) {{\n",
              "    x.observe(outputEl, {childList: true});\n",
              "}}\n",
              "\n",
              "                        })\n",
              "                };\n",
              "                \n",
              "            </script>\n",
              "        </div>\n",
              "</body>\n",
              "</html>"
            ]
          },
          "metadata": {
            "tags": []
          }
        }
      ]
    },
    {
      "cell_type": "markdown",
      "metadata": {
        "id": "D8DyiaOAd0W8"
      },
      "source": [
        "В логе пять событий. Чаще всего встречается событие *MainScreenAppear* (117328 раз), за ним идёт событие *OffersScreenAppear* (46333 раза), после него *CartScreenAppear* (42303 раза), затем *PaymentScreenSuccessful* (33918 раз) и, наконец, *Tutorial* (всего 1005 раз)."
      ]
    },
    {
      "cell_type": "markdown",
      "metadata": {
        "id": "k9LDxOpyd0W9"
      },
      "source": [
        "### Посчитаем, сколько пользователей совершали каждое из этих событий. \n"
      ]
    },
    {
      "cell_type": "code",
      "metadata": {
        "colab": {
          "background_save": true,
          "base_uri": "https://localhost:8080/",
          "height": 204
        },
        "id": "dk7Egx_Td0W-",
        "outputId": "5517abe5-104d-46b0-c94b-5b68f731b9a4"
      },
      "source": [
        "users = data_new.groupby('event_name')['user_id'].nunique().reset_index().sort_values(by='user_id', ascending=False)\n",
        "users['proportion'] = users['user_id'] / 7551\n",
        "users"
      ],
      "execution_count": null,
      "outputs": [
        {
          "output_type": "execute_result",
          "data": {
            "text/html": [
              "<div>\n",
              "<style scoped>\n",
              "    .dataframe tbody tr th:only-of-type {\n",
              "        vertical-align: middle;\n",
              "    }\n",
              "\n",
              "    .dataframe tbody tr th {\n",
              "        vertical-align: top;\n",
              "    }\n",
              "\n",
              "    .dataframe thead th {\n",
              "        text-align: right;\n",
              "    }\n",
              "</style>\n",
              "<table border=\"1\" class=\"dataframe\">\n",
              "  <thead>\n",
              "    <tr style=\"text-align: right;\">\n",
              "      <th></th>\n",
              "      <th>event_name</th>\n",
              "      <th>user_id</th>\n",
              "      <th>proportion</th>\n",
              "    </tr>\n",
              "  </thead>\n",
              "  <tbody>\n",
              "    <tr>\n",
              "      <th>1</th>\n",
              "      <td>MainScreenAppear</td>\n",
              "      <td>7419</td>\n",
              "      <td>0.982519</td>\n",
              "    </tr>\n",
              "    <tr>\n",
              "      <th>2</th>\n",
              "      <td>OffersScreenAppear</td>\n",
              "      <td>4593</td>\n",
              "      <td>0.608264</td>\n",
              "    </tr>\n",
              "    <tr>\n",
              "      <th>0</th>\n",
              "      <td>CartScreenAppear</td>\n",
              "      <td>3734</td>\n",
              "      <td>0.494504</td>\n",
              "    </tr>\n",
              "    <tr>\n",
              "      <th>3</th>\n",
              "      <td>PaymentScreenSuccessful</td>\n",
              "      <td>3539</td>\n",
              "      <td>0.468680</td>\n",
              "    </tr>\n",
              "    <tr>\n",
              "      <th>4</th>\n",
              "      <td>Tutorial</td>\n",
              "      <td>840</td>\n",
              "      <td>0.111244</td>\n",
              "    </tr>\n",
              "  </tbody>\n",
              "</table>\n",
              "</div>"
            ],
            "text/plain": [
              "                event_name  user_id  proportion\n",
              "1         MainScreenAppear     7419    0.982519\n",
              "2       OffersScreenAppear     4593    0.608264\n",
              "0         CartScreenAppear     3734    0.494504\n",
              "3  PaymentScreenSuccessful     3539    0.468680\n",
              "4                 Tutorial      840    0.111244"
            ]
          },
          "metadata": {
            "tags": []
          },
          "execution_count": 0
        }
      ]
    },
    {
      "cell_type": "markdown",
      "metadata": {
        "id": "HteYvbErd0W_"
      },
      "source": [
        "Мы узнали что за всё время пользователи заходили 7419 раз, из них 4593 сделали следующий шаг и добавили товары в заказ. Затем 3734 человек оформили в корзине заказ и 3539 успешно его оплатили. Заглянули в руководство 840 человек. Построим график-воронку и посмотрим ту же информацию в долях."
      ]
    },
    {
      "cell_type": "code",
      "metadata": {
        "colab": {
          "background_save": true,
          "base_uri": "https://localhost:8080/",
          "height": 542
        },
        "id": "4nU-vO22d0XB",
        "scrolled": false,
        "outputId": "85d03027-75d6-474b-aafa-80b5b909e1fb"
      },
      "source": [
        "fig = go.Figure()\n",
        "fig.add_trace(go.Funnel(\n",
        "    y = users['event_name'],\n",
        "    x = users['user_id'],\n",
        "    textinfo = \"value+percent initial\"))\n",
        "fig.update_layout(title=\"Число пользователей в логе\",\n",
        "                  yaxis_title=\"Шаги\",)\n",
        "fig.show()"
      ],
      "execution_count": null,
      "outputs": [
        {
          "output_type": "display_data",
          "data": {
            "text/html": [
              "<html>\n",
              "<head><meta charset=\"utf-8\" /></head>\n",
              "<body>\n",
              "    <div>\n",
              "            <script src=\"https://cdnjs.cloudflare.com/ajax/libs/mathjax/2.7.5/MathJax.js?config=TeX-AMS-MML_SVG\"></script><script type=\"text/javascript\">if (window.MathJax) {MathJax.Hub.Config({SVG: {font: \"STIX-Web\"}});}</script>\n",
              "                <script type=\"text/javascript\">window.PlotlyConfig = {MathJaxConfig: 'local'};</script>\n",
              "        <script src=\"https://cdn.plot.ly/plotly-latest.min.js\"></script>    \n",
              "            <div id=\"7e61b6ea-26cc-4a63-8861-7486ac3e91c8\" class=\"plotly-graph-div\" style=\"height:525px; width:100%;\"></div>\n",
              "            <script type=\"text/javascript\">\n",
              "                \n",
              "                    window.PLOTLYENV=window.PLOTLYENV || {};\n",
              "                    \n",
              "                if (document.getElementById(\"7e61b6ea-26cc-4a63-8861-7486ac3e91c8\")) {\n",
              "                    Plotly.newPlot(\n",
              "                        '7e61b6ea-26cc-4a63-8861-7486ac3e91c8',\n",
              "                        [{\"textinfo\": \"value+percent initial\", \"type\": \"funnel\", \"x\": [7419, 4593, 3734, 3539, 840], \"y\": [\"MainScreenAppear\", \"OffersScreenAppear\", \"CartScreenAppear\", \"PaymentScreenSuccessful\", \"Tutorial\"]}],\n",
              "                        {\"template\": {\"data\": {\"bar\": [{\"error_x\": {\"color\": \"#2a3f5f\"}, \"error_y\": {\"color\": \"#2a3f5f\"}, \"marker\": {\"line\": {\"color\": \"#E5ECF6\", \"width\": 0.5}}, \"type\": \"bar\"}], \"barpolar\": [{\"marker\": {\"line\": {\"color\": \"#E5ECF6\", \"width\": 0.5}}, \"type\": \"barpolar\"}], \"carpet\": [{\"aaxis\": {\"endlinecolor\": \"#2a3f5f\", \"gridcolor\": \"white\", \"linecolor\": \"white\", \"minorgridcolor\": \"white\", \"startlinecolor\": \"#2a3f5f\"}, \"baxis\": {\"endlinecolor\": \"#2a3f5f\", \"gridcolor\": \"white\", \"linecolor\": \"white\", \"minorgridcolor\": \"white\", \"startlinecolor\": \"#2a3f5f\"}, \"type\": \"carpet\"}], \"choropleth\": [{\"colorbar\": {\"outlinewidth\": 0, \"ticks\": \"\"}, \"type\": \"choropleth\"}], \"contour\": [{\"colorbar\": {\"outlinewidth\": 0, \"ticks\": \"\"}, \"colorscale\": [[0.0, \"#0d0887\"], [0.1111111111111111, \"#46039f\"], [0.2222222222222222, \"#7201a8\"], [0.3333333333333333, \"#9c179e\"], [0.4444444444444444, \"#bd3786\"], [0.5555555555555556, \"#d8576b\"], [0.6666666666666666, \"#ed7953\"], [0.7777777777777778, \"#fb9f3a\"], [0.8888888888888888, \"#fdca26\"], [1.0, \"#f0f921\"]], \"type\": \"contour\"}], \"contourcarpet\": [{\"colorbar\": {\"outlinewidth\": 0, \"ticks\": \"\"}, \"type\": \"contourcarpet\"}], \"heatmap\": [{\"colorbar\": {\"outlinewidth\": 0, \"ticks\": \"\"}, \"colorscale\": [[0.0, \"#0d0887\"], [0.1111111111111111, \"#46039f\"], [0.2222222222222222, \"#7201a8\"], [0.3333333333333333, \"#9c179e\"], [0.4444444444444444, \"#bd3786\"], [0.5555555555555556, \"#d8576b\"], [0.6666666666666666, \"#ed7953\"], [0.7777777777777778, \"#fb9f3a\"], [0.8888888888888888, \"#fdca26\"], [1.0, \"#f0f921\"]], \"type\": \"heatmap\"}], \"heatmapgl\": [{\"colorbar\": {\"outlinewidth\": 0, \"ticks\": \"\"}, \"colorscale\": [[0.0, \"#0d0887\"], [0.1111111111111111, \"#46039f\"], [0.2222222222222222, \"#7201a8\"], [0.3333333333333333, \"#9c179e\"], [0.4444444444444444, \"#bd3786\"], [0.5555555555555556, \"#d8576b\"], [0.6666666666666666, \"#ed7953\"], [0.7777777777777778, \"#fb9f3a\"], [0.8888888888888888, \"#fdca26\"], [1.0, \"#f0f921\"]], \"type\": \"heatmapgl\"}], \"histogram\": [{\"marker\": {\"colorbar\": {\"outlinewidth\": 0, \"ticks\": \"\"}}, \"type\": \"histogram\"}], \"histogram2d\": [{\"colorbar\": {\"outlinewidth\": 0, \"ticks\": \"\"}, \"colorscale\": [[0.0, \"#0d0887\"], [0.1111111111111111, \"#46039f\"], [0.2222222222222222, \"#7201a8\"], [0.3333333333333333, \"#9c179e\"], [0.4444444444444444, \"#bd3786\"], [0.5555555555555556, \"#d8576b\"], [0.6666666666666666, \"#ed7953\"], [0.7777777777777778, \"#fb9f3a\"], [0.8888888888888888, \"#fdca26\"], [1.0, \"#f0f921\"]], \"type\": \"histogram2d\"}], \"histogram2dcontour\": [{\"colorbar\": {\"outlinewidth\": 0, \"ticks\": \"\"}, \"colorscale\": [[0.0, \"#0d0887\"], [0.1111111111111111, \"#46039f\"], [0.2222222222222222, \"#7201a8\"], [0.3333333333333333, \"#9c179e\"], [0.4444444444444444, \"#bd3786\"], [0.5555555555555556, \"#d8576b\"], [0.6666666666666666, \"#ed7953\"], [0.7777777777777778, \"#fb9f3a\"], [0.8888888888888888, \"#fdca26\"], [1.0, \"#f0f921\"]], \"type\": \"histogram2dcontour\"}], \"mesh3d\": [{\"colorbar\": {\"outlinewidth\": 0, \"ticks\": \"\"}, \"type\": \"mesh3d\"}], \"parcoords\": [{\"line\": {\"colorbar\": {\"outlinewidth\": 0, \"ticks\": \"\"}}, \"type\": \"parcoords\"}], \"pie\": [{\"automargin\": true, \"type\": \"pie\"}], \"scatter\": [{\"marker\": {\"colorbar\": {\"outlinewidth\": 0, \"ticks\": \"\"}}, \"type\": \"scatter\"}], \"scatter3d\": [{\"line\": {\"colorbar\": {\"outlinewidth\": 0, \"ticks\": \"\"}}, \"marker\": {\"colorbar\": {\"outlinewidth\": 0, \"ticks\": \"\"}}, \"type\": \"scatter3d\"}], \"scattercarpet\": [{\"marker\": {\"colorbar\": {\"outlinewidth\": 0, \"ticks\": \"\"}}, \"type\": \"scattercarpet\"}], \"scattergeo\": [{\"marker\": {\"colorbar\": {\"outlinewidth\": 0, \"ticks\": \"\"}}, \"type\": \"scattergeo\"}], \"scattergl\": [{\"marker\": {\"colorbar\": {\"outlinewidth\": 0, \"ticks\": \"\"}}, \"type\": \"scattergl\"}], \"scattermapbox\": [{\"marker\": {\"colorbar\": {\"outlinewidth\": 0, \"ticks\": \"\"}}, \"type\": \"scattermapbox\"}], \"scatterpolar\": [{\"marker\": {\"colorbar\": {\"outlinewidth\": 0, \"ticks\": \"\"}}, \"type\": \"scatterpolar\"}], \"scatterpolargl\": [{\"marker\": {\"colorbar\": {\"outlinewidth\": 0, \"ticks\": \"\"}}, \"type\": \"scatterpolargl\"}], \"scatterternary\": [{\"marker\": {\"colorbar\": {\"outlinewidth\": 0, \"ticks\": \"\"}}, \"type\": \"scatterternary\"}], \"surface\": [{\"colorbar\": {\"outlinewidth\": 0, \"ticks\": \"\"}, \"colorscale\": [[0.0, \"#0d0887\"], [0.1111111111111111, \"#46039f\"], [0.2222222222222222, \"#7201a8\"], [0.3333333333333333, \"#9c179e\"], [0.4444444444444444, \"#bd3786\"], [0.5555555555555556, \"#d8576b\"], [0.6666666666666666, \"#ed7953\"], [0.7777777777777778, \"#fb9f3a\"], [0.8888888888888888, \"#fdca26\"], [1.0, \"#f0f921\"]], \"type\": \"surface\"}], \"table\": [{\"cells\": {\"fill\": {\"color\": \"#EBF0F8\"}, \"line\": {\"color\": \"white\"}}, \"header\": {\"fill\": {\"color\": \"#C8D4E3\"}, \"line\": {\"color\": \"white\"}}, \"type\": \"table\"}]}, \"layout\": {\"annotationdefaults\": {\"arrowcolor\": \"#2a3f5f\", \"arrowhead\": 0, \"arrowwidth\": 1}, \"coloraxis\": {\"colorbar\": {\"outlinewidth\": 0, \"ticks\": \"\"}}, \"colorscale\": {\"diverging\": [[0, \"#8e0152\"], [0.1, \"#c51b7d\"], [0.2, \"#de77ae\"], [0.3, \"#f1b6da\"], [0.4, \"#fde0ef\"], [0.5, \"#f7f7f7\"], [0.6, \"#e6f5d0\"], [0.7, \"#b8e186\"], [0.8, \"#7fbc41\"], [0.9, \"#4d9221\"], [1, \"#276419\"]], \"sequential\": [[0.0, \"#0d0887\"], [0.1111111111111111, \"#46039f\"], [0.2222222222222222, \"#7201a8\"], [0.3333333333333333, \"#9c179e\"], [0.4444444444444444, \"#bd3786\"], [0.5555555555555556, \"#d8576b\"], [0.6666666666666666, \"#ed7953\"], [0.7777777777777778, \"#fb9f3a\"], [0.8888888888888888, \"#fdca26\"], [1.0, \"#f0f921\"]], \"sequentialminus\": [[0.0, \"#0d0887\"], [0.1111111111111111, \"#46039f\"], [0.2222222222222222, \"#7201a8\"], [0.3333333333333333, \"#9c179e\"], [0.4444444444444444, \"#bd3786\"], [0.5555555555555556, \"#d8576b\"], [0.6666666666666666, \"#ed7953\"], [0.7777777777777778, \"#fb9f3a\"], [0.8888888888888888, \"#fdca26\"], [1.0, \"#f0f921\"]]}, \"colorway\": [\"#636efa\", \"#EF553B\", \"#00cc96\", \"#ab63fa\", \"#FFA15A\", \"#19d3f3\", \"#FF6692\", \"#B6E880\", \"#FF97FF\", \"#FECB52\"], \"font\": {\"color\": \"#2a3f5f\"}, \"geo\": {\"bgcolor\": \"white\", \"lakecolor\": \"white\", \"landcolor\": \"#E5ECF6\", \"showlakes\": true, \"showland\": true, \"subunitcolor\": \"white\"}, \"hoverlabel\": {\"align\": \"left\"}, \"hovermode\": \"closest\", \"mapbox\": {\"style\": \"light\"}, \"paper_bgcolor\": \"white\", \"plot_bgcolor\": \"#E5ECF6\", \"polar\": {\"angularaxis\": {\"gridcolor\": \"white\", \"linecolor\": \"white\", \"ticks\": \"\"}, \"bgcolor\": \"#E5ECF6\", \"radialaxis\": {\"gridcolor\": \"white\", \"linecolor\": \"white\", \"ticks\": \"\"}}, \"scene\": {\"xaxis\": {\"backgroundcolor\": \"#E5ECF6\", \"gridcolor\": \"white\", \"gridwidth\": 2, \"linecolor\": \"white\", \"showbackground\": true, \"ticks\": \"\", \"zerolinecolor\": \"white\"}, \"yaxis\": {\"backgroundcolor\": \"#E5ECF6\", \"gridcolor\": \"white\", \"gridwidth\": 2, \"linecolor\": \"white\", \"showbackground\": true, \"ticks\": \"\", \"zerolinecolor\": \"white\"}, \"zaxis\": {\"backgroundcolor\": \"#E5ECF6\", \"gridcolor\": \"white\", \"gridwidth\": 2, \"linecolor\": \"white\", \"showbackground\": true, \"ticks\": \"\", \"zerolinecolor\": \"white\"}}, \"shapedefaults\": {\"line\": {\"color\": \"#2a3f5f\"}}, \"ternary\": {\"aaxis\": {\"gridcolor\": \"white\", \"linecolor\": \"white\", \"ticks\": \"\"}, \"baxis\": {\"gridcolor\": \"white\", \"linecolor\": \"white\", \"ticks\": \"\"}, \"bgcolor\": \"#E5ECF6\", \"caxis\": {\"gridcolor\": \"white\", \"linecolor\": \"white\", \"ticks\": \"\"}}, \"title\": {\"x\": 0.05}, \"xaxis\": {\"automargin\": true, \"gridcolor\": \"white\", \"linecolor\": \"white\", \"ticks\": \"\", \"title\": {\"standoff\": 15}, \"zerolinecolor\": \"white\", \"zerolinewidth\": 2}, \"yaxis\": {\"automargin\": true, \"gridcolor\": \"white\", \"linecolor\": \"white\", \"ticks\": \"\", \"title\": {\"standoff\": 15}, \"zerolinecolor\": \"white\", \"zerolinewidth\": 2}}}, \"title\": {\"text\": \"\\u0427\\u0438\\u0441\\u043b\\u043e \\u043f\\u043e\\u043b\\u044c\\u0437\\u043e\\u0432\\u0430\\u0442\\u0435\\u043b\\u0435\\u0439 \\u0432 \\u043b\\u043e\\u0433\\u0435\"}, \"yaxis\": {\"title\": {\"text\": \"\\u0428\\u0430\\u0433\\u0438\"}}},\n",
              "                        {\"responsive\": true}\n",
              "                    ).then(function(){\n",
              "                            \n",
              "var gd = document.getElementById('7e61b6ea-26cc-4a63-8861-7486ac3e91c8');\n",
              "var x = new MutationObserver(function (mutations, observer) {{\n",
              "        var display = window.getComputedStyle(gd).display;\n",
              "        if (!display || display === 'none') {{\n",
              "            console.log([gd, 'removed!']);\n",
              "            Plotly.purge(gd);\n",
              "            observer.disconnect();\n",
              "        }}\n",
              "}});\n",
              "\n",
              "// Listen for the removal of the full notebook cells\n",
              "var notebookContainer = gd.closest('#notebook-container');\n",
              "if (notebookContainer) {{\n",
              "    x.observe(notebookContainer, {childList: true});\n",
              "}}\n",
              "\n",
              "// Listen for the clearing of the current output cell\n",
              "var outputEl = gd.closest('.output');\n",
              "if (outputEl) {{\n",
              "    x.observe(outputEl, {childList: true});\n",
              "}}\n",
              "\n",
              "                        })\n",
              "                };\n",
              "                \n",
              "            </script>\n",
              "        </div>\n",
              "</body>\n",
              "</html>"
            ]
          },
          "metadata": {
            "tags": []
          }
        }
      ]
    },
    {
      "cell_type": "markdown",
      "metadata": {
        "id": "i1PoDqMBd0XD"
      },
      "source": [
        "Второй шаг совершило 62% человек из первого шага, 50% - третий шаг, 48% - четвёртый.\n",
        "\n",
        "Также можно увидеть разницу в долях, воспользовавшись методом pct_change()."
      ]
    },
    {
      "cell_type": "code",
      "metadata": {
        "colab": {
          "background_save": true,
          "base_uri": "https://localhost:8080/",
          "height": 204
        },
        "id": "RMUK2cgld0XE",
        "outputId": "1477d141-db84-4795-cde7-659d268e4fbc"
      },
      "source": [
        "users['user_id'].pct_change().reset_index()"
      ],
      "execution_count": null,
      "outputs": [
        {
          "output_type": "execute_result",
          "data": {
            "text/html": [
              "<div>\n",
              "<style scoped>\n",
              "    .dataframe tbody tr th:only-of-type {\n",
              "        vertical-align: middle;\n",
              "    }\n",
              "\n",
              "    .dataframe tbody tr th {\n",
              "        vertical-align: top;\n",
              "    }\n",
              "\n",
              "    .dataframe thead th {\n",
              "        text-align: right;\n",
              "    }\n",
              "</style>\n",
              "<table border=\"1\" class=\"dataframe\">\n",
              "  <thead>\n",
              "    <tr style=\"text-align: right;\">\n",
              "      <th></th>\n",
              "      <th>index</th>\n",
              "      <th>user_id</th>\n",
              "    </tr>\n",
              "  </thead>\n",
              "  <tbody>\n",
              "    <tr>\n",
              "      <th>0</th>\n",
              "      <td>1</td>\n",
              "      <td>NaN</td>\n",
              "    </tr>\n",
              "    <tr>\n",
              "      <th>1</th>\n",
              "      <td>2</td>\n",
              "      <td>-0.380914</td>\n",
              "    </tr>\n",
              "    <tr>\n",
              "      <th>2</th>\n",
              "      <td>0</td>\n",
              "      <td>-0.187024</td>\n",
              "    </tr>\n",
              "    <tr>\n",
              "      <th>3</th>\n",
              "      <td>3</td>\n",
              "      <td>-0.052223</td>\n",
              "    </tr>\n",
              "    <tr>\n",
              "      <th>4</th>\n",
              "      <td>4</td>\n",
              "      <td>-0.762645</td>\n",
              "    </tr>\n",
              "  </tbody>\n",
              "</table>\n",
              "</div>"
            ],
            "text/plain": [
              "   index   user_id\n",
              "0      1       NaN\n",
              "1      2 -0.380914\n",
              "2      0 -0.187024\n",
              "3      3 -0.052223\n",
              "4      4 -0.762645"
            ]
          },
          "metadata": {
            "tags": []
          },
          "execution_count": 0
        }
      ]
    },
    {
      "cell_type": "markdown",
      "metadata": {
        "id": "kZcNMuQXd0XF"
      },
      "source": [
        "### В каком порядке происходят события?"
      ]
    },
    {
      "cell_type": "markdown",
      "metadata": {
        "id": "jmTtZdm_d0XG"
      },
      "source": [
        "С нашей точки зрения, последовательность событий следующая: 1) вначале люди видят страницу с предложениями (*Main*), затем 2) добавляют товар в корзину (*Offers*), после чего 3) переходят в корзину (*Cart*), где 4) оплачивают товары (*Payment*). Инструкция в этой схеме определённо лишняя, потому как очень немногие люди используют её,; большинство справляется без обращения к ней. Иными словами, переход на страницу с инструкцией **не** является обязательным."
      ]
    },
    {
      "cell_type": "code",
      "metadata": {
        "colab": {
          "background_save": true,
          "base_uri": "https://localhost:8080/"
        },
        "id": "VsX_LCCjd0XH",
        "outputId": "513355ac-419d-4cbb-90f2-65276ab9a82c"
      },
      "source": [
        "data_new = data[data['event_name'] != 'Tutorial']\n",
        "data_new['event_name'].unique()"
      ],
      "execution_count": null,
      "outputs": [
        {
          "output_type": "execute_result",
          "data": {
            "text/plain": [
              "array(['MainScreenAppear', 'PaymentScreenSuccessful', 'CartScreenAppear',\n",
              "       'OffersScreenAppear'], dtype=object)"
            ]
          },
          "metadata": {
            "tags": []
          },
          "execution_count": 0
        }
      ]
    },
    {
      "cell_type": "markdown",
      "metadata": {
        "id": "hoDEsm7od0XI"
      },
      "source": [
        "### По воронке событий посчитаем, какая доля пользователей проходит на следующий шаг воронки (от числа пользователей на предыдущем). "
      ]
    },
    {
      "cell_type": "code",
      "metadata": {
        "colab": {
          "background_save": true,
          "base_uri": "https://localhost:8080/"
        },
        "id": "K-k9Qy5cd0XI",
        "outputId": "b2efc5b8-f88f-44e9-cd8e-9ff25cfbc30d"
      },
      "source": [
        "users = data_new.pivot_table(\n",
        "    index='user_id', columns='event_name', values='event_time', aggfunc='min')\n",
        "\n",
        "step_1 = ~users['MainScreenAppear'].isna()\n",
        "step_2 = step_1 & (users['OffersScreenAppear'] > users['MainScreenAppear'])\n",
        "step_3 = step_2 & (users['CartScreenAppear'] > users['OffersScreenAppear'])\n",
        "step_4 = step_3 & (users['PaymentScreenSuccessful'] > users['CartScreenAppear'])\n",
        "\n",
        "n_pageview = users[step_1].shape[0]\n",
        "n_add_to_cart = users[step_2].shape[0]\n",
        "n_checkout = users[step_3].shape[0]\n",
        "n_payment = users[step_4].shape[0]\n",
        "\n",
        "print('Посетителей:', n_pageview)\n",
        "print('Добавили товар в корзину:', n_add_to_cart)\n",
        "print('Начали оформлять заказ:', n_checkout)\n",
        "print('Оплатили:', n_payment)"
      ],
      "execution_count": null,
      "outputs": [
        {
          "output_type": "stream",
          "text": [
            "Посетителей: 7439\n",
            "Добавили товар в корзину: 4067\n",
            "Начали оформлять заказ: 1611\n",
            "Оплатили: 448\n"
          ],
          "name": "stdout"
        }
      ]
    },
    {
      "cell_type": "markdown",
      "metadata": {
        "id": "ywJ0kdphd0XK"
      },
      "source": [
        "Создадим две переменные: в number будут значения из предыдущего действия (воронка пользователей). В stage положим названия событий. Посмотрим с их помощью график-воронку."
      ]
    },
    {
      "cell_type": "code",
      "metadata": {
        "colab": {
          "background_save": true
        },
        "id": "sHFo2WUfd0XK"
      },
      "source": [
        "number = [n_pageview, n_add_to_cart, n_checkout, n_payment]\n",
        "stage = ['MainScreenAppear', 'OffersScreenAppear', 'CartScreenAppear', 'PaymentScreenSuccessful']"
      ],
      "execution_count": null,
      "outputs": []
    },
    {
      "cell_type": "code",
      "metadata": {
        "colab": {
          "background_save": true,
          "base_uri": "https://localhost:8080/",
          "height": 542
        },
        "id": "ZSJ5hY85d0XL",
        "outputId": "2be073da-5f5c-49ac-f95b-c533c67f0956"
      },
      "source": [
        "fig = go.Figure()\n",
        "fig.add_trace(go.Funnel(\n",
        "    y = stage,\n",
        "    x = number,\n",
        "    textinfo = \"value+percent initial\"))\n",
        "fig.update_layout(title=\"Воронка пользователей\",\n",
        "                  #xaxis_title=\"x Axis Title\",\n",
        "                  yaxis_title=\"Шаги\",)\n",
        "fig.show()"
      ],
      "execution_count": null,
      "outputs": [
        {
          "output_type": "display_data",
          "data": {
            "text/html": [
              "<html>\n",
              "<head><meta charset=\"utf-8\" /></head>\n",
              "<body>\n",
              "    <div>\n",
              "            <script src=\"https://cdnjs.cloudflare.com/ajax/libs/mathjax/2.7.5/MathJax.js?config=TeX-AMS-MML_SVG\"></script><script type=\"text/javascript\">if (window.MathJax) {MathJax.Hub.Config({SVG: {font: \"STIX-Web\"}});}</script>\n",
              "                <script type=\"text/javascript\">window.PlotlyConfig = {MathJaxConfig: 'local'};</script>\n",
              "        <script src=\"https://cdn.plot.ly/plotly-latest.min.js\"></script>    \n",
              "            <div id=\"e4f9c26a-00ed-4b43-96e2-c4f1519099fd\" class=\"plotly-graph-div\" style=\"height:525px; width:100%;\"></div>\n",
              "            <script type=\"text/javascript\">\n",
              "                \n",
              "                    window.PLOTLYENV=window.PLOTLYENV || {};\n",
              "                    \n",
              "                if (document.getElementById(\"e4f9c26a-00ed-4b43-96e2-c4f1519099fd\")) {\n",
              "                    Plotly.newPlot(\n",
              "                        'e4f9c26a-00ed-4b43-96e2-c4f1519099fd',\n",
              "                        [{\"textinfo\": \"value+percent initial\", \"type\": \"funnel\", \"x\": [7439, 4067, 1611, 448], \"y\": [\"MainScreenAppear\", \"OffersScreenAppear\", \"CartScreenAppear\", \"PaymentScreenSuccessful\"]}],\n",
              "                        {\"template\": {\"data\": {\"bar\": [{\"error_x\": {\"color\": \"#2a3f5f\"}, \"error_y\": {\"color\": \"#2a3f5f\"}, \"marker\": {\"line\": {\"color\": \"#E5ECF6\", \"width\": 0.5}}, \"type\": \"bar\"}], \"barpolar\": [{\"marker\": {\"line\": {\"color\": \"#E5ECF6\", \"width\": 0.5}}, \"type\": \"barpolar\"}], \"carpet\": [{\"aaxis\": {\"endlinecolor\": \"#2a3f5f\", \"gridcolor\": \"white\", \"linecolor\": \"white\", \"minorgridcolor\": \"white\", \"startlinecolor\": \"#2a3f5f\"}, \"baxis\": {\"endlinecolor\": \"#2a3f5f\", \"gridcolor\": \"white\", \"linecolor\": \"white\", \"minorgridcolor\": \"white\", \"startlinecolor\": \"#2a3f5f\"}, \"type\": \"carpet\"}], \"choropleth\": [{\"colorbar\": {\"outlinewidth\": 0, \"ticks\": \"\"}, \"type\": \"choropleth\"}], \"contour\": [{\"colorbar\": {\"outlinewidth\": 0, \"ticks\": \"\"}, \"colorscale\": [[0.0, \"#0d0887\"], [0.1111111111111111, \"#46039f\"], [0.2222222222222222, \"#7201a8\"], [0.3333333333333333, \"#9c179e\"], [0.4444444444444444, \"#bd3786\"], [0.5555555555555556, \"#d8576b\"], [0.6666666666666666, \"#ed7953\"], [0.7777777777777778, \"#fb9f3a\"], [0.8888888888888888, \"#fdca26\"], [1.0, \"#f0f921\"]], \"type\": \"contour\"}], \"contourcarpet\": [{\"colorbar\": {\"outlinewidth\": 0, \"ticks\": \"\"}, \"type\": \"contourcarpet\"}], \"heatmap\": [{\"colorbar\": {\"outlinewidth\": 0, \"ticks\": \"\"}, \"colorscale\": [[0.0, \"#0d0887\"], [0.1111111111111111, \"#46039f\"], [0.2222222222222222, \"#7201a8\"], [0.3333333333333333, \"#9c179e\"], [0.4444444444444444, \"#bd3786\"], [0.5555555555555556, \"#d8576b\"], [0.6666666666666666, \"#ed7953\"], [0.7777777777777778, \"#fb9f3a\"], [0.8888888888888888, \"#fdca26\"], [1.0, \"#f0f921\"]], \"type\": \"heatmap\"}], \"heatmapgl\": [{\"colorbar\": {\"outlinewidth\": 0, \"ticks\": \"\"}, \"colorscale\": [[0.0, \"#0d0887\"], [0.1111111111111111, \"#46039f\"], [0.2222222222222222, \"#7201a8\"], [0.3333333333333333, \"#9c179e\"], [0.4444444444444444, \"#bd3786\"], [0.5555555555555556, \"#d8576b\"], [0.6666666666666666, \"#ed7953\"], [0.7777777777777778, \"#fb9f3a\"], [0.8888888888888888, \"#fdca26\"], [1.0, \"#f0f921\"]], \"type\": \"heatmapgl\"}], \"histogram\": [{\"marker\": {\"colorbar\": {\"outlinewidth\": 0, \"ticks\": \"\"}}, \"type\": \"histogram\"}], \"histogram2d\": [{\"colorbar\": {\"outlinewidth\": 0, \"ticks\": \"\"}, \"colorscale\": [[0.0, \"#0d0887\"], [0.1111111111111111, \"#46039f\"], [0.2222222222222222, \"#7201a8\"], [0.3333333333333333, \"#9c179e\"], [0.4444444444444444, \"#bd3786\"], [0.5555555555555556, \"#d8576b\"], [0.6666666666666666, \"#ed7953\"], [0.7777777777777778, \"#fb9f3a\"], [0.8888888888888888, \"#fdca26\"], [1.0, \"#f0f921\"]], \"type\": \"histogram2d\"}], \"histogram2dcontour\": [{\"colorbar\": {\"outlinewidth\": 0, \"ticks\": \"\"}, \"colorscale\": [[0.0, \"#0d0887\"], [0.1111111111111111, \"#46039f\"], [0.2222222222222222, \"#7201a8\"], [0.3333333333333333, \"#9c179e\"], [0.4444444444444444, \"#bd3786\"], [0.5555555555555556, \"#d8576b\"], [0.6666666666666666, \"#ed7953\"], [0.7777777777777778, \"#fb9f3a\"], [0.8888888888888888, \"#fdca26\"], [1.0, \"#f0f921\"]], \"type\": \"histogram2dcontour\"}], \"mesh3d\": [{\"colorbar\": {\"outlinewidth\": 0, \"ticks\": \"\"}, \"type\": \"mesh3d\"}], \"parcoords\": [{\"line\": {\"colorbar\": {\"outlinewidth\": 0, \"ticks\": \"\"}}, \"type\": \"parcoords\"}], \"pie\": [{\"automargin\": true, \"type\": \"pie\"}], \"scatter\": [{\"marker\": {\"colorbar\": {\"outlinewidth\": 0, \"ticks\": \"\"}}, \"type\": \"scatter\"}], \"scatter3d\": [{\"line\": {\"colorbar\": {\"outlinewidth\": 0, \"ticks\": \"\"}}, \"marker\": {\"colorbar\": {\"outlinewidth\": 0, \"ticks\": \"\"}}, \"type\": \"scatter3d\"}], \"scattercarpet\": [{\"marker\": {\"colorbar\": {\"outlinewidth\": 0, \"ticks\": \"\"}}, \"type\": \"scattercarpet\"}], \"scattergeo\": [{\"marker\": {\"colorbar\": {\"outlinewidth\": 0, \"ticks\": \"\"}}, \"type\": \"scattergeo\"}], \"scattergl\": [{\"marker\": {\"colorbar\": {\"outlinewidth\": 0, \"ticks\": \"\"}}, \"type\": \"scattergl\"}], \"scattermapbox\": [{\"marker\": {\"colorbar\": {\"outlinewidth\": 0, \"ticks\": \"\"}}, \"type\": \"scattermapbox\"}], \"scatterpolar\": [{\"marker\": {\"colorbar\": {\"outlinewidth\": 0, \"ticks\": \"\"}}, \"type\": \"scatterpolar\"}], \"scatterpolargl\": [{\"marker\": {\"colorbar\": {\"outlinewidth\": 0, \"ticks\": \"\"}}, \"type\": \"scatterpolargl\"}], \"scatterternary\": [{\"marker\": {\"colorbar\": {\"outlinewidth\": 0, \"ticks\": \"\"}}, \"type\": \"scatterternary\"}], \"surface\": [{\"colorbar\": {\"outlinewidth\": 0, \"ticks\": \"\"}, \"colorscale\": [[0.0, \"#0d0887\"], [0.1111111111111111, \"#46039f\"], [0.2222222222222222, \"#7201a8\"], [0.3333333333333333, \"#9c179e\"], [0.4444444444444444, \"#bd3786\"], [0.5555555555555556, \"#d8576b\"], [0.6666666666666666, \"#ed7953\"], [0.7777777777777778, \"#fb9f3a\"], [0.8888888888888888, \"#fdca26\"], [1.0, \"#f0f921\"]], \"type\": \"surface\"}], \"table\": [{\"cells\": {\"fill\": {\"color\": \"#EBF0F8\"}, \"line\": {\"color\": \"white\"}}, \"header\": {\"fill\": {\"color\": \"#C8D4E3\"}, \"line\": {\"color\": \"white\"}}, \"type\": \"table\"}]}, \"layout\": {\"annotationdefaults\": {\"arrowcolor\": \"#2a3f5f\", \"arrowhead\": 0, \"arrowwidth\": 1}, \"coloraxis\": {\"colorbar\": {\"outlinewidth\": 0, \"ticks\": \"\"}}, \"colorscale\": {\"diverging\": [[0, \"#8e0152\"], [0.1, \"#c51b7d\"], [0.2, \"#de77ae\"], [0.3, \"#f1b6da\"], [0.4, \"#fde0ef\"], [0.5, \"#f7f7f7\"], [0.6, \"#e6f5d0\"], [0.7, \"#b8e186\"], [0.8, \"#7fbc41\"], [0.9, \"#4d9221\"], [1, \"#276419\"]], \"sequential\": [[0.0, \"#0d0887\"], [0.1111111111111111, \"#46039f\"], [0.2222222222222222, \"#7201a8\"], [0.3333333333333333, \"#9c179e\"], [0.4444444444444444, \"#bd3786\"], [0.5555555555555556, \"#d8576b\"], [0.6666666666666666, \"#ed7953\"], [0.7777777777777778, \"#fb9f3a\"], [0.8888888888888888, \"#fdca26\"], [1.0, \"#f0f921\"]], \"sequentialminus\": [[0.0, \"#0d0887\"], [0.1111111111111111, \"#46039f\"], [0.2222222222222222, \"#7201a8\"], [0.3333333333333333, \"#9c179e\"], [0.4444444444444444, \"#bd3786\"], [0.5555555555555556, \"#d8576b\"], [0.6666666666666666, \"#ed7953\"], [0.7777777777777778, \"#fb9f3a\"], [0.8888888888888888, \"#fdca26\"], [1.0, \"#f0f921\"]]}, \"colorway\": [\"#636efa\", \"#EF553B\", \"#00cc96\", \"#ab63fa\", \"#FFA15A\", \"#19d3f3\", \"#FF6692\", \"#B6E880\", \"#FF97FF\", \"#FECB52\"], \"font\": {\"color\": \"#2a3f5f\"}, \"geo\": {\"bgcolor\": \"white\", \"lakecolor\": \"white\", \"landcolor\": \"#E5ECF6\", \"showlakes\": true, \"showland\": true, \"subunitcolor\": \"white\"}, \"hoverlabel\": {\"align\": \"left\"}, \"hovermode\": \"closest\", \"mapbox\": {\"style\": \"light\"}, \"paper_bgcolor\": \"white\", \"plot_bgcolor\": \"#E5ECF6\", \"polar\": {\"angularaxis\": {\"gridcolor\": \"white\", \"linecolor\": \"white\", \"ticks\": \"\"}, \"bgcolor\": \"#E5ECF6\", \"radialaxis\": {\"gridcolor\": \"white\", \"linecolor\": \"white\", \"ticks\": \"\"}}, \"scene\": {\"xaxis\": {\"backgroundcolor\": \"#E5ECF6\", \"gridcolor\": \"white\", \"gridwidth\": 2, \"linecolor\": \"white\", \"showbackground\": true, \"ticks\": \"\", \"zerolinecolor\": \"white\"}, \"yaxis\": {\"backgroundcolor\": \"#E5ECF6\", \"gridcolor\": \"white\", \"gridwidth\": 2, \"linecolor\": \"white\", \"showbackground\": true, \"ticks\": \"\", \"zerolinecolor\": \"white\"}, \"zaxis\": {\"backgroundcolor\": \"#E5ECF6\", \"gridcolor\": \"white\", \"gridwidth\": 2, \"linecolor\": \"white\", \"showbackground\": true, \"ticks\": \"\", \"zerolinecolor\": \"white\"}}, \"shapedefaults\": {\"line\": {\"color\": \"#2a3f5f\"}}, \"ternary\": {\"aaxis\": {\"gridcolor\": \"white\", \"linecolor\": \"white\", \"ticks\": \"\"}, \"baxis\": {\"gridcolor\": \"white\", \"linecolor\": \"white\", \"ticks\": \"\"}, \"bgcolor\": \"#E5ECF6\", \"caxis\": {\"gridcolor\": \"white\", \"linecolor\": \"white\", \"ticks\": \"\"}}, \"title\": {\"x\": 0.05}, \"xaxis\": {\"automargin\": true, \"gridcolor\": \"white\", \"linecolor\": \"white\", \"ticks\": \"\", \"title\": {\"standoff\": 15}, \"zerolinecolor\": \"white\", \"zerolinewidth\": 2}, \"yaxis\": {\"automargin\": true, \"gridcolor\": \"white\", \"linecolor\": \"white\", \"ticks\": \"\", \"title\": {\"standoff\": 15}, \"zerolinecolor\": \"white\", \"zerolinewidth\": 2}}}, \"title\": {\"text\": \"\\u0412\\u043e\\u0440\\u043e\\u043d\\u043a\\u0430 \\u043f\\u043e\\u043b\\u044c\\u0437\\u043e\\u0432\\u0430\\u0442\\u0435\\u043b\\u0435\\u0439\"}, \"yaxis\": {\"title\": {\"text\": \"\\u0428\\u0430\\u0433\\u0438\"}}},\n",
              "                        {\"responsive\": true}\n",
              "                    ).then(function(){\n",
              "                            \n",
              "var gd = document.getElementById('e4f9c26a-00ed-4b43-96e2-c4f1519099fd');\n",
              "var x = new MutationObserver(function (mutations, observer) {{\n",
              "        var display = window.getComputedStyle(gd).display;\n",
              "        if (!display || display === 'none') {{\n",
              "            console.log([gd, 'removed!']);\n",
              "            Plotly.purge(gd);\n",
              "            observer.disconnect();\n",
              "        }}\n",
              "}});\n",
              "\n",
              "// Listen for the removal of the full notebook cells\n",
              "var notebookContainer = gd.closest('#notebook-container');\n",
              "if (notebookContainer) {{\n",
              "    x.observe(notebookContainer, {childList: true});\n",
              "}}\n",
              "\n",
              "// Listen for the clearing of the current output cell\n",
              "var outputEl = gd.closest('.output');\n",
              "if (outputEl) {{\n",
              "    x.observe(outputEl, {childList: true});\n",
              "}}\n",
              "\n",
              "                        })\n",
              "                };\n",
              "                \n",
              "            </script>\n",
              "        </div>\n",
              "</body>\n",
              "</html>"
            ]
          },
          "metadata": {
            "tags": []
          }
        }
      ]
    },
    {
      "cell_type": "markdown",
      "metadata": {
        "id": "AIi7zkP1d0XM"
      },
      "source": [
        "Теперь посчитаем то же самое в долях."
      ]
    },
    {
      "cell_type": "code",
      "metadata": {
        "colab": {
          "background_save": true,
          "base_uri": "https://localhost:8080/"
        },
        "id": "d1nNxkuyd0XN",
        "outputId": "9283db09-eeee-495f-9e7e-5fd898feaee2"
      },
      "source": [
        "print('Посетителей: 100%')\n",
        "print('Добавили товар в корзину: {} %'.format(int(n_add_to_cart / n_pageview * 100)))\n",
        "print('Начали оформлять заказ: {} %'.format(int(n_checkout / n_add_to_cart * 100)))\n",
        "print('Оплатили: {} %'.format(int(n_payment / n_checkout * 100)))"
      ],
      "execution_count": null,
      "outputs": [
        {
          "output_type": "stream",
          "text": [
            "Посетителей: 100%\n",
            "Добавили товар в корзину: 54 %\n",
            "Начали оформлять заказ: 39 %\n",
            "Оплатили: 27 %\n"
          ],
          "name": "stdout"
        }
      ]
    },
    {
      "cell_type": "markdown",
      "metadata": {
        "id": "iUcF-UZzd0XO"
      },
      "source": [
        "### На каком шаге теряется больше всего пользователей?\n"
      ]
    },
    {
      "cell_type": "markdown",
      "metadata": {
        "id": "BWYQev77d0XP"
      },
      "source": [
        "Данные говорят, что наибольшая часть пользователей отсекается между первым и вторым шагом., т.е. между заходом в приложение и добавлением товаров в корзину. Может, посетителей не устроили цены? Или есть проблемы с отображением кнопки для добавления в корзину?"
      ]
    },
    {
      "cell_type": "markdown",
      "metadata": {
        "id": "NaMHleMzd0XP"
      },
      "source": [
        "### Какая доля пользователей доходит от первого события до оплаты?\n"
      ]
    },
    {
      "cell_type": "code",
      "metadata": {
        "colab": {
          "background_save": true,
          "base_uri": "https://localhost:8080/"
        },
        "id": "P3aM97lQd0XQ",
        "outputId": "8c75ab3d-e323-428f-e9bf-8a0f4b0db864"
      },
      "source": [
        "n_payment / n_pageview * 100"
      ],
      "execution_count": null,
      "outputs": [
        {
          "output_type": "execute_result",
          "data": {
            "text/plain": [
              "6.022314827261729"
            ]
          },
          "metadata": {
            "tags": []
          },
          "execution_count": 0
        }
      ]
    },
    {
      "cell_type": "markdown",
      "metadata": {
        "id": "tgSluxX5d0XR"
      },
      "source": [
        "От первого события до последнего доходит 6% пользователей (что также видно на графике-воронке выше)."
      ]
    },
    {
      "cell_type": "markdown",
      "metadata": {
        "id": "STAQuLL8d0XS"
      },
      "source": [
        "## Изучим результаты эксперимента"
      ]
    },
    {
      "cell_type": "markdown",
      "metadata": {
        "id": "52zY18Rld0XS"
      },
      "source": [
        "### Сколько пользователей в каждой экспериментальной группе?"
      ]
    },
    {
      "cell_type": "code",
      "metadata": {
        "colab": {
          "background_save": true,
          "base_uri": "https://localhost:8080/"
        },
        "id": "EQw58f9Ld0XT",
        "outputId": "0563d6ca-0d3b-4d47-ff95-39bbe1c89964"
      },
      "source": [
        "groups = ['246', '247', '248']\n",
        "for i in groups:\n",
        "    print('В группе \"{}\" {} пользователей.'.format(i, data_new.query('group == @i')['user_id'].nunique()))"
      ],
      "execution_count": null,
      "outputs": [
        {
          "output_type": "stream",
          "text": [
            "В группе \"246\" 2488 пользователей.\n",
            "В группе \"247\" 2519 пользователей.\n",
            "В группе \"248\" 2540 пользователей.\n"
          ],
          "name": "stdout"
        }
      ]
    },
    {
      "cell_type": "markdown",
      "metadata": {
        "id": "KPI98fIbd0XU"
      },
      "source": [
        "Обращает на себя внимание то, что размеры групп несколько отличаются. Это говорит о неоптимальности разбиения данных по группам. Для будущих тестов следует несколько поработать с механикой выделения групп и, возможно, изменить подход к их выделению."
      ]
    },
    {
      "cell_type": "markdown",
      "metadata": {
        "id": "N_0oNZAkd0XV"
      },
      "source": [
        "### Есть 2 контрольные группы для А/А-эксперимента, чтобы проверить корректность всех механизмов и расчётов. Проверим, находят ли статистические критерии разницу между выборками 246 и 247."
      ]
    },
    {
      "cell_type": "markdown",
      "metadata": {
        "id": "pIpwfwK-d0XV"
      },
      "source": [
        "Для этого и дальнейших действий напишем функцию, которая будет принимать значения первой и второй групп, а выдавать статистическую разницу по ним по каждому событию.\n",
        "\n",
        "Гипотезы сформулируем следующим образом: \n",
        "\n",
        "- Н0. Не существует статистически значимой разницы между долями; доли статистически равны.\n",
        "- Н1. Нет оснований считать, что статистически значимая разница между долями отсутствует.\n",
        "\n",
        "\n",
        "Создадим список, в который положим кол-во уникальных пользователей по каждой группе, а также сразу кол-во по группам 246 и 247 (эти данные понадобятся нам позднее)."
      ]
    },
    {
      "cell_type": "code",
      "metadata": {
        "colab": {
          "background_save": true
        },
        "id": "shufg_dPd0XW"
      },
      "source": [
        "n_users = {'all': data_new['user_id'].nunique(), \n",
        "           246: data_new[data_new['group']==246]['user_id'].nunique(),\n",
        "           247: data_new[data_new['group']==247]['user_id'].nunique(),\n",
        "           248: data_new[data_new['group']==248]['user_id'].nunique(),\n",
        "           '246+247': data_new[(data_new['group']==246) | (data_new['group']==247)]['user_id'].nunique()}"
      ],
      "execution_count": null,
      "outputs": []
    },
    {
      "cell_type": "markdown",
      "metadata": {
        "id": "QugzC6wYd0XY"
      },
      "source": [
        "Также создадим сводную таблицу с уникальным кол-вом пользователей каждой группы по каждому событию. Она пригодится нам для построения графика и для дальнейших действий."
      ]
    },
    {
      "cell_type": "code",
      "metadata": {
        "colab": {
          "background_save": true,
          "base_uri": "https://localhost:8080/"
        },
        "id": "wzK4jx3Ad0XZ",
        "outputId": "061666a8-9e17-4e0f-9c85-3544d2075c63"
      },
      "source": [
        "group_pivot = data_new.pivot_table(index='event_name',\n",
        "                                   columns = 'group',\n",
        "                                   values = 'user_id',\n",
        "                                   aggfunc = 'nunique').reset_index().sort_values(by=246, ascending=False)\n",
        "group_pivot"
      ],
      "execution_count": null,
      "outputs": [
        {
          "output_type": "execute_result",
          "data": {
            "text/html": [
              "<div>\n",
              "<style scoped>\n",
              "    .dataframe tbody tr th:only-of-type {\n",
              "        vertical-align: middle;\n",
              "    }\n",
              "\n",
              "    .dataframe tbody tr th {\n",
              "        vertical-align: top;\n",
              "    }\n",
              "\n",
              "    .dataframe thead th {\n",
              "        text-align: right;\n",
              "    }\n",
              "</style>\n",
              "<table border=\"1\" class=\"dataframe\">\n",
              "  <thead>\n",
              "    <tr style=\"text-align: right;\">\n",
              "      <th>group</th>\n",
              "      <th>event_name</th>\n",
              "      <th>246</th>\n",
              "      <th>247</th>\n",
              "      <th>248</th>\n",
              "    </tr>\n",
              "  </thead>\n",
              "  <tbody>\n",
              "    <tr>\n",
              "      <th>1</th>\n",
              "      <td>MainScreenAppear</td>\n",
              "      <td>2456</td>\n",
              "      <td>2482</td>\n",
              "      <td>2501</td>\n",
              "    </tr>\n",
              "    <tr>\n",
              "      <th>2</th>\n",
              "      <td>OffersScreenAppear</td>\n",
              "      <td>1545</td>\n",
              "      <td>1530</td>\n",
              "      <td>1538</td>\n",
              "    </tr>\n",
              "    <tr>\n",
              "      <th>0</th>\n",
              "      <td>CartScreenAppear</td>\n",
              "      <td>1270</td>\n",
              "      <td>1240</td>\n",
              "      <td>1239</td>\n",
              "    </tr>\n",
              "    <tr>\n",
              "      <th>3</th>\n",
              "      <td>PaymentScreenSuccessful</td>\n",
              "      <td>1202</td>\n",
              "      <td>1160</td>\n",
              "      <td>1185</td>\n",
              "    </tr>\n",
              "  </tbody>\n",
              "</table>\n",
              "</div>"
            ],
            "text/plain": [
              "group               event_name   246   247   248\n",
              "1             MainScreenAppear  2456  2482  2501\n",
              "2           OffersScreenAppear  1545  1530  1538\n",
              "0             CartScreenAppear  1270  1240  1239\n",
              "3      PaymentScreenSuccessful  1202  1160  1185"
            ]
          },
          "metadata": {
            "tags": []
          },
          "execution_count": 0
        }
      ]
    },
    {
      "cell_type": "markdown",
      "metadata": {
        "id": "HGebYGjEd0Xb"
      },
      "source": [
        "Функция не только будет считать статистическую разницу, но и строить графики."
      ]
    },
    {
      "cell_type": "code",
      "metadata": {
        "colab": {
          "background_save": true
        },
        "id": "-624AWyld0Xb",
        "scrolled": true
      },
      "source": [
        "def func(first_group, second_group):\n",
        "    alpha = 0.05  \n",
        "    \n",
        "    purchases = []\n",
        "    for i in data_new['event_name'].unique():\n",
        "        purchases = [data_new.query('group == @first_group & event_name == @i')['user_id'].nunique(),\n",
        "        data_new.query('group == @second_group & event_name == @i')['user_id'].nunique()]\n",
        "        purchases.append(i)\n",
        "        \n",
        "        p1 = purchases[0]/n_users[first_group]\n",
        "        p2 = purchases[1]/n_users[second_group]\n",
        "        p_combined = (purchases[0] + purchases[1]) / (n_users[first_group] + n_users[second_group])        \n",
        "        difference = p1 - p2\n",
        "        z_value = difference / mth.sqrt(p_combined * (1 - p_combined) * (1/n_users[first_group] + 1/n_users[second_group]))\n",
        "        distr = st.norm(0, 1)  \n",
        "        p_value = (1 - distr.cdf(abs(z_value))) * 2\n",
        "\n",
        "        print(i)\n",
        "        if p_value < alpha:\n",
        "            print('Отвергаем нулевую гипотезу: между долями есть значимая разница')\n",
        "        else:\n",
        "            print('Не получилось отвергнуть нулевую гипотезу, нет оснований считать доли разными')\n",
        "        print('---')\n",
        "    fig = go.Figure()\n",
        "    fig.add_trace(go.Funnel(\n",
        "        name = first_group,\n",
        "        y = group_pivot['event_name'],\n",
        "        x = group_pivot[first_group],\n",
        "        textinfo = \"value+percent initial\"))\n",
        "    fig.add_trace(go.Funnel(\n",
        "        name = second_group,\n",
        "        y = group_pivot['event_name'],\n",
        "        x = group_pivot[second_group],\n",
        "        textinfo = \"value+percent initial\"))    \n",
        "    fig.update_layout(title=\"Группы {} и {}\".format(first_group, second_group),\n",
        "                  #xaxis_title=\"x Axis Title\",\n",
        "                  yaxis_title=\"Шаги\",)\n",
        "    fig.show()"
      ],
      "execution_count": null,
      "outputs": []
    },
    {
      "cell_type": "markdown",
      "metadata": {
        "id": "X9R_LWEud0Xd"
      },
      "source": [
        "Теперь посчитаем разницу между группами 246 и 247."
      ]
    },
    {
      "cell_type": "code",
      "metadata": {
        "colab": {
          "background_save": true,
          "base_uri": "https://localhost:8080/"
        },
        "id": "yWviMaysd0Xe",
        "outputId": "35500e7f-e24d-458f-e743-10106ce13266"
      },
      "source": [
        "func(246, 247)"
      ],
      "execution_count": null,
      "outputs": [
        {
          "output_type": "stream",
          "text": [
            "MainScreenAppear\n",
            "Не получилось отвергнуть нулевую гипотезу, нет оснований считать доли разными\n",
            "---\n",
            "PaymentScreenSuccessful\n",
            "Не получилось отвергнуть нулевую гипотезу, нет оснований считать доли разными\n",
            "---\n",
            "CartScreenAppear\n",
            "Не получилось отвергнуть нулевую гипотезу, нет оснований считать доли разными\n",
            "---\n",
            "OffersScreenAppear\n",
            "Не получилось отвергнуть нулевую гипотезу, нет оснований считать доли разными\n",
            "---\n"
          ],
          "name": "stdout"
        },
        {
          "output_type": "display_data",
          "data": {
            "text/html": [
              "<html>\n",
              "<head><meta charset=\"utf-8\" /></head>\n",
              "<body>\n",
              "    <div>\n",
              "            <script src=\"https://cdnjs.cloudflare.com/ajax/libs/mathjax/2.7.5/MathJax.js?config=TeX-AMS-MML_SVG\"></script><script type=\"text/javascript\">if (window.MathJax) {MathJax.Hub.Config({SVG: {font: \"STIX-Web\"}});}</script>\n",
              "                <script type=\"text/javascript\">window.PlotlyConfig = {MathJaxConfig: 'local'};</script>\n",
              "        <script src=\"https://cdn.plot.ly/plotly-latest.min.js\"></script>    \n",
              "            <div id=\"fe86a867-a3c7-48f7-8a36-ceefe72a00cf\" class=\"plotly-graph-div\" style=\"height:525px; width:100%;\"></div>\n",
              "            <script type=\"text/javascript\">\n",
              "                \n",
              "                    window.PLOTLYENV=window.PLOTLYENV || {};\n",
              "                    \n",
              "                if (document.getElementById(\"fe86a867-a3c7-48f7-8a36-ceefe72a00cf\")) {\n",
              "                    Plotly.newPlot(\n",
              "                        'fe86a867-a3c7-48f7-8a36-ceefe72a00cf',\n",
              "                        [{\"name\": \"246\", \"textinfo\": \"value+percent initial\", \"type\": \"funnel\", \"x\": [2456, 1545, 1270, 1202], \"y\": [\"MainScreenAppear\", \"OffersScreenAppear\", \"CartScreenAppear\", \"PaymentScreenSuccessful\"]}, {\"name\": \"247\", \"textinfo\": \"value+percent initial\", \"type\": \"funnel\", \"x\": [2482, 1530, 1240, 1160], \"y\": [\"MainScreenAppear\", \"OffersScreenAppear\", \"CartScreenAppear\", \"PaymentScreenSuccessful\"]}],\n",
              "                        {\"template\": {\"data\": {\"bar\": [{\"error_x\": {\"color\": \"#2a3f5f\"}, \"error_y\": {\"color\": \"#2a3f5f\"}, \"marker\": {\"line\": {\"color\": \"#E5ECF6\", \"width\": 0.5}}, \"type\": \"bar\"}], \"barpolar\": [{\"marker\": {\"line\": {\"color\": \"#E5ECF6\", \"width\": 0.5}}, \"type\": \"barpolar\"}], \"carpet\": [{\"aaxis\": {\"endlinecolor\": \"#2a3f5f\", \"gridcolor\": \"white\", \"linecolor\": \"white\", \"minorgridcolor\": \"white\", \"startlinecolor\": \"#2a3f5f\"}, \"baxis\": {\"endlinecolor\": \"#2a3f5f\", \"gridcolor\": \"white\", \"linecolor\": \"white\", \"minorgridcolor\": \"white\", \"startlinecolor\": \"#2a3f5f\"}, \"type\": \"carpet\"}], \"choropleth\": [{\"colorbar\": {\"outlinewidth\": 0, \"ticks\": \"\"}, \"type\": \"choropleth\"}], \"contour\": [{\"colorbar\": {\"outlinewidth\": 0, \"ticks\": \"\"}, \"colorscale\": [[0.0, \"#0d0887\"], [0.1111111111111111, \"#46039f\"], [0.2222222222222222, \"#7201a8\"], [0.3333333333333333, \"#9c179e\"], [0.4444444444444444, \"#bd3786\"], [0.5555555555555556, \"#d8576b\"], [0.6666666666666666, \"#ed7953\"], [0.7777777777777778, \"#fb9f3a\"], [0.8888888888888888, \"#fdca26\"], [1.0, \"#f0f921\"]], \"type\": \"contour\"}], \"contourcarpet\": [{\"colorbar\": {\"outlinewidth\": 0, \"ticks\": \"\"}, \"type\": \"contourcarpet\"}], \"heatmap\": [{\"colorbar\": {\"outlinewidth\": 0, \"ticks\": \"\"}, \"colorscale\": [[0.0, \"#0d0887\"], [0.1111111111111111, \"#46039f\"], [0.2222222222222222, \"#7201a8\"], [0.3333333333333333, \"#9c179e\"], [0.4444444444444444, \"#bd3786\"], [0.5555555555555556, \"#d8576b\"], [0.6666666666666666, \"#ed7953\"], [0.7777777777777778, \"#fb9f3a\"], [0.8888888888888888, \"#fdca26\"], [1.0, \"#f0f921\"]], \"type\": \"heatmap\"}], \"heatmapgl\": [{\"colorbar\": {\"outlinewidth\": 0, \"ticks\": \"\"}, \"colorscale\": [[0.0, \"#0d0887\"], [0.1111111111111111, \"#46039f\"], [0.2222222222222222, \"#7201a8\"], [0.3333333333333333, \"#9c179e\"], [0.4444444444444444, \"#bd3786\"], [0.5555555555555556, \"#d8576b\"], [0.6666666666666666, \"#ed7953\"], [0.7777777777777778, \"#fb9f3a\"], [0.8888888888888888, \"#fdca26\"], [1.0, \"#f0f921\"]], \"type\": \"heatmapgl\"}], \"histogram\": [{\"marker\": {\"colorbar\": {\"outlinewidth\": 0, \"ticks\": \"\"}}, \"type\": \"histogram\"}], \"histogram2d\": [{\"colorbar\": {\"outlinewidth\": 0, \"ticks\": \"\"}, \"colorscale\": [[0.0, \"#0d0887\"], [0.1111111111111111, \"#46039f\"], [0.2222222222222222, \"#7201a8\"], [0.3333333333333333, \"#9c179e\"], [0.4444444444444444, \"#bd3786\"], [0.5555555555555556, \"#d8576b\"], [0.6666666666666666, \"#ed7953\"], [0.7777777777777778, \"#fb9f3a\"], [0.8888888888888888, \"#fdca26\"], [1.0, \"#f0f921\"]], \"type\": \"histogram2d\"}], \"histogram2dcontour\": [{\"colorbar\": {\"outlinewidth\": 0, \"ticks\": \"\"}, \"colorscale\": [[0.0, \"#0d0887\"], [0.1111111111111111, \"#46039f\"], [0.2222222222222222, \"#7201a8\"], [0.3333333333333333, \"#9c179e\"], [0.4444444444444444, \"#bd3786\"], [0.5555555555555556, \"#d8576b\"], [0.6666666666666666, \"#ed7953\"], [0.7777777777777778, \"#fb9f3a\"], [0.8888888888888888, \"#fdca26\"], [1.0, \"#f0f921\"]], \"type\": \"histogram2dcontour\"}], \"mesh3d\": [{\"colorbar\": {\"outlinewidth\": 0, \"ticks\": \"\"}, \"type\": \"mesh3d\"}], \"parcoords\": [{\"line\": {\"colorbar\": {\"outlinewidth\": 0, \"ticks\": \"\"}}, \"type\": \"parcoords\"}], \"pie\": [{\"automargin\": true, \"type\": \"pie\"}], \"scatter\": [{\"marker\": {\"colorbar\": {\"outlinewidth\": 0, \"ticks\": \"\"}}, \"type\": \"scatter\"}], \"scatter3d\": [{\"line\": {\"colorbar\": {\"outlinewidth\": 0, \"ticks\": \"\"}}, \"marker\": {\"colorbar\": {\"outlinewidth\": 0, \"ticks\": \"\"}}, \"type\": \"scatter3d\"}], \"scattercarpet\": [{\"marker\": {\"colorbar\": {\"outlinewidth\": 0, \"ticks\": \"\"}}, \"type\": \"scattercarpet\"}], \"scattergeo\": [{\"marker\": {\"colorbar\": {\"outlinewidth\": 0, \"ticks\": \"\"}}, \"type\": \"scattergeo\"}], \"scattergl\": [{\"marker\": {\"colorbar\": {\"outlinewidth\": 0, \"ticks\": \"\"}}, \"type\": \"scattergl\"}], \"scattermapbox\": [{\"marker\": {\"colorbar\": {\"outlinewidth\": 0, \"ticks\": \"\"}}, \"type\": \"scattermapbox\"}], \"scatterpolar\": [{\"marker\": {\"colorbar\": {\"outlinewidth\": 0, \"ticks\": \"\"}}, \"type\": \"scatterpolar\"}], \"scatterpolargl\": [{\"marker\": {\"colorbar\": {\"outlinewidth\": 0, \"ticks\": \"\"}}, \"type\": \"scatterpolargl\"}], \"scatterternary\": [{\"marker\": {\"colorbar\": {\"outlinewidth\": 0, \"ticks\": \"\"}}, \"type\": \"scatterternary\"}], \"surface\": [{\"colorbar\": {\"outlinewidth\": 0, \"ticks\": \"\"}, \"colorscale\": [[0.0, \"#0d0887\"], [0.1111111111111111, \"#46039f\"], [0.2222222222222222, \"#7201a8\"], [0.3333333333333333, \"#9c179e\"], [0.4444444444444444, \"#bd3786\"], [0.5555555555555556, \"#d8576b\"], [0.6666666666666666, \"#ed7953\"], [0.7777777777777778, \"#fb9f3a\"], [0.8888888888888888, \"#fdca26\"], [1.0, \"#f0f921\"]], \"type\": \"surface\"}], \"table\": [{\"cells\": {\"fill\": {\"color\": \"#EBF0F8\"}, \"line\": {\"color\": \"white\"}}, \"header\": {\"fill\": {\"color\": \"#C8D4E3\"}, \"line\": {\"color\": \"white\"}}, \"type\": \"table\"}]}, \"layout\": {\"annotationdefaults\": {\"arrowcolor\": \"#2a3f5f\", \"arrowhead\": 0, \"arrowwidth\": 1}, \"coloraxis\": {\"colorbar\": {\"outlinewidth\": 0, \"ticks\": \"\"}}, \"colorscale\": {\"diverging\": [[0, \"#8e0152\"], [0.1, \"#c51b7d\"], [0.2, \"#de77ae\"], [0.3, \"#f1b6da\"], [0.4, \"#fde0ef\"], [0.5, \"#f7f7f7\"], [0.6, \"#e6f5d0\"], [0.7, \"#b8e186\"], [0.8, \"#7fbc41\"], [0.9, \"#4d9221\"], [1, \"#276419\"]], \"sequential\": [[0.0, \"#0d0887\"], [0.1111111111111111, \"#46039f\"], [0.2222222222222222, \"#7201a8\"], [0.3333333333333333, \"#9c179e\"], [0.4444444444444444, \"#bd3786\"], [0.5555555555555556, \"#d8576b\"], [0.6666666666666666, \"#ed7953\"], [0.7777777777777778, \"#fb9f3a\"], [0.8888888888888888, \"#fdca26\"], [1.0, \"#f0f921\"]], \"sequentialminus\": [[0.0, \"#0d0887\"], [0.1111111111111111, \"#46039f\"], [0.2222222222222222, \"#7201a8\"], [0.3333333333333333, \"#9c179e\"], [0.4444444444444444, \"#bd3786\"], [0.5555555555555556, \"#d8576b\"], [0.6666666666666666, \"#ed7953\"], [0.7777777777777778, \"#fb9f3a\"], [0.8888888888888888, \"#fdca26\"], [1.0, \"#f0f921\"]]}, \"colorway\": [\"#636efa\", \"#EF553B\", \"#00cc96\", \"#ab63fa\", \"#FFA15A\", \"#19d3f3\", \"#FF6692\", \"#B6E880\", \"#FF97FF\", \"#FECB52\"], \"font\": {\"color\": \"#2a3f5f\"}, \"geo\": {\"bgcolor\": \"white\", \"lakecolor\": \"white\", \"landcolor\": \"#E5ECF6\", \"showlakes\": true, \"showland\": true, \"subunitcolor\": \"white\"}, \"hoverlabel\": {\"align\": \"left\"}, \"hovermode\": \"closest\", \"mapbox\": {\"style\": \"light\"}, \"paper_bgcolor\": \"white\", \"plot_bgcolor\": \"#E5ECF6\", \"polar\": {\"angularaxis\": {\"gridcolor\": \"white\", \"linecolor\": \"white\", \"ticks\": \"\"}, \"bgcolor\": \"#E5ECF6\", \"radialaxis\": {\"gridcolor\": \"white\", \"linecolor\": \"white\", \"ticks\": \"\"}}, \"scene\": {\"xaxis\": {\"backgroundcolor\": \"#E5ECF6\", \"gridcolor\": \"white\", \"gridwidth\": 2, \"linecolor\": \"white\", \"showbackground\": true, \"ticks\": \"\", \"zerolinecolor\": \"white\"}, \"yaxis\": {\"backgroundcolor\": \"#E5ECF6\", \"gridcolor\": \"white\", \"gridwidth\": 2, \"linecolor\": \"white\", \"showbackground\": true, \"ticks\": \"\", \"zerolinecolor\": \"white\"}, \"zaxis\": {\"backgroundcolor\": \"#E5ECF6\", \"gridcolor\": \"white\", \"gridwidth\": 2, \"linecolor\": \"white\", \"showbackground\": true, \"ticks\": \"\", \"zerolinecolor\": \"white\"}}, \"shapedefaults\": {\"line\": {\"color\": \"#2a3f5f\"}}, \"ternary\": {\"aaxis\": {\"gridcolor\": \"white\", \"linecolor\": \"white\", \"ticks\": \"\"}, \"baxis\": {\"gridcolor\": \"white\", \"linecolor\": \"white\", \"ticks\": \"\"}, \"bgcolor\": \"#E5ECF6\", \"caxis\": {\"gridcolor\": \"white\", \"linecolor\": \"white\", \"ticks\": \"\"}}, \"title\": {\"x\": 0.05}, \"xaxis\": {\"automargin\": true, \"gridcolor\": \"white\", \"linecolor\": \"white\", \"ticks\": \"\", \"title\": {\"standoff\": 15}, \"zerolinecolor\": \"white\", \"zerolinewidth\": 2}, \"yaxis\": {\"automargin\": true, \"gridcolor\": \"white\", \"linecolor\": \"white\", \"ticks\": \"\", \"title\": {\"standoff\": 15}, \"zerolinecolor\": \"white\", \"zerolinewidth\": 2}}}, \"title\": {\"text\": \"\\u0413\\u0440\\u0443\\u043f\\u043f\\u044b 246 \\u0438 247\"}, \"yaxis\": {\"title\": {\"text\": \"\\u0428\\u0430\\u0433\\u0438\"}}},\n",
              "                        {\"responsive\": true}\n",
              "                    ).then(function(){\n",
              "                            \n",
              "var gd = document.getElementById('fe86a867-a3c7-48f7-8a36-ceefe72a00cf');\n",
              "var x = new MutationObserver(function (mutations, observer) {{\n",
              "        var display = window.getComputedStyle(gd).display;\n",
              "        if (!display || display === 'none') {{\n",
              "            console.log([gd, 'removed!']);\n",
              "            Plotly.purge(gd);\n",
              "            observer.disconnect();\n",
              "        }}\n",
              "}});\n",
              "\n",
              "// Listen for the removal of the full notebook cells\n",
              "var notebookContainer = gd.closest('#notebook-container');\n",
              "if (notebookContainer) {{\n",
              "    x.observe(notebookContainer, {childList: true});\n",
              "}}\n",
              "\n",
              "// Listen for the clearing of the current output cell\n",
              "var outputEl = gd.closest('.output');\n",
              "if (outputEl) {{\n",
              "    x.observe(outputEl, {childList: true});\n",
              "}}\n",
              "\n",
              "                        })\n",
              "                };\n",
              "                \n",
              "            </script>\n",
              "        </div>\n",
              "</body>\n",
              "</html>"
            ]
          },
          "metadata": {
            "tags": []
          }
        }
      ]
    },
    {
      "cell_type": "markdown",
      "metadata": {
        "id": "OPpqZvU-d0Xf"
      },
      "source": [
        "Как видно, выборки 246 и 247 проходят статистическую проверку, и у нас нет оснований считать доли разными."
      ]
    },
    {
      "cell_type": "markdown",
      "metadata": {
        "id": "lJqECG3jd0Xf"
      },
      "source": [
        "### Посчитаем число пользователей, совершивших самое популярное событие в каждой из контрольных групп, а также долю пользователей, совершивших это событие. "
      ]
    },
    {
      "cell_type": "markdown",
      "metadata": {
        "id": "oZbf5jRNd0Xg"
      },
      "source": [
        "Очевидно, самое популярное событие - MainScreenAppear. Посмотрим число пользователей в уже созданной ранее нами таблице group_pivot, а также построим график, в котором также будут показаны доли."
      ]
    },
    {
      "cell_type": "code",
      "metadata": {
        "colab": {
          "background_save": true,
          "base_uri": "https://localhost:8080/",
          "height": 173
        },
        "id": "pNRq9lABd0Xh",
        "outputId": "3f553195-3132-4588-debc-ce1a95e4f29c"
      },
      "source": [
        "group_pivot"
      ],
      "execution_count": null,
      "outputs": [
        {
          "output_type": "execute_result",
          "data": {
            "text/html": [
              "<div>\n",
              "<style scoped>\n",
              "    .dataframe tbody tr th:only-of-type {\n",
              "        vertical-align: middle;\n",
              "    }\n",
              "\n",
              "    .dataframe tbody tr th {\n",
              "        vertical-align: top;\n",
              "    }\n",
              "\n",
              "    .dataframe thead th {\n",
              "        text-align: right;\n",
              "    }\n",
              "</style>\n",
              "<table border=\"1\" class=\"dataframe\">\n",
              "  <thead>\n",
              "    <tr style=\"text-align: right;\">\n",
              "      <th>group</th>\n",
              "      <th>event_name</th>\n",
              "      <th>246</th>\n",
              "      <th>247</th>\n",
              "      <th>248</th>\n",
              "    </tr>\n",
              "  </thead>\n",
              "  <tbody>\n",
              "    <tr>\n",
              "      <th>1</th>\n",
              "      <td>MainScreenAppear</td>\n",
              "      <td>2456</td>\n",
              "      <td>2482</td>\n",
              "      <td>2501</td>\n",
              "    </tr>\n",
              "    <tr>\n",
              "      <th>2</th>\n",
              "      <td>OffersScreenAppear</td>\n",
              "      <td>1545</td>\n",
              "      <td>1530</td>\n",
              "      <td>1538</td>\n",
              "    </tr>\n",
              "    <tr>\n",
              "      <th>0</th>\n",
              "      <td>CartScreenAppear</td>\n",
              "      <td>1270</td>\n",
              "      <td>1240</td>\n",
              "      <td>1239</td>\n",
              "    </tr>\n",
              "    <tr>\n",
              "      <th>3</th>\n",
              "      <td>PaymentScreenSuccessful</td>\n",
              "      <td>1202</td>\n",
              "      <td>1160</td>\n",
              "      <td>1185</td>\n",
              "    </tr>\n",
              "  </tbody>\n",
              "</table>\n",
              "</div>"
            ],
            "text/plain": [
              "group               event_name   246   247   248\n",
              "1             MainScreenAppear  2456  2482  2501\n",
              "2           OffersScreenAppear  1545  1530  1538\n",
              "0             CartScreenAppear  1270  1240  1239\n",
              "3      PaymentScreenSuccessful  1202  1160  1185"
            ]
          },
          "metadata": {
            "tags": []
          },
          "execution_count": 0
        }
      ]
    },
    {
      "cell_type": "code",
      "metadata": {
        "colab": {
          "background_save": true,
          "base_uri": "https://localhost:8080/",
          "height": 542
        },
        "id": "w5l6fIl1d0Xi",
        "outputId": "21c46b0a-ac26-4c13-dcf5-6b4ace50ebee"
      },
      "source": [
        "fig = go.Figure()\n",
        "fig.add_trace(go.Funnel(\n",
        "    name = '246',\n",
        "    y = group_pivot['event_name'],\n",
        "    x = group_pivot[246],\n",
        "    textinfo = \"value+percent initial\"))\n",
        "fig.add_trace(go.Funnel(\n",
        "    name = '247',\n",
        "    y = group_pivot['event_name'],\n",
        "    x = group_pivot[247],\n",
        "    textinfo = \"value+percent initial\"))\n",
        "fig.add_trace(go.Funnel(\n",
        "    name = '248',\n",
        "    y = group_pivot['event_name'],\n",
        "    x = group_pivot[248],\n",
        "    textinfo = \"value+percent initial\"))\n",
        "fig.update_layout(title=\"Группы 246, 247 и 248\",\n",
        "                  #xaxis_title=\"x Axis Title\",\n",
        "                  yaxis_title=\"Шаги\",)\n",
        "fig.show()"
      ],
      "execution_count": null,
      "outputs": [
        {
          "output_type": "display_data",
          "data": {
            "text/html": [
              "<html>\n",
              "<head><meta charset=\"utf-8\" /></head>\n",
              "<body>\n",
              "    <div>\n",
              "            <script src=\"https://cdnjs.cloudflare.com/ajax/libs/mathjax/2.7.5/MathJax.js?config=TeX-AMS-MML_SVG\"></script><script type=\"text/javascript\">if (window.MathJax) {MathJax.Hub.Config({SVG: {font: \"STIX-Web\"}});}</script>\n",
              "                <script type=\"text/javascript\">window.PlotlyConfig = {MathJaxConfig: 'local'};</script>\n",
              "        <script src=\"https://cdn.plot.ly/plotly-latest.min.js\"></script>    \n",
              "            <div id=\"19d196f6-92c9-4971-901b-b6d1743dc7b9\" class=\"plotly-graph-div\" style=\"height:525px; width:100%;\"></div>\n",
              "            <script type=\"text/javascript\">\n",
              "                \n",
              "                    window.PLOTLYENV=window.PLOTLYENV || {};\n",
              "                    \n",
              "                if (document.getElementById(\"19d196f6-92c9-4971-901b-b6d1743dc7b9\")) {\n",
              "                    Plotly.newPlot(\n",
              "                        '19d196f6-92c9-4971-901b-b6d1743dc7b9',\n",
              "                        [{\"name\": \"246\", \"textinfo\": \"value+percent initial\", \"type\": \"funnel\", \"x\": [2456, 1545, 1270, 1202], \"y\": [\"MainScreenAppear\", \"OffersScreenAppear\", \"CartScreenAppear\", \"PaymentScreenSuccessful\"]}, {\"name\": \"247\", \"textinfo\": \"value+percent initial\", \"type\": \"funnel\", \"x\": [2482, 1530, 1240, 1160], \"y\": [\"MainScreenAppear\", \"OffersScreenAppear\", \"CartScreenAppear\", \"PaymentScreenSuccessful\"]}, {\"name\": \"248\", \"textinfo\": \"value+percent initial\", \"type\": \"funnel\", \"x\": [2501, 1538, 1239, 1185], \"y\": [\"MainScreenAppear\", \"OffersScreenAppear\", \"CartScreenAppear\", \"PaymentScreenSuccessful\"]}],\n",
              "                        {\"template\": {\"data\": {\"bar\": [{\"error_x\": {\"color\": \"#2a3f5f\"}, \"error_y\": {\"color\": \"#2a3f5f\"}, \"marker\": {\"line\": {\"color\": \"#E5ECF6\", \"width\": 0.5}}, \"type\": \"bar\"}], \"barpolar\": [{\"marker\": {\"line\": {\"color\": \"#E5ECF6\", \"width\": 0.5}}, \"type\": \"barpolar\"}], \"carpet\": [{\"aaxis\": {\"endlinecolor\": \"#2a3f5f\", \"gridcolor\": \"white\", \"linecolor\": \"white\", \"minorgridcolor\": \"white\", \"startlinecolor\": \"#2a3f5f\"}, \"baxis\": {\"endlinecolor\": \"#2a3f5f\", \"gridcolor\": \"white\", \"linecolor\": \"white\", \"minorgridcolor\": \"white\", \"startlinecolor\": \"#2a3f5f\"}, \"type\": \"carpet\"}], \"choropleth\": [{\"colorbar\": {\"outlinewidth\": 0, \"ticks\": \"\"}, \"type\": \"choropleth\"}], \"contour\": [{\"colorbar\": {\"outlinewidth\": 0, \"ticks\": \"\"}, \"colorscale\": [[0.0, \"#0d0887\"], [0.1111111111111111, \"#46039f\"], [0.2222222222222222, \"#7201a8\"], [0.3333333333333333, \"#9c179e\"], [0.4444444444444444, \"#bd3786\"], [0.5555555555555556, \"#d8576b\"], [0.6666666666666666, \"#ed7953\"], [0.7777777777777778, \"#fb9f3a\"], [0.8888888888888888, \"#fdca26\"], [1.0, \"#f0f921\"]], \"type\": \"contour\"}], \"contourcarpet\": [{\"colorbar\": {\"outlinewidth\": 0, \"ticks\": \"\"}, \"type\": \"contourcarpet\"}], \"heatmap\": [{\"colorbar\": {\"outlinewidth\": 0, \"ticks\": \"\"}, \"colorscale\": [[0.0, \"#0d0887\"], [0.1111111111111111, \"#46039f\"], [0.2222222222222222, \"#7201a8\"], [0.3333333333333333, \"#9c179e\"], [0.4444444444444444, \"#bd3786\"], [0.5555555555555556, \"#d8576b\"], [0.6666666666666666, \"#ed7953\"], [0.7777777777777778, \"#fb9f3a\"], [0.8888888888888888, \"#fdca26\"], [1.0, \"#f0f921\"]], \"type\": \"heatmap\"}], \"heatmapgl\": [{\"colorbar\": {\"outlinewidth\": 0, \"ticks\": \"\"}, \"colorscale\": [[0.0, \"#0d0887\"], [0.1111111111111111, \"#46039f\"], [0.2222222222222222, \"#7201a8\"], [0.3333333333333333, \"#9c179e\"], [0.4444444444444444, \"#bd3786\"], [0.5555555555555556, \"#d8576b\"], [0.6666666666666666, \"#ed7953\"], [0.7777777777777778, \"#fb9f3a\"], [0.8888888888888888, \"#fdca26\"], [1.0, \"#f0f921\"]], \"type\": \"heatmapgl\"}], \"histogram\": [{\"marker\": {\"colorbar\": {\"outlinewidth\": 0, \"ticks\": \"\"}}, \"type\": \"histogram\"}], \"histogram2d\": [{\"colorbar\": {\"outlinewidth\": 0, \"ticks\": \"\"}, \"colorscale\": [[0.0, \"#0d0887\"], [0.1111111111111111, \"#46039f\"], [0.2222222222222222, \"#7201a8\"], [0.3333333333333333, \"#9c179e\"], [0.4444444444444444, \"#bd3786\"], [0.5555555555555556, \"#d8576b\"], [0.6666666666666666, \"#ed7953\"], [0.7777777777777778, \"#fb9f3a\"], [0.8888888888888888, \"#fdca26\"], [1.0, \"#f0f921\"]], \"type\": \"histogram2d\"}], \"histogram2dcontour\": [{\"colorbar\": {\"outlinewidth\": 0, \"ticks\": \"\"}, \"colorscale\": [[0.0, \"#0d0887\"], [0.1111111111111111, \"#46039f\"], [0.2222222222222222, \"#7201a8\"], [0.3333333333333333, \"#9c179e\"], [0.4444444444444444, \"#bd3786\"], [0.5555555555555556, \"#d8576b\"], [0.6666666666666666, \"#ed7953\"], [0.7777777777777778, \"#fb9f3a\"], [0.8888888888888888, \"#fdca26\"], [1.0, \"#f0f921\"]], \"type\": \"histogram2dcontour\"}], \"mesh3d\": [{\"colorbar\": {\"outlinewidth\": 0, \"ticks\": \"\"}, \"type\": \"mesh3d\"}], \"parcoords\": [{\"line\": {\"colorbar\": {\"outlinewidth\": 0, \"ticks\": \"\"}}, \"type\": \"parcoords\"}], \"pie\": [{\"automargin\": true, \"type\": \"pie\"}], \"scatter\": [{\"marker\": {\"colorbar\": {\"outlinewidth\": 0, \"ticks\": \"\"}}, \"type\": \"scatter\"}], \"scatter3d\": [{\"line\": {\"colorbar\": {\"outlinewidth\": 0, \"ticks\": \"\"}}, \"marker\": {\"colorbar\": {\"outlinewidth\": 0, \"ticks\": \"\"}}, \"type\": \"scatter3d\"}], \"scattercarpet\": [{\"marker\": {\"colorbar\": {\"outlinewidth\": 0, \"ticks\": \"\"}}, \"type\": \"scattercarpet\"}], \"scattergeo\": [{\"marker\": {\"colorbar\": {\"outlinewidth\": 0, \"ticks\": \"\"}}, \"type\": \"scattergeo\"}], \"scattergl\": [{\"marker\": {\"colorbar\": {\"outlinewidth\": 0, \"ticks\": \"\"}}, \"type\": \"scattergl\"}], \"scattermapbox\": [{\"marker\": {\"colorbar\": {\"outlinewidth\": 0, \"ticks\": \"\"}}, \"type\": \"scattermapbox\"}], \"scatterpolar\": [{\"marker\": {\"colorbar\": {\"outlinewidth\": 0, \"ticks\": \"\"}}, \"type\": \"scatterpolar\"}], \"scatterpolargl\": [{\"marker\": {\"colorbar\": {\"outlinewidth\": 0, \"ticks\": \"\"}}, \"type\": \"scatterpolargl\"}], \"scatterternary\": [{\"marker\": {\"colorbar\": {\"outlinewidth\": 0, \"ticks\": \"\"}}, \"type\": \"scatterternary\"}], \"surface\": [{\"colorbar\": {\"outlinewidth\": 0, \"ticks\": \"\"}, \"colorscale\": [[0.0, \"#0d0887\"], [0.1111111111111111, \"#46039f\"], [0.2222222222222222, \"#7201a8\"], [0.3333333333333333, \"#9c179e\"], [0.4444444444444444, \"#bd3786\"], [0.5555555555555556, \"#d8576b\"], [0.6666666666666666, \"#ed7953\"], [0.7777777777777778, \"#fb9f3a\"], [0.8888888888888888, \"#fdca26\"], [1.0, \"#f0f921\"]], \"type\": \"surface\"}], \"table\": [{\"cells\": {\"fill\": {\"color\": \"#EBF0F8\"}, \"line\": {\"color\": \"white\"}}, \"header\": {\"fill\": {\"color\": \"#C8D4E3\"}, \"line\": {\"color\": \"white\"}}, \"type\": \"table\"}]}, \"layout\": {\"annotationdefaults\": {\"arrowcolor\": \"#2a3f5f\", \"arrowhead\": 0, \"arrowwidth\": 1}, \"coloraxis\": {\"colorbar\": {\"outlinewidth\": 0, \"ticks\": \"\"}}, \"colorscale\": {\"diverging\": [[0, \"#8e0152\"], [0.1, \"#c51b7d\"], [0.2, \"#de77ae\"], [0.3, \"#f1b6da\"], [0.4, \"#fde0ef\"], [0.5, \"#f7f7f7\"], [0.6, \"#e6f5d0\"], [0.7, \"#b8e186\"], [0.8, \"#7fbc41\"], [0.9, \"#4d9221\"], [1, \"#276419\"]], \"sequential\": [[0.0, \"#0d0887\"], [0.1111111111111111, \"#46039f\"], [0.2222222222222222, \"#7201a8\"], [0.3333333333333333, \"#9c179e\"], [0.4444444444444444, \"#bd3786\"], [0.5555555555555556, \"#d8576b\"], [0.6666666666666666, \"#ed7953\"], [0.7777777777777778, \"#fb9f3a\"], [0.8888888888888888, \"#fdca26\"], [1.0, \"#f0f921\"]], \"sequentialminus\": [[0.0, \"#0d0887\"], [0.1111111111111111, \"#46039f\"], [0.2222222222222222, \"#7201a8\"], [0.3333333333333333, \"#9c179e\"], [0.4444444444444444, \"#bd3786\"], [0.5555555555555556, \"#d8576b\"], [0.6666666666666666, \"#ed7953\"], [0.7777777777777778, \"#fb9f3a\"], [0.8888888888888888, \"#fdca26\"], [1.0, \"#f0f921\"]]}, \"colorway\": [\"#636efa\", \"#EF553B\", \"#00cc96\", \"#ab63fa\", \"#FFA15A\", \"#19d3f3\", \"#FF6692\", \"#B6E880\", \"#FF97FF\", \"#FECB52\"], \"font\": {\"color\": \"#2a3f5f\"}, \"geo\": {\"bgcolor\": \"white\", \"lakecolor\": \"white\", \"landcolor\": \"#E5ECF6\", \"showlakes\": true, \"showland\": true, \"subunitcolor\": \"white\"}, \"hoverlabel\": {\"align\": \"left\"}, \"hovermode\": \"closest\", \"mapbox\": {\"style\": \"light\"}, \"paper_bgcolor\": \"white\", \"plot_bgcolor\": \"#E5ECF6\", \"polar\": {\"angularaxis\": {\"gridcolor\": \"white\", \"linecolor\": \"white\", \"ticks\": \"\"}, \"bgcolor\": \"#E5ECF6\", \"radialaxis\": {\"gridcolor\": \"white\", \"linecolor\": \"white\", \"ticks\": \"\"}}, \"scene\": {\"xaxis\": {\"backgroundcolor\": \"#E5ECF6\", \"gridcolor\": \"white\", \"gridwidth\": 2, \"linecolor\": \"white\", \"showbackground\": true, \"ticks\": \"\", \"zerolinecolor\": \"white\"}, \"yaxis\": {\"backgroundcolor\": \"#E5ECF6\", \"gridcolor\": \"white\", \"gridwidth\": 2, \"linecolor\": \"white\", \"showbackground\": true, \"ticks\": \"\", \"zerolinecolor\": \"white\"}, \"zaxis\": {\"backgroundcolor\": \"#E5ECF6\", \"gridcolor\": \"white\", \"gridwidth\": 2, \"linecolor\": \"white\", \"showbackground\": true, \"ticks\": \"\", \"zerolinecolor\": \"white\"}}, \"shapedefaults\": {\"line\": {\"color\": \"#2a3f5f\"}}, \"ternary\": {\"aaxis\": {\"gridcolor\": \"white\", \"linecolor\": \"white\", \"ticks\": \"\"}, \"baxis\": {\"gridcolor\": \"white\", \"linecolor\": \"white\", \"ticks\": \"\"}, \"bgcolor\": \"#E5ECF6\", \"caxis\": {\"gridcolor\": \"white\", \"linecolor\": \"white\", \"ticks\": \"\"}}, \"title\": {\"x\": 0.05}, \"xaxis\": {\"automargin\": true, \"gridcolor\": \"white\", \"linecolor\": \"white\", \"ticks\": \"\", \"title\": {\"standoff\": 15}, \"zerolinecolor\": \"white\", \"zerolinewidth\": 2}, \"yaxis\": {\"automargin\": true, \"gridcolor\": \"white\", \"linecolor\": \"white\", \"ticks\": \"\", \"title\": {\"standoff\": 15}, \"zerolinecolor\": \"white\", \"zerolinewidth\": 2}}}, \"title\": {\"text\": \"\\u0413\\u0440\\u0443\\u043f\\u043f\\u044b 246, 247 \\u0438 248\"}, \"yaxis\": {\"title\": {\"text\": \"\\u0428\\u0430\\u0433\\u0438\"}}},\n",
              "                        {\"responsive\": true}\n",
              "                    ).then(function(){\n",
              "                            \n",
              "var gd = document.getElementById('19d196f6-92c9-4971-901b-b6d1743dc7b9');\n",
              "var x = new MutationObserver(function (mutations, observer) {{\n",
              "        var display = window.getComputedStyle(gd).display;\n",
              "        if (!display || display === 'none') {{\n",
              "            console.log([gd, 'removed!']);\n",
              "            Plotly.purge(gd);\n",
              "            observer.disconnect();\n",
              "        }}\n",
              "}});\n",
              "\n",
              "// Listen for the removal of the full notebook cells\n",
              "var notebookContainer = gd.closest('#notebook-container');\n",
              "if (notebookContainer) {{\n",
              "    x.observe(notebookContainer, {childList: true});\n",
              "}}\n",
              "\n",
              "// Listen for the clearing of the current output cell\n",
              "var outputEl = gd.closest('.output');\n",
              "if (outputEl) {{\n",
              "    x.observe(outputEl, {childList: true});\n",
              "}}\n",
              "\n",
              "                        })\n",
              "                };\n",
              "                \n",
              "            </script>\n",
              "        </div>\n",
              "</body>\n",
              "</html>"
            ]
          },
          "metadata": {
            "tags": []
          }
        }
      ]
    },
    {
      "cell_type": "markdown",
      "metadata": {
        "id": "X8xckumNd0Xj"
      },
      "source": [
        "Мы уже выяснили ранее, что для обеих контрольных групп все события являются стастически достоверными. Перейдём к следующему пункту."
      ]
    },
    {
      "cell_type": "markdown",
      "metadata": {
        "id": "YVCaGzYtd0Xk"
      },
      "source": [
        "### Аналогично поступим с группой с изменённым шрифтом. Сравним результаты с каждой из контрольных групп в отдельности по каждому событию. Сравним результаты с объединённой контрольной группой."
      ]
    },
    {
      "cell_type": "markdown",
      "metadata": {
        "id": "dpH1bSrGd0Xk"
      },
      "source": [
        "Воспользуемся функцией:"
      ]
    },
    {
      "cell_type": "code",
      "metadata": {
        "colab": {
          "background_save": true,
          "base_uri": "https://localhost:8080/",
          "height": 746
        },
        "id": "O2AXj5xzd0Xl",
        "outputId": "1b2e7165-0dea-413c-d841-487388999041"
      },
      "source": [
        "func(246, 248)"
      ],
      "execution_count": null,
      "outputs": [
        {
          "output_type": "stream",
          "text": [
            "MainScreenAppear\n",
            "Не получилось отвергнуть нулевую гипотезу, нет оснований считать доли разными\n",
            "---\n",
            "PaymentScreenSuccessful\n",
            "Не получилось отвергнуть нулевую гипотезу, нет оснований считать доли разными\n",
            "---\n",
            "CartScreenAppear\n",
            "Не получилось отвергнуть нулевую гипотезу, нет оснований считать доли разными\n",
            "---\n",
            "OffersScreenAppear\n",
            "Не получилось отвергнуть нулевую гипотезу, нет оснований считать доли разными\n",
            "---\n"
          ],
          "name": "stdout"
        },
        {
          "output_type": "display_data",
          "data": {
            "text/html": [
              "<html>\n",
              "<head><meta charset=\"utf-8\" /></head>\n",
              "<body>\n",
              "    <div>\n",
              "            <script src=\"https://cdnjs.cloudflare.com/ajax/libs/mathjax/2.7.5/MathJax.js?config=TeX-AMS-MML_SVG\"></script><script type=\"text/javascript\">if (window.MathJax) {MathJax.Hub.Config({SVG: {font: \"STIX-Web\"}});}</script>\n",
              "                <script type=\"text/javascript\">window.PlotlyConfig = {MathJaxConfig: 'local'};</script>\n",
              "        <script src=\"https://cdn.plot.ly/plotly-latest.min.js\"></script>    \n",
              "            <div id=\"802ea24d-2c85-4a85-a10d-e72532cc8b34\" class=\"plotly-graph-div\" style=\"height:525px; width:100%;\"></div>\n",
              "            <script type=\"text/javascript\">\n",
              "                \n",
              "                    window.PLOTLYENV=window.PLOTLYENV || {};\n",
              "                    \n",
              "                if (document.getElementById(\"802ea24d-2c85-4a85-a10d-e72532cc8b34\")) {\n",
              "                    Plotly.newPlot(\n",
              "                        '802ea24d-2c85-4a85-a10d-e72532cc8b34',\n",
              "                        [{\"name\": \"246\", \"textinfo\": \"value+percent initial\", \"type\": \"funnel\", \"x\": [2456, 1545, 1270, 1202], \"y\": [\"MainScreenAppear\", \"OffersScreenAppear\", \"CartScreenAppear\", \"PaymentScreenSuccessful\"]}, {\"name\": \"248\", \"textinfo\": \"value+percent initial\", \"type\": \"funnel\", \"x\": [2501, 1538, 1239, 1185], \"y\": [\"MainScreenAppear\", \"OffersScreenAppear\", \"CartScreenAppear\", \"PaymentScreenSuccessful\"]}],\n",
              "                        {\"template\": {\"data\": {\"bar\": [{\"error_x\": {\"color\": \"#2a3f5f\"}, \"error_y\": {\"color\": \"#2a3f5f\"}, \"marker\": {\"line\": {\"color\": \"#E5ECF6\", \"width\": 0.5}}, \"type\": \"bar\"}], \"barpolar\": [{\"marker\": {\"line\": {\"color\": \"#E5ECF6\", \"width\": 0.5}}, \"type\": \"barpolar\"}], \"carpet\": [{\"aaxis\": {\"endlinecolor\": \"#2a3f5f\", \"gridcolor\": \"white\", \"linecolor\": \"white\", \"minorgridcolor\": \"white\", \"startlinecolor\": \"#2a3f5f\"}, \"baxis\": {\"endlinecolor\": \"#2a3f5f\", \"gridcolor\": \"white\", \"linecolor\": \"white\", \"minorgridcolor\": \"white\", \"startlinecolor\": \"#2a3f5f\"}, \"type\": \"carpet\"}], \"choropleth\": [{\"colorbar\": {\"outlinewidth\": 0, \"ticks\": \"\"}, \"type\": \"choropleth\"}], \"contour\": [{\"colorbar\": {\"outlinewidth\": 0, \"ticks\": \"\"}, \"colorscale\": [[0.0, \"#0d0887\"], [0.1111111111111111, \"#46039f\"], [0.2222222222222222, \"#7201a8\"], [0.3333333333333333, \"#9c179e\"], [0.4444444444444444, \"#bd3786\"], [0.5555555555555556, \"#d8576b\"], [0.6666666666666666, \"#ed7953\"], [0.7777777777777778, \"#fb9f3a\"], [0.8888888888888888, \"#fdca26\"], [1.0, \"#f0f921\"]], \"type\": \"contour\"}], \"contourcarpet\": [{\"colorbar\": {\"outlinewidth\": 0, \"ticks\": \"\"}, \"type\": \"contourcarpet\"}], \"heatmap\": [{\"colorbar\": {\"outlinewidth\": 0, \"ticks\": \"\"}, \"colorscale\": [[0.0, \"#0d0887\"], [0.1111111111111111, \"#46039f\"], [0.2222222222222222, \"#7201a8\"], [0.3333333333333333, \"#9c179e\"], [0.4444444444444444, \"#bd3786\"], [0.5555555555555556, \"#d8576b\"], [0.6666666666666666, \"#ed7953\"], [0.7777777777777778, \"#fb9f3a\"], [0.8888888888888888, \"#fdca26\"], [1.0, \"#f0f921\"]], \"type\": \"heatmap\"}], \"heatmapgl\": [{\"colorbar\": {\"outlinewidth\": 0, \"ticks\": \"\"}, \"colorscale\": [[0.0, \"#0d0887\"], [0.1111111111111111, \"#46039f\"], [0.2222222222222222, \"#7201a8\"], [0.3333333333333333, \"#9c179e\"], [0.4444444444444444, \"#bd3786\"], [0.5555555555555556, \"#d8576b\"], [0.6666666666666666, \"#ed7953\"], [0.7777777777777778, \"#fb9f3a\"], [0.8888888888888888, \"#fdca26\"], [1.0, \"#f0f921\"]], \"type\": \"heatmapgl\"}], \"histogram\": [{\"marker\": {\"colorbar\": {\"outlinewidth\": 0, \"ticks\": \"\"}}, \"type\": \"histogram\"}], \"histogram2d\": [{\"colorbar\": {\"outlinewidth\": 0, \"ticks\": \"\"}, \"colorscale\": [[0.0, \"#0d0887\"], [0.1111111111111111, \"#46039f\"], [0.2222222222222222, \"#7201a8\"], [0.3333333333333333, \"#9c179e\"], [0.4444444444444444, \"#bd3786\"], [0.5555555555555556, \"#d8576b\"], [0.6666666666666666, \"#ed7953\"], [0.7777777777777778, \"#fb9f3a\"], [0.8888888888888888, \"#fdca26\"], [1.0, \"#f0f921\"]], \"type\": \"histogram2d\"}], \"histogram2dcontour\": [{\"colorbar\": {\"outlinewidth\": 0, \"ticks\": \"\"}, \"colorscale\": [[0.0, \"#0d0887\"], [0.1111111111111111, \"#46039f\"], [0.2222222222222222, \"#7201a8\"], [0.3333333333333333, \"#9c179e\"], [0.4444444444444444, \"#bd3786\"], [0.5555555555555556, \"#d8576b\"], [0.6666666666666666, \"#ed7953\"], [0.7777777777777778, \"#fb9f3a\"], [0.8888888888888888, \"#fdca26\"], [1.0, \"#f0f921\"]], \"type\": \"histogram2dcontour\"}], \"mesh3d\": [{\"colorbar\": {\"outlinewidth\": 0, \"ticks\": \"\"}, \"type\": \"mesh3d\"}], \"parcoords\": [{\"line\": {\"colorbar\": {\"outlinewidth\": 0, \"ticks\": \"\"}}, \"type\": \"parcoords\"}], \"pie\": [{\"automargin\": true, \"type\": \"pie\"}], \"scatter\": [{\"marker\": {\"colorbar\": {\"outlinewidth\": 0, \"ticks\": \"\"}}, \"type\": \"scatter\"}], \"scatter3d\": [{\"line\": {\"colorbar\": {\"outlinewidth\": 0, \"ticks\": \"\"}}, \"marker\": {\"colorbar\": {\"outlinewidth\": 0, \"ticks\": \"\"}}, \"type\": \"scatter3d\"}], \"scattercarpet\": [{\"marker\": {\"colorbar\": {\"outlinewidth\": 0, \"ticks\": \"\"}}, \"type\": \"scattercarpet\"}], \"scattergeo\": [{\"marker\": {\"colorbar\": {\"outlinewidth\": 0, \"ticks\": \"\"}}, \"type\": \"scattergeo\"}], \"scattergl\": [{\"marker\": {\"colorbar\": {\"outlinewidth\": 0, \"ticks\": \"\"}}, \"type\": \"scattergl\"}], \"scattermapbox\": [{\"marker\": {\"colorbar\": {\"outlinewidth\": 0, \"ticks\": \"\"}}, \"type\": \"scattermapbox\"}], \"scatterpolar\": [{\"marker\": {\"colorbar\": {\"outlinewidth\": 0, \"ticks\": \"\"}}, \"type\": \"scatterpolar\"}], \"scatterpolargl\": [{\"marker\": {\"colorbar\": {\"outlinewidth\": 0, \"ticks\": \"\"}}, \"type\": \"scatterpolargl\"}], \"scatterternary\": [{\"marker\": {\"colorbar\": {\"outlinewidth\": 0, \"ticks\": \"\"}}, \"type\": \"scatterternary\"}], \"surface\": [{\"colorbar\": {\"outlinewidth\": 0, \"ticks\": \"\"}, \"colorscale\": [[0.0, \"#0d0887\"], [0.1111111111111111, \"#46039f\"], [0.2222222222222222, \"#7201a8\"], [0.3333333333333333, \"#9c179e\"], [0.4444444444444444, \"#bd3786\"], [0.5555555555555556, \"#d8576b\"], [0.6666666666666666, \"#ed7953\"], [0.7777777777777778, \"#fb9f3a\"], [0.8888888888888888, \"#fdca26\"], [1.0, \"#f0f921\"]], \"type\": \"surface\"}], \"table\": [{\"cells\": {\"fill\": {\"color\": \"#EBF0F8\"}, \"line\": {\"color\": \"white\"}}, \"header\": {\"fill\": {\"color\": \"#C8D4E3\"}, \"line\": {\"color\": \"white\"}}, \"type\": \"table\"}]}, \"layout\": {\"annotationdefaults\": {\"arrowcolor\": \"#2a3f5f\", \"arrowhead\": 0, \"arrowwidth\": 1}, \"coloraxis\": {\"colorbar\": {\"outlinewidth\": 0, \"ticks\": \"\"}}, \"colorscale\": {\"diverging\": [[0, \"#8e0152\"], [0.1, \"#c51b7d\"], [0.2, \"#de77ae\"], [0.3, \"#f1b6da\"], [0.4, \"#fde0ef\"], [0.5, \"#f7f7f7\"], [0.6, \"#e6f5d0\"], [0.7, \"#b8e186\"], [0.8, \"#7fbc41\"], [0.9, \"#4d9221\"], [1, \"#276419\"]], \"sequential\": [[0.0, \"#0d0887\"], [0.1111111111111111, \"#46039f\"], [0.2222222222222222, \"#7201a8\"], [0.3333333333333333, \"#9c179e\"], [0.4444444444444444, \"#bd3786\"], [0.5555555555555556, \"#d8576b\"], [0.6666666666666666, \"#ed7953\"], [0.7777777777777778, \"#fb9f3a\"], [0.8888888888888888, \"#fdca26\"], [1.0, \"#f0f921\"]], \"sequentialminus\": [[0.0, \"#0d0887\"], [0.1111111111111111, \"#46039f\"], [0.2222222222222222, \"#7201a8\"], [0.3333333333333333, \"#9c179e\"], [0.4444444444444444, \"#bd3786\"], [0.5555555555555556, \"#d8576b\"], [0.6666666666666666, \"#ed7953\"], [0.7777777777777778, \"#fb9f3a\"], [0.8888888888888888, \"#fdca26\"], [1.0, \"#f0f921\"]]}, \"colorway\": [\"#636efa\", \"#EF553B\", \"#00cc96\", \"#ab63fa\", \"#FFA15A\", \"#19d3f3\", \"#FF6692\", \"#B6E880\", \"#FF97FF\", \"#FECB52\"], \"font\": {\"color\": \"#2a3f5f\"}, \"geo\": {\"bgcolor\": \"white\", \"lakecolor\": \"white\", \"landcolor\": \"#E5ECF6\", \"showlakes\": true, \"showland\": true, \"subunitcolor\": \"white\"}, \"hoverlabel\": {\"align\": \"left\"}, \"hovermode\": \"closest\", \"mapbox\": {\"style\": \"light\"}, \"paper_bgcolor\": \"white\", \"plot_bgcolor\": \"#E5ECF6\", \"polar\": {\"angularaxis\": {\"gridcolor\": \"white\", \"linecolor\": \"white\", \"ticks\": \"\"}, \"bgcolor\": \"#E5ECF6\", \"radialaxis\": {\"gridcolor\": \"white\", \"linecolor\": \"white\", \"ticks\": \"\"}}, \"scene\": {\"xaxis\": {\"backgroundcolor\": \"#E5ECF6\", \"gridcolor\": \"white\", \"gridwidth\": 2, \"linecolor\": \"white\", \"showbackground\": true, \"ticks\": \"\", \"zerolinecolor\": \"white\"}, \"yaxis\": {\"backgroundcolor\": \"#E5ECF6\", \"gridcolor\": \"white\", \"gridwidth\": 2, \"linecolor\": \"white\", \"showbackground\": true, \"ticks\": \"\", \"zerolinecolor\": \"white\"}, \"zaxis\": {\"backgroundcolor\": \"#E5ECF6\", \"gridcolor\": \"white\", \"gridwidth\": 2, \"linecolor\": \"white\", \"showbackground\": true, \"ticks\": \"\", \"zerolinecolor\": \"white\"}}, \"shapedefaults\": {\"line\": {\"color\": \"#2a3f5f\"}}, \"ternary\": {\"aaxis\": {\"gridcolor\": \"white\", \"linecolor\": \"white\", \"ticks\": \"\"}, \"baxis\": {\"gridcolor\": \"white\", \"linecolor\": \"white\", \"ticks\": \"\"}, \"bgcolor\": \"#E5ECF6\", \"caxis\": {\"gridcolor\": \"white\", \"linecolor\": \"white\", \"ticks\": \"\"}}, \"title\": {\"x\": 0.05}, \"xaxis\": {\"automargin\": true, \"gridcolor\": \"white\", \"linecolor\": \"white\", \"ticks\": \"\", \"title\": {\"standoff\": 15}, \"zerolinecolor\": \"white\", \"zerolinewidth\": 2}, \"yaxis\": {\"automargin\": true, \"gridcolor\": \"white\", \"linecolor\": \"white\", \"ticks\": \"\", \"title\": {\"standoff\": 15}, \"zerolinecolor\": \"white\", \"zerolinewidth\": 2}}}, \"title\": {\"text\": \"\\u0413\\u0440\\u0443\\u043f\\u043f\\u044b 246 \\u0438 248\"}, \"yaxis\": {\"title\": {\"text\": \"\\u0428\\u0430\\u0433\\u0438\"}}},\n",
              "                        {\"responsive\": true}\n",
              "                    ).then(function(){\n",
              "                            \n",
              "var gd = document.getElementById('802ea24d-2c85-4a85-a10d-e72532cc8b34');\n",
              "var x = new MutationObserver(function (mutations, observer) {{\n",
              "        var display = window.getComputedStyle(gd).display;\n",
              "        if (!display || display === 'none') {{\n",
              "            console.log([gd, 'removed!']);\n",
              "            Plotly.purge(gd);\n",
              "            observer.disconnect();\n",
              "        }}\n",
              "}});\n",
              "\n",
              "// Listen for the removal of the full notebook cells\n",
              "var notebookContainer = gd.closest('#notebook-container');\n",
              "if (notebookContainer) {{\n",
              "    x.observe(notebookContainer, {childList: true});\n",
              "}}\n",
              "\n",
              "// Listen for the clearing of the current output cell\n",
              "var outputEl = gd.closest('.output');\n",
              "if (outputEl) {{\n",
              "    x.observe(outputEl, {childList: true});\n",
              "}}\n",
              "\n",
              "                        })\n",
              "                };\n",
              "                \n",
              "            </script>\n",
              "        </div>\n",
              "</body>\n",
              "</html>"
            ]
          },
          "metadata": {
            "tags": []
          }
        }
      ]
    },
    {
      "cell_type": "code",
      "metadata": {
        "colab": {
          "background_save": true,
          "base_uri": "https://localhost:8080/",
          "height": 746
        },
        "id": "HU5J6NCed0Xm",
        "outputId": "4afb8b1f-b5ac-4a05-821e-8390d83dd635"
      },
      "source": [
        "func(247, 248)"
      ],
      "execution_count": null,
      "outputs": [
        {
          "output_type": "stream",
          "text": [
            "MainScreenAppear\n",
            "Не получилось отвергнуть нулевую гипотезу, нет оснований считать доли разными\n",
            "---\n",
            "PaymentScreenSuccessful\n",
            "Не получилось отвергнуть нулевую гипотезу, нет оснований считать доли разными\n",
            "---\n",
            "CartScreenAppear\n",
            "Не получилось отвергнуть нулевую гипотезу, нет оснований считать доли разными\n",
            "---\n",
            "OffersScreenAppear\n",
            "Не получилось отвергнуть нулевую гипотезу, нет оснований считать доли разными\n",
            "---\n"
          ],
          "name": "stdout"
        },
        {
          "output_type": "display_data",
          "data": {
            "text/html": [
              "<html>\n",
              "<head><meta charset=\"utf-8\" /></head>\n",
              "<body>\n",
              "    <div>\n",
              "            <script src=\"https://cdnjs.cloudflare.com/ajax/libs/mathjax/2.7.5/MathJax.js?config=TeX-AMS-MML_SVG\"></script><script type=\"text/javascript\">if (window.MathJax) {MathJax.Hub.Config({SVG: {font: \"STIX-Web\"}});}</script>\n",
              "                <script type=\"text/javascript\">window.PlotlyConfig = {MathJaxConfig: 'local'};</script>\n",
              "        <script src=\"https://cdn.plot.ly/plotly-latest.min.js\"></script>    \n",
              "            <div id=\"bedcd526-941c-47c0-9f72-852098e6b7d1\" class=\"plotly-graph-div\" style=\"height:525px; width:100%;\"></div>\n",
              "            <script type=\"text/javascript\">\n",
              "                \n",
              "                    window.PLOTLYENV=window.PLOTLYENV || {};\n",
              "                    \n",
              "                if (document.getElementById(\"bedcd526-941c-47c0-9f72-852098e6b7d1\")) {\n",
              "                    Plotly.newPlot(\n",
              "                        'bedcd526-941c-47c0-9f72-852098e6b7d1',\n",
              "                        [{\"name\": \"247\", \"textinfo\": \"value+percent initial\", \"type\": \"funnel\", \"x\": [2482, 1530, 1240, 1160], \"y\": [\"MainScreenAppear\", \"OffersScreenAppear\", \"CartScreenAppear\", \"PaymentScreenSuccessful\"]}, {\"name\": \"248\", \"textinfo\": \"value+percent initial\", \"type\": \"funnel\", \"x\": [2501, 1538, 1239, 1185], \"y\": [\"MainScreenAppear\", \"OffersScreenAppear\", \"CartScreenAppear\", \"PaymentScreenSuccessful\"]}],\n",
              "                        {\"template\": {\"data\": {\"bar\": [{\"error_x\": {\"color\": \"#2a3f5f\"}, \"error_y\": {\"color\": \"#2a3f5f\"}, \"marker\": {\"line\": {\"color\": \"#E5ECF6\", \"width\": 0.5}}, \"type\": \"bar\"}], \"barpolar\": [{\"marker\": {\"line\": {\"color\": \"#E5ECF6\", \"width\": 0.5}}, \"type\": \"barpolar\"}], \"carpet\": [{\"aaxis\": {\"endlinecolor\": \"#2a3f5f\", \"gridcolor\": \"white\", \"linecolor\": \"white\", \"minorgridcolor\": \"white\", \"startlinecolor\": \"#2a3f5f\"}, \"baxis\": {\"endlinecolor\": \"#2a3f5f\", \"gridcolor\": \"white\", \"linecolor\": \"white\", \"minorgridcolor\": \"white\", \"startlinecolor\": \"#2a3f5f\"}, \"type\": \"carpet\"}], \"choropleth\": [{\"colorbar\": {\"outlinewidth\": 0, \"ticks\": \"\"}, \"type\": \"choropleth\"}], \"contour\": [{\"colorbar\": {\"outlinewidth\": 0, \"ticks\": \"\"}, \"colorscale\": [[0.0, \"#0d0887\"], [0.1111111111111111, \"#46039f\"], [0.2222222222222222, \"#7201a8\"], [0.3333333333333333, \"#9c179e\"], [0.4444444444444444, \"#bd3786\"], [0.5555555555555556, \"#d8576b\"], [0.6666666666666666, \"#ed7953\"], [0.7777777777777778, \"#fb9f3a\"], [0.8888888888888888, \"#fdca26\"], [1.0, \"#f0f921\"]], \"type\": \"contour\"}], \"contourcarpet\": [{\"colorbar\": {\"outlinewidth\": 0, \"ticks\": \"\"}, \"type\": \"contourcarpet\"}], \"heatmap\": [{\"colorbar\": {\"outlinewidth\": 0, \"ticks\": \"\"}, \"colorscale\": [[0.0, \"#0d0887\"], [0.1111111111111111, \"#46039f\"], [0.2222222222222222, \"#7201a8\"], [0.3333333333333333, \"#9c179e\"], [0.4444444444444444, \"#bd3786\"], [0.5555555555555556, \"#d8576b\"], [0.6666666666666666, \"#ed7953\"], [0.7777777777777778, \"#fb9f3a\"], [0.8888888888888888, \"#fdca26\"], [1.0, \"#f0f921\"]], \"type\": \"heatmap\"}], \"heatmapgl\": [{\"colorbar\": {\"outlinewidth\": 0, \"ticks\": \"\"}, \"colorscale\": [[0.0, \"#0d0887\"], [0.1111111111111111, \"#46039f\"], [0.2222222222222222, \"#7201a8\"], [0.3333333333333333, \"#9c179e\"], [0.4444444444444444, \"#bd3786\"], [0.5555555555555556, \"#d8576b\"], [0.6666666666666666, \"#ed7953\"], [0.7777777777777778, \"#fb9f3a\"], [0.8888888888888888, \"#fdca26\"], [1.0, \"#f0f921\"]], \"type\": \"heatmapgl\"}], \"histogram\": [{\"marker\": {\"colorbar\": {\"outlinewidth\": 0, \"ticks\": \"\"}}, \"type\": \"histogram\"}], \"histogram2d\": [{\"colorbar\": {\"outlinewidth\": 0, \"ticks\": \"\"}, \"colorscale\": [[0.0, \"#0d0887\"], [0.1111111111111111, \"#46039f\"], [0.2222222222222222, \"#7201a8\"], [0.3333333333333333, \"#9c179e\"], [0.4444444444444444, \"#bd3786\"], [0.5555555555555556, \"#d8576b\"], [0.6666666666666666, \"#ed7953\"], [0.7777777777777778, \"#fb9f3a\"], [0.8888888888888888, \"#fdca26\"], [1.0, \"#f0f921\"]], \"type\": \"histogram2d\"}], \"histogram2dcontour\": [{\"colorbar\": {\"outlinewidth\": 0, \"ticks\": \"\"}, \"colorscale\": [[0.0, \"#0d0887\"], [0.1111111111111111, \"#46039f\"], [0.2222222222222222, \"#7201a8\"], [0.3333333333333333, \"#9c179e\"], [0.4444444444444444, \"#bd3786\"], [0.5555555555555556, \"#d8576b\"], [0.6666666666666666, \"#ed7953\"], [0.7777777777777778, \"#fb9f3a\"], [0.8888888888888888, \"#fdca26\"], [1.0, \"#f0f921\"]], \"type\": \"histogram2dcontour\"}], \"mesh3d\": [{\"colorbar\": {\"outlinewidth\": 0, \"ticks\": \"\"}, \"type\": \"mesh3d\"}], \"parcoords\": [{\"line\": {\"colorbar\": {\"outlinewidth\": 0, \"ticks\": \"\"}}, \"type\": \"parcoords\"}], \"pie\": [{\"automargin\": true, \"type\": \"pie\"}], \"scatter\": [{\"marker\": {\"colorbar\": {\"outlinewidth\": 0, \"ticks\": \"\"}}, \"type\": \"scatter\"}], \"scatter3d\": [{\"line\": {\"colorbar\": {\"outlinewidth\": 0, \"ticks\": \"\"}}, \"marker\": {\"colorbar\": {\"outlinewidth\": 0, \"ticks\": \"\"}}, \"type\": \"scatter3d\"}], \"scattercarpet\": [{\"marker\": {\"colorbar\": {\"outlinewidth\": 0, \"ticks\": \"\"}}, \"type\": \"scattercarpet\"}], \"scattergeo\": [{\"marker\": {\"colorbar\": {\"outlinewidth\": 0, \"ticks\": \"\"}}, \"type\": \"scattergeo\"}], \"scattergl\": [{\"marker\": {\"colorbar\": {\"outlinewidth\": 0, \"ticks\": \"\"}}, \"type\": \"scattergl\"}], \"scattermapbox\": [{\"marker\": {\"colorbar\": {\"outlinewidth\": 0, \"ticks\": \"\"}}, \"type\": \"scattermapbox\"}], \"scatterpolar\": [{\"marker\": {\"colorbar\": {\"outlinewidth\": 0, \"ticks\": \"\"}}, \"type\": \"scatterpolar\"}], \"scatterpolargl\": [{\"marker\": {\"colorbar\": {\"outlinewidth\": 0, \"ticks\": \"\"}}, \"type\": \"scatterpolargl\"}], \"scatterternary\": [{\"marker\": {\"colorbar\": {\"outlinewidth\": 0, \"ticks\": \"\"}}, \"type\": \"scatterternary\"}], \"surface\": [{\"colorbar\": {\"outlinewidth\": 0, \"ticks\": \"\"}, \"colorscale\": [[0.0, \"#0d0887\"], [0.1111111111111111, \"#46039f\"], [0.2222222222222222, \"#7201a8\"], [0.3333333333333333, \"#9c179e\"], [0.4444444444444444, \"#bd3786\"], [0.5555555555555556, \"#d8576b\"], [0.6666666666666666, \"#ed7953\"], [0.7777777777777778, \"#fb9f3a\"], [0.8888888888888888, \"#fdca26\"], [1.0, \"#f0f921\"]], \"type\": \"surface\"}], \"table\": [{\"cells\": {\"fill\": {\"color\": \"#EBF0F8\"}, \"line\": {\"color\": \"white\"}}, \"header\": {\"fill\": {\"color\": \"#C8D4E3\"}, \"line\": {\"color\": \"white\"}}, \"type\": \"table\"}]}, \"layout\": {\"annotationdefaults\": {\"arrowcolor\": \"#2a3f5f\", \"arrowhead\": 0, \"arrowwidth\": 1}, \"coloraxis\": {\"colorbar\": {\"outlinewidth\": 0, \"ticks\": \"\"}}, \"colorscale\": {\"diverging\": [[0, \"#8e0152\"], [0.1, \"#c51b7d\"], [0.2, \"#de77ae\"], [0.3, \"#f1b6da\"], [0.4, \"#fde0ef\"], [0.5, \"#f7f7f7\"], [0.6, \"#e6f5d0\"], [0.7, \"#b8e186\"], [0.8, \"#7fbc41\"], [0.9, \"#4d9221\"], [1, \"#276419\"]], \"sequential\": [[0.0, \"#0d0887\"], [0.1111111111111111, \"#46039f\"], [0.2222222222222222, \"#7201a8\"], [0.3333333333333333, \"#9c179e\"], [0.4444444444444444, \"#bd3786\"], [0.5555555555555556, \"#d8576b\"], [0.6666666666666666, \"#ed7953\"], [0.7777777777777778, \"#fb9f3a\"], [0.8888888888888888, \"#fdca26\"], [1.0, \"#f0f921\"]], \"sequentialminus\": [[0.0, \"#0d0887\"], [0.1111111111111111, \"#46039f\"], [0.2222222222222222, \"#7201a8\"], [0.3333333333333333, \"#9c179e\"], [0.4444444444444444, \"#bd3786\"], [0.5555555555555556, \"#d8576b\"], [0.6666666666666666, \"#ed7953\"], [0.7777777777777778, \"#fb9f3a\"], [0.8888888888888888, \"#fdca26\"], [1.0, \"#f0f921\"]]}, \"colorway\": [\"#636efa\", \"#EF553B\", \"#00cc96\", \"#ab63fa\", \"#FFA15A\", \"#19d3f3\", \"#FF6692\", \"#B6E880\", \"#FF97FF\", \"#FECB52\"], \"font\": {\"color\": \"#2a3f5f\"}, \"geo\": {\"bgcolor\": \"white\", \"lakecolor\": \"white\", \"landcolor\": \"#E5ECF6\", \"showlakes\": true, \"showland\": true, \"subunitcolor\": \"white\"}, \"hoverlabel\": {\"align\": \"left\"}, \"hovermode\": \"closest\", \"mapbox\": {\"style\": \"light\"}, \"paper_bgcolor\": \"white\", \"plot_bgcolor\": \"#E5ECF6\", \"polar\": {\"angularaxis\": {\"gridcolor\": \"white\", \"linecolor\": \"white\", \"ticks\": \"\"}, \"bgcolor\": \"#E5ECF6\", \"radialaxis\": {\"gridcolor\": \"white\", \"linecolor\": \"white\", \"ticks\": \"\"}}, \"scene\": {\"xaxis\": {\"backgroundcolor\": \"#E5ECF6\", \"gridcolor\": \"white\", \"gridwidth\": 2, \"linecolor\": \"white\", \"showbackground\": true, \"ticks\": \"\", \"zerolinecolor\": \"white\"}, \"yaxis\": {\"backgroundcolor\": \"#E5ECF6\", \"gridcolor\": \"white\", \"gridwidth\": 2, \"linecolor\": \"white\", \"showbackground\": true, \"ticks\": \"\", \"zerolinecolor\": \"white\"}, \"zaxis\": {\"backgroundcolor\": \"#E5ECF6\", \"gridcolor\": \"white\", \"gridwidth\": 2, \"linecolor\": \"white\", \"showbackground\": true, \"ticks\": \"\", \"zerolinecolor\": \"white\"}}, \"shapedefaults\": {\"line\": {\"color\": \"#2a3f5f\"}}, \"ternary\": {\"aaxis\": {\"gridcolor\": \"white\", \"linecolor\": \"white\", \"ticks\": \"\"}, \"baxis\": {\"gridcolor\": \"white\", \"linecolor\": \"white\", \"ticks\": \"\"}, \"bgcolor\": \"#E5ECF6\", \"caxis\": {\"gridcolor\": \"white\", \"linecolor\": \"white\", \"ticks\": \"\"}}, \"title\": {\"x\": 0.05}, \"xaxis\": {\"automargin\": true, \"gridcolor\": \"white\", \"linecolor\": \"white\", \"ticks\": \"\", \"title\": {\"standoff\": 15}, \"zerolinecolor\": \"white\", \"zerolinewidth\": 2}, \"yaxis\": {\"automargin\": true, \"gridcolor\": \"white\", \"linecolor\": \"white\", \"ticks\": \"\", \"title\": {\"standoff\": 15}, \"zerolinecolor\": \"white\", \"zerolinewidth\": 2}}}, \"title\": {\"text\": \"\\u0413\\u0440\\u0443\\u043f\\u043f\\u044b 247 \\u0438 248\"}, \"yaxis\": {\"title\": {\"text\": \"\\u0428\\u0430\\u0433\\u0438\"}}},\n",
              "                        {\"responsive\": true}\n",
              "                    ).then(function(){\n",
              "                            \n",
              "var gd = document.getElementById('bedcd526-941c-47c0-9f72-852098e6b7d1');\n",
              "var x = new MutationObserver(function (mutations, observer) {{\n",
              "        var display = window.getComputedStyle(gd).display;\n",
              "        if (!display || display === 'none') {{\n",
              "            console.log([gd, 'removed!']);\n",
              "            Plotly.purge(gd);\n",
              "            observer.disconnect();\n",
              "        }}\n",
              "}});\n",
              "\n",
              "// Listen for the removal of the full notebook cells\n",
              "var notebookContainer = gd.closest('#notebook-container');\n",
              "if (notebookContainer) {{\n",
              "    x.observe(notebookContainer, {childList: true});\n",
              "}}\n",
              "\n",
              "// Listen for the clearing of the current output cell\n",
              "var outputEl = gd.closest('.output');\n",
              "if (outputEl) {{\n",
              "    x.observe(outputEl, {childList: true});\n",
              "}}\n",
              "\n",
              "                        })\n",
              "                };\n",
              "                \n",
              "            </script>\n",
              "        </div>\n",
              "</body>\n",
              "</html>"
            ]
          },
          "metadata": {
            "tags": []
          }
        }
      ]
    },
    {
      "cell_type": "markdown",
      "metadata": {
        "id": "Q80TuByfd0Xn"
      },
      "source": [
        "Для объединённой контрольной группы немного перепишем код функции."
      ]
    },
    {
      "cell_type": "code",
      "metadata": {
        "colab": {
          "background_save": true
        },
        "id": "aY7kj1sWd0Xn"
      },
      "source": [
        "group_pivot['246+247'] = group_pivot[246] + group_pivot[247]"
      ],
      "execution_count": null,
      "outputs": []
    },
    {
      "cell_type": "code",
      "metadata": {
        "colab": {
          "background_save": true,
          "base_uri": "https://localhost:8080/",
          "height": 814
        },
        "id": "9ZTirCnWd0Xo",
        "outputId": "e0625687-4267-4f5f-a6e5-f7fa5ea4ece2"
      },
      "source": [
        "    alpha = 0.05  \n",
        "    \n",
        "    purchases = []\n",
        "    for i in data_new['event_name'].unique():\n",
        "        purchases = [data_new.query('group == 246 & event_name == @i')['user_id'].nunique() + data_new.query('group == 247 & event_name == @i')['user_id'].nunique(),\n",
        "        data_new.query('group == 248 & event_name == @i')['user_id'].nunique()]\n",
        "        purchases.append(i)\n",
        "        leads = [data_new.query('group == 246')['user_id'].nunique() + data_new.query('group == 247')['user_id'].nunique(),\n",
        "             data_new.query('group == 248')['user_id'].nunique()]\n",
        "\n",
        "        p1 = purchases[0]/leads[0]\n",
        "        p2 = purchases[1]/leads[1]\n",
        "        p_combined = (purchases[0] + purchases[1]) / (leads[0] + leads[1])        \n",
        "        difference = p1 - p2\n",
        "        z_value = difference / mth.sqrt(p_combined * (1 - p_combined) * (1/leads[0] + 1/leads[1]))\n",
        "        distr = st.norm(0, 1)  \n",
        "        p_value = (1 - distr.cdf(abs(z_value))) * 2\n",
        "\n",
        "        print(i)\n",
        "        print(purchases)\n",
        "        if p_value < alpha:\n",
        "            print('Отвергаем нулевую гипотезу: между долями есть значимая разница')\n",
        "        else:\n",
        "            print(\n",
        "                'Не получилось отвергнуть нулевую гипотезу, нет оснований считать доли разными'\n",
        "            )\n",
        "        print('---')\n",
        "\n",
        "    fig = go.Figure()\n",
        "    fig.add_trace(go.Funnel(\n",
        "        name = '246+247',\n",
        "        y = group_pivot['event_name'],\n",
        "        x = group_pivot['246+247'],\n",
        "        textinfo = \"value+percent initial\"))\n",
        "    fig.add_trace(go.Funnel(\n",
        "        name = '248',\n",
        "        y = group_pivot['event_name'],\n",
        "        x = group_pivot[248],\n",
        "        textinfo = \"value+percent initial\"))\n",
        "    fig.update_layout(title=\"Группы 246, 247 и 248\",\n",
        "                 # xaxis_title=\"x Axis Title\",\n",
        "                  yaxis_title=\"Шаги\",)\n",
        "    fig.show()"
      ],
      "execution_count": null,
      "outputs": [
        {
          "output_type": "stream",
          "text": [
            "MainScreenAppear\n",
            "[4938, 2501, 'MainScreenAppear']\n",
            "Не получилось отвергнуть нулевую гипотезу, нет оснований считать доли разными\n",
            "---\n",
            "PaymentScreenSuccessful\n",
            "[2362, 1185, 'PaymentScreenSuccessful']\n",
            "Не получилось отвергнуть нулевую гипотезу, нет оснований считать доли разными\n",
            "---\n",
            "CartScreenAppear\n",
            "[2510, 1239, 'CartScreenAppear']\n",
            "Не получилось отвергнуть нулевую гипотезу, нет оснований считать доли разными\n",
            "---\n",
            "OffersScreenAppear\n",
            "[3075, 1538, 'OffersScreenAppear']\n",
            "Не получилось отвергнуть нулевую гипотезу, нет оснований считать доли разными\n",
            "---\n"
          ],
          "name": "stdout"
        },
        {
          "output_type": "display_data",
          "data": {
            "text/html": [
              "<html>\n",
              "<head><meta charset=\"utf-8\" /></head>\n",
              "<body>\n",
              "    <div>\n",
              "            <script src=\"https://cdnjs.cloudflare.com/ajax/libs/mathjax/2.7.5/MathJax.js?config=TeX-AMS-MML_SVG\"></script><script type=\"text/javascript\">if (window.MathJax) {MathJax.Hub.Config({SVG: {font: \"STIX-Web\"}});}</script>\n",
              "                <script type=\"text/javascript\">window.PlotlyConfig = {MathJaxConfig: 'local'};</script>\n",
              "        <script src=\"https://cdn.plot.ly/plotly-latest.min.js\"></script>    \n",
              "            <div id=\"f199e267-e3c9-4c0e-9724-721406ab2757\" class=\"plotly-graph-div\" style=\"height:525px; width:100%;\"></div>\n",
              "            <script type=\"text/javascript\">\n",
              "                \n",
              "                    window.PLOTLYENV=window.PLOTLYENV || {};\n",
              "                    \n",
              "                if (document.getElementById(\"f199e267-e3c9-4c0e-9724-721406ab2757\")) {\n",
              "                    Plotly.newPlot(\n",
              "                        'f199e267-e3c9-4c0e-9724-721406ab2757',\n",
              "                        [{\"name\": \"246+247\", \"textinfo\": \"value+percent initial\", \"type\": \"funnel\", \"x\": [4938, 3075, 2510, 2362], \"y\": [\"MainScreenAppear\", \"OffersScreenAppear\", \"CartScreenAppear\", \"PaymentScreenSuccessful\"]}, {\"name\": \"248\", \"textinfo\": \"value+percent initial\", \"type\": \"funnel\", \"x\": [2501, 1538, 1239, 1185], \"y\": [\"MainScreenAppear\", \"OffersScreenAppear\", \"CartScreenAppear\", \"PaymentScreenSuccessful\"]}],\n",
              "                        {\"template\": {\"data\": {\"bar\": [{\"error_x\": {\"color\": \"#2a3f5f\"}, \"error_y\": {\"color\": \"#2a3f5f\"}, \"marker\": {\"line\": {\"color\": \"#E5ECF6\", \"width\": 0.5}}, \"type\": \"bar\"}], \"barpolar\": [{\"marker\": {\"line\": {\"color\": \"#E5ECF6\", \"width\": 0.5}}, \"type\": \"barpolar\"}], \"carpet\": [{\"aaxis\": {\"endlinecolor\": \"#2a3f5f\", \"gridcolor\": \"white\", \"linecolor\": \"white\", \"minorgridcolor\": \"white\", \"startlinecolor\": \"#2a3f5f\"}, \"baxis\": {\"endlinecolor\": \"#2a3f5f\", \"gridcolor\": \"white\", \"linecolor\": \"white\", \"minorgridcolor\": \"white\", \"startlinecolor\": \"#2a3f5f\"}, \"type\": \"carpet\"}], \"choropleth\": [{\"colorbar\": {\"outlinewidth\": 0, \"ticks\": \"\"}, \"type\": \"choropleth\"}], \"contour\": [{\"colorbar\": {\"outlinewidth\": 0, \"ticks\": \"\"}, \"colorscale\": [[0.0, \"#0d0887\"], [0.1111111111111111, \"#46039f\"], [0.2222222222222222, \"#7201a8\"], [0.3333333333333333, \"#9c179e\"], [0.4444444444444444, \"#bd3786\"], [0.5555555555555556, \"#d8576b\"], [0.6666666666666666, \"#ed7953\"], [0.7777777777777778, \"#fb9f3a\"], [0.8888888888888888, \"#fdca26\"], [1.0, \"#f0f921\"]], \"type\": \"contour\"}], \"contourcarpet\": [{\"colorbar\": {\"outlinewidth\": 0, \"ticks\": \"\"}, \"type\": \"contourcarpet\"}], \"heatmap\": [{\"colorbar\": {\"outlinewidth\": 0, \"ticks\": \"\"}, \"colorscale\": [[0.0, \"#0d0887\"], [0.1111111111111111, \"#46039f\"], [0.2222222222222222, \"#7201a8\"], [0.3333333333333333, \"#9c179e\"], [0.4444444444444444, \"#bd3786\"], [0.5555555555555556, \"#d8576b\"], [0.6666666666666666, \"#ed7953\"], [0.7777777777777778, \"#fb9f3a\"], [0.8888888888888888, \"#fdca26\"], [1.0, \"#f0f921\"]], \"type\": \"heatmap\"}], \"heatmapgl\": [{\"colorbar\": {\"outlinewidth\": 0, \"ticks\": \"\"}, \"colorscale\": [[0.0, \"#0d0887\"], [0.1111111111111111, \"#46039f\"], [0.2222222222222222, \"#7201a8\"], [0.3333333333333333, \"#9c179e\"], [0.4444444444444444, \"#bd3786\"], [0.5555555555555556, \"#d8576b\"], [0.6666666666666666, \"#ed7953\"], [0.7777777777777778, \"#fb9f3a\"], [0.8888888888888888, \"#fdca26\"], [1.0, \"#f0f921\"]], \"type\": \"heatmapgl\"}], \"histogram\": [{\"marker\": {\"colorbar\": {\"outlinewidth\": 0, \"ticks\": \"\"}}, \"type\": \"histogram\"}], \"histogram2d\": [{\"colorbar\": {\"outlinewidth\": 0, \"ticks\": \"\"}, \"colorscale\": [[0.0, \"#0d0887\"], [0.1111111111111111, \"#46039f\"], [0.2222222222222222, \"#7201a8\"], [0.3333333333333333, \"#9c179e\"], [0.4444444444444444, \"#bd3786\"], [0.5555555555555556, \"#d8576b\"], [0.6666666666666666, \"#ed7953\"], [0.7777777777777778, \"#fb9f3a\"], [0.8888888888888888, \"#fdca26\"], [1.0, \"#f0f921\"]], \"type\": \"histogram2d\"}], \"histogram2dcontour\": [{\"colorbar\": {\"outlinewidth\": 0, \"ticks\": \"\"}, \"colorscale\": [[0.0, \"#0d0887\"], [0.1111111111111111, \"#46039f\"], [0.2222222222222222, \"#7201a8\"], [0.3333333333333333, \"#9c179e\"], [0.4444444444444444, \"#bd3786\"], [0.5555555555555556, \"#d8576b\"], [0.6666666666666666, \"#ed7953\"], [0.7777777777777778, \"#fb9f3a\"], [0.8888888888888888, \"#fdca26\"], [1.0, \"#f0f921\"]], \"type\": \"histogram2dcontour\"}], \"mesh3d\": [{\"colorbar\": {\"outlinewidth\": 0, \"ticks\": \"\"}, \"type\": \"mesh3d\"}], \"parcoords\": [{\"line\": {\"colorbar\": {\"outlinewidth\": 0, \"ticks\": \"\"}}, \"type\": \"parcoords\"}], \"pie\": [{\"automargin\": true, \"type\": \"pie\"}], \"scatter\": [{\"marker\": {\"colorbar\": {\"outlinewidth\": 0, \"ticks\": \"\"}}, \"type\": \"scatter\"}], \"scatter3d\": [{\"line\": {\"colorbar\": {\"outlinewidth\": 0, \"ticks\": \"\"}}, \"marker\": {\"colorbar\": {\"outlinewidth\": 0, \"ticks\": \"\"}}, \"type\": \"scatter3d\"}], \"scattercarpet\": [{\"marker\": {\"colorbar\": {\"outlinewidth\": 0, \"ticks\": \"\"}}, \"type\": \"scattercarpet\"}], \"scattergeo\": [{\"marker\": {\"colorbar\": {\"outlinewidth\": 0, \"ticks\": \"\"}}, \"type\": \"scattergeo\"}], \"scattergl\": [{\"marker\": {\"colorbar\": {\"outlinewidth\": 0, \"ticks\": \"\"}}, \"type\": \"scattergl\"}], \"scattermapbox\": [{\"marker\": {\"colorbar\": {\"outlinewidth\": 0, \"ticks\": \"\"}}, \"type\": \"scattermapbox\"}], \"scatterpolar\": [{\"marker\": {\"colorbar\": {\"outlinewidth\": 0, \"ticks\": \"\"}}, \"type\": \"scatterpolar\"}], \"scatterpolargl\": [{\"marker\": {\"colorbar\": {\"outlinewidth\": 0, \"ticks\": \"\"}}, \"type\": \"scatterpolargl\"}], \"scatterternary\": [{\"marker\": {\"colorbar\": {\"outlinewidth\": 0, \"ticks\": \"\"}}, \"type\": \"scatterternary\"}], \"surface\": [{\"colorbar\": {\"outlinewidth\": 0, \"ticks\": \"\"}, \"colorscale\": [[0.0, \"#0d0887\"], [0.1111111111111111, \"#46039f\"], [0.2222222222222222, \"#7201a8\"], [0.3333333333333333, \"#9c179e\"], [0.4444444444444444, \"#bd3786\"], [0.5555555555555556, \"#d8576b\"], [0.6666666666666666, \"#ed7953\"], [0.7777777777777778, \"#fb9f3a\"], [0.8888888888888888, \"#fdca26\"], [1.0, \"#f0f921\"]], \"type\": \"surface\"}], \"table\": [{\"cells\": {\"fill\": {\"color\": \"#EBF0F8\"}, \"line\": {\"color\": \"white\"}}, \"header\": {\"fill\": {\"color\": \"#C8D4E3\"}, \"line\": {\"color\": \"white\"}}, \"type\": \"table\"}]}, \"layout\": {\"annotationdefaults\": {\"arrowcolor\": \"#2a3f5f\", \"arrowhead\": 0, \"arrowwidth\": 1}, \"coloraxis\": {\"colorbar\": {\"outlinewidth\": 0, \"ticks\": \"\"}}, \"colorscale\": {\"diverging\": [[0, \"#8e0152\"], [0.1, \"#c51b7d\"], [0.2, \"#de77ae\"], [0.3, \"#f1b6da\"], [0.4, \"#fde0ef\"], [0.5, \"#f7f7f7\"], [0.6, \"#e6f5d0\"], [0.7, \"#b8e186\"], [0.8, \"#7fbc41\"], [0.9, \"#4d9221\"], [1, \"#276419\"]], \"sequential\": [[0.0, \"#0d0887\"], [0.1111111111111111, \"#46039f\"], [0.2222222222222222, \"#7201a8\"], [0.3333333333333333, \"#9c179e\"], [0.4444444444444444, \"#bd3786\"], [0.5555555555555556, \"#d8576b\"], [0.6666666666666666, \"#ed7953\"], [0.7777777777777778, \"#fb9f3a\"], [0.8888888888888888, \"#fdca26\"], [1.0, \"#f0f921\"]], \"sequentialminus\": [[0.0, \"#0d0887\"], [0.1111111111111111, \"#46039f\"], [0.2222222222222222, \"#7201a8\"], [0.3333333333333333, \"#9c179e\"], [0.4444444444444444, \"#bd3786\"], [0.5555555555555556, \"#d8576b\"], [0.6666666666666666, \"#ed7953\"], [0.7777777777777778, \"#fb9f3a\"], [0.8888888888888888, \"#fdca26\"], [1.0, \"#f0f921\"]]}, \"colorway\": [\"#636efa\", \"#EF553B\", \"#00cc96\", \"#ab63fa\", \"#FFA15A\", \"#19d3f3\", \"#FF6692\", \"#B6E880\", \"#FF97FF\", \"#FECB52\"], \"font\": {\"color\": \"#2a3f5f\"}, \"geo\": {\"bgcolor\": \"white\", \"lakecolor\": \"white\", \"landcolor\": \"#E5ECF6\", \"showlakes\": true, \"showland\": true, \"subunitcolor\": \"white\"}, \"hoverlabel\": {\"align\": \"left\"}, \"hovermode\": \"closest\", \"mapbox\": {\"style\": \"light\"}, \"paper_bgcolor\": \"white\", \"plot_bgcolor\": \"#E5ECF6\", \"polar\": {\"angularaxis\": {\"gridcolor\": \"white\", \"linecolor\": \"white\", \"ticks\": \"\"}, \"bgcolor\": \"#E5ECF6\", \"radialaxis\": {\"gridcolor\": \"white\", \"linecolor\": \"white\", \"ticks\": \"\"}}, \"scene\": {\"xaxis\": {\"backgroundcolor\": \"#E5ECF6\", \"gridcolor\": \"white\", \"gridwidth\": 2, \"linecolor\": \"white\", \"showbackground\": true, \"ticks\": \"\", \"zerolinecolor\": \"white\"}, \"yaxis\": {\"backgroundcolor\": \"#E5ECF6\", \"gridcolor\": \"white\", \"gridwidth\": 2, \"linecolor\": \"white\", \"showbackground\": true, \"ticks\": \"\", \"zerolinecolor\": \"white\"}, \"zaxis\": {\"backgroundcolor\": \"#E5ECF6\", \"gridcolor\": \"white\", \"gridwidth\": 2, \"linecolor\": \"white\", \"showbackground\": true, \"ticks\": \"\", \"zerolinecolor\": \"white\"}}, \"shapedefaults\": {\"line\": {\"color\": \"#2a3f5f\"}}, \"ternary\": {\"aaxis\": {\"gridcolor\": \"white\", \"linecolor\": \"white\", \"ticks\": \"\"}, \"baxis\": {\"gridcolor\": \"white\", \"linecolor\": \"white\", \"ticks\": \"\"}, \"bgcolor\": \"#E5ECF6\", \"caxis\": {\"gridcolor\": \"white\", \"linecolor\": \"white\", \"ticks\": \"\"}}, \"title\": {\"x\": 0.05}, \"xaxis\": {\"automargin\": true, \"gridcolor\": \"white\", \"linecolor\": \"white\", \"ticks\": \"\", \"title\": {\"standoff\": 15}, \"zerolinecolor\": \"white\", \"zerolinewidth\": 2}, \"yaxis\": {\"automargin\": true, \"gridcolor\": \"white\", \"linecolor\": \"white\", \"ticks\": \"\", \"title\": {\"standoff\": 15}, \"zerolinecolor\": \"white\", \"zerolinewidth\": 2}}}, \"title\": {\"text\": \"\\u0413\\u0440\\u0443\\u043f\\u043f\\u044b 246, 247 \\u0438 248\"}, \"yaxis\": {\"title\": {\"text\": \"\\u0428\\u0430\\u0433\\u0438\"}}},\n",
              "                        {\"responsive\": true}\n",
              "                    ).then(function(){\n",
              "                            \n",
              "var gd = document.getElementById('f199e267-e3c9-4c0e-9724-721406ab2757');\n",
              "var x = new MutationObserver(function (mutations, observer) {{\n",
              "        var display = window.getComputedStyle(gd).display;\n",
              "        if (!display || display === 'none') {{\n",
              "            console.log([gd, 'removed!']);\n",
              "            Plotly.purge(gd);\n",
              "            observer.disconnect();\n",
              "        }}\n",
              "}});\n",
              "\n",
              "// Listen for the removal of the full notebook cells\n",
              "var notebookContainer = gd.closest('#notebook-container');\n",
              "if (notebookContainer) {{\n",
              "    x.observe(notebookContainer, {childList: true});\n",
              "}}\n",
              "\n",
              "// Listen for the clearing of the current output cell\n",
              "var outputEl = gd.closest('.output');\n",
              "if (outputEl) {{\n",
              "    x.observe(outputEl, {childList: true});\n",
              "}}\n",
              "\n",
              "                        })\n",
              "                };\n",
              "                \n",
              "            </script>\n",
              "        </div>\n",
              "</body>\n",
              "</html>"
            ]
          },
          "metadata": {
            "tags": []
          }
        }
      ]
    },
    {
      "cell_type": "markdown",
      "metadata": {
        "id": "ON8evJkNd0Xp"
      },
      "source": [
        "Как мы видим, при сравнении объединнённой контрольной группы с тестовой результат тот же - нет оснований считать доли разными."
      ]
    },
    {
      "cell_type": "markdown",
      "metadata": {
        "id": "ftovfEIfd0Xq"
      },
      "source": [
        "### Осуществим поправку Бонферрони."
      ]
    },
    {
      "cell_type": "markdown",
      "metadata": {
        "id": "pjpVP3T7d0Xr"
      },
      "source": [
        "Мы осуществили в общем 16 проверок. Поскольку мы проверяем сразу несколько гипотез, применим поправку Бонферрони"
      ]
    },
    {
      "cell_type": "code",
      "metadata": {
        "colab": {
          "background_save": true
        },
        "id": "ityQuvC9d0Xr"
      },
      "source": [
        "def func1(first_group, second_group):\n",
        "    alpha = 0.05/4 \n",
        "    \n",
        "    purchases = []\n",
        "    for i in data_new['event_name'].unique():\n",
        "        purchases = [data_new.query('group == @first_group & event_name == @i')['user_id'].nunique(),\n",
        "        data_new.query('group == @second_group & event_name == @i')['user_id'].nunique()]\n",
        "        purchases.append(i)\n",
        "        \n",
        "        p1 = purchases[0]/n_users[first_group]\n",
        "        p2 = purchases[1]/n_users[second_group]\n",
        "        p_combined = (purchases[0] + purchases[1]) / (n_users[first_group] + n_users[second_group])        \n",
        "        difference = p1 - p2\n",
        "        z_value = difference / mth.sqrt(p_combined * (1 - p_combined) * (1/n_users[first_group] + 1/n_users[second_group]))\n",
        "        distr = st.norm(0, 1)  \n",
        "        p_value = (1 - distr.cdf(abs(z_value))) * 2\n",
        "\n",
        "        print(i)\n",
        "        if p_value < alpha:\n",
        "            print('Отвергаем нулевую гипотезу: между долями есть значимая разница')\n",
        "        else:\n",
        "            print('Не получилось отвергнуть нулевую гипотезу, нет оснований считать доли разными')\n",
        "        print('---')\n",
        "    fig = go.Figure()\n",
        "    fig.add_trace(go.Funnel(\n",
        "        name = first_group,\n",
        "        y = group_pivot['event_name'],\n",
        "        x = group_pivot[first_group],\n",
        "        textinfo = \"value+percent initial\"))\n",
        "    fig.add_trace(go.Funnel(\n",
        "        name = second_group,\n",
        "        y = group_pivot['event_name'],\n",
        "        x = group_pivot[second_group],\n",
        "        textinfo = \"value+percent initial\"))    \n",
        "    fig.update_layout(title=\"Группы {} и {}\".format(first_group, second_group),\n",
        "                  #xaxis_title=\"x Axis Title\",\n",
        "                  yaxis_title=\"Шаги\",)\n",
        "    fig.show()"
      ],
      "execution_count": null,
      "outputs": []
    },
    {
      "cell_type": "code",
      "metadata": {
        "colab": {
          "background_save": true,
          "base_uri": "https://localhost:8080/",
          "height": 746
        },
        "id": "mLcfXLD-d0Xs",
        "outputId": "15a6f6ca-f716-4e1a-e5af-5b2a4e597502"
      },
      "source": [
        "func(246, 247)"
      ],
      "execution_count": null,
      "outputs": [
        {
          "output_type": "stream",
          "text": [
            "MainScreenAppear\n",
            "Не получилось отвергнуть нулевую гипотезу, нет оснований считать доли разными\n",
            "---\n",
            "PaymentScreenSuccessful\n",
            "Не получилось отвергнуть нулевую гипотезу, нет оснований считать доли разными\n",
            "---\n",
            "CartScreenAppear\n",
            "Не получилось отвергнуть нулевую гипотезу, нет оснований считать доли разными\n",
            "---\n",
            "OffersScreenAppear\n",
            "Не получилось отвергнуть нулевую гипотезу, нет оснований считать доли разными\n",
            "---\n"
          ],
          "name": "stdout"
        },
        {
          "output_type": "display_data",
          "data": {
            "text/html": [
              "<html>\n",
              "<head><meta charset=\"utf-8\" /></head>\n",
              "<body>\n",
              "    <div>\n",
              "            <script src=\"https://cdnjs.cloudflare.com/ajax/libs/mathjax/2.7.5/MathJax.js?config=TeX-AMS-MML_SVG\"></script><script type=\"text/javascript\">if (window.MathJax) {MathJax.Hub.Config({SVG: {font: \"STIX-Web\"}});}</script>\n",
              "                <script type=\"text/javascript\">window.PlotlyConfig = {MathJaxConfig: 'local'};</script>\n",
              "        <script src=\"https://cdn.plot.ly/plotly-latest.min.js\"></script>    \n",
              "            <div id=\"02c1de63-7072-42fd-b287-5aff149c8ee8\" class=\"plotly-graph-div\" style=\"height:525px; width:100%;\"></div>\n",
              "            <script type=\"text/javascript\">\n",
              "                \n",
              "                    window.PLOTLYENV=window.PLOTLYENV || {};\n",
              "                    \n",
              "                if (document.getElementById(\"02c1de63-7072-42fd-b287-5aff149c8ee8\")) {\n",
              "                    Plotly.newPlot(\n",
              "                        '02c1de63-7072-42fd-b287-5aff149c8ee8',\n",
              "                        [{\"name\": \"246\", \"textinfo\": \"value+percent initial\", \"type\": \"funnel\", \"x\": [2456, 1545, 1270, 1202], \"y\": [\"MainScreenAppear\", \"OffersScreenAppear\", \"CartScreenAppear\", \"PaymentScreenSuccessful\"]}, {\"name\": \"247\", \"textinfo\": \"value+percent initial\", \"type\": \"funnel\", \"x\": [2482, 1530, 1240, 1160], \"y\": [\"MainScreenAppear\", \"OffersScreenAppear\", \"CartScreenAppear\", \"PaymentScreenSuccessful\"]}],\n",
              "                        {\"template\": {\"data\": {\"bar\": [{\"error_x\": {\"color\": \"#2a3f5f\"}, \"error_y\": {\"color\": \"#2a3f5f\"}, \"marker\": {\"line\": {\"color\": \"#E5ECF6\", \"width\": 0.5}}, \"type\": \"bar\"}], \"barpolar\": [{\"marker\": {\"line\": {\"color\": \"#E5ECF6\", \"width\": 0.5}}, \"type\": \"barpolar\"}], \"carpet\": [{\"aaxis\": {\"endlinecolor\": \"#2a3f5f\", \"gridcolor\": \"white\", \"linecolor\": \"white\", \"minorgridcolor\": \"white\", \"startlinecolor\": \"#2a3f5f\"}, \"baxis\": {\"endlinecolor\": \"#2a3f5f\", \"gridcolor\": \"white\", \"linecolor\": \"white\", \"minorgridcolor\": \"white\", \"startlinecolor\": \"#2a3f5f\"}, \"type\": \"carpet\"}], \"choropleth\": [{\"colorbar\": {\"outlinewidth\": 0, \"ticks\": \"\"}, \"type\": \"choropleth\"}], \"contour\": [{\"colorbar\": {\"outlinewidth\": 0, \"ticks\": \"\"}, \"colorscale\": [[0.0, \"#0d0887\"], [0.1111111111111111, \"#46039f\"], [0.2222222222222222, \"#7201a8\"], [0.3333333333333333, \"#9c179e\"], [0.4444444444444444, \"#bd3786\"], [0.5555555555555556, \"#d8576b\"], [0.6666666666666666, \"#ed7953\"], [0.7777777777777778, \"#fb9f3a\"], [0.8888888888888888, \"#fdca26\"], [1.0, \"#f0f921\"]], \"type\": \"contour\"}], \"contourcarpet\": [{\"colorbar\": {\"outlinewidth\": 0, \"ticks\": \"\"}, \"type\": \"contourcarpet\"}], \"heatmap\": [{\"colorbar\": {\"outlinewidth\": 0, \"ticks\": \"\"}, \"colorscale\": [[0.0, \"#0d0887\"], [0.1111111111111111, \"#46039f\"], [0.2222222222222222, \"#7201a8\"], [0.3333333333333333, \"#9c179e\"], [0.4444444444444444, \"#bd3786\"], [0.5555555555555556, \"#d8576b\"], [0.6666666666666666, \"#ed7953\"], [0.7777777777777778, \"#fb9f3a\"], [0.8888888888888888, \"#fdca26\"], [1.0, \"#f0f921\"]], \"type\": \"heatmap\"}], \"heatmapgl\": [{\"colorbar\": {\"outlinewidth\": 0, \"ticks\": \"\"}, \"colorscale\": [[0.0, \"#0d0887\"], [0.1111111111111111, \"#46039f\"], [0.2222222222222222, \"#7201a8\"], [0.3333333333333333, \"#9c179e\"], [0.4444444444444444, \"#bd3786\"], [0.5555555555555556, \"#d8576b\"], [0.6666666666666666, \"#ed7953\"], [0.7777777777777778, \"#fb9f3a\"], [0.8888888888888888, \"#fdca26\"], [1.0, \"#f0f921\"]], \"type\": \"heatmapgl\"}], \"histogram\": [{\"marker\": {\"colorbar\": {\"outlinewidth\": 0, \"ticks\": \"\"}}, \"type\": \"histogram\"}], \"histogram2d\": [{\"colorbar\": {\"outlinewidth\": 0, \"ticks\": \"\"}, \"colorscale\": [[0.0, \"#0d0887\"], [0.1111111111111111, \"#46039f\"], [0.2222222222222222, \"#7201a8\"], [0.3333333333333333, \"#9c179e\"], [0.4444444444444444, \"#bd3786\"], [0.5555555555555556, \"#d8576b\"], [0.6666666666666666, \"#ed7953\"], [0.7777777777777778, \"#fb9f3a\"], [0.8888888888888888, \"#fdca26\"], [1.0, \"#f0f921\"]], \"type\": \"histogram2d\"}], \"histogram2dcontour\": [{\"colorbar\": {\"outlinewidth\": 0, \"ticks\": \"\"}, \"colorscale\": [[0.0, \"#0d0887\"], [0.1111111111111111, \"#46039f\"], [0.2222222222222222, \"#7201a8\"], [0.3333333333333333, \"#9c179e\"], [0.4444444444444444, \"#bd3786\"], [0.5555555555555556, \"#d8576b\"], [0.6666666666666666, \"#ed7953\"], [0.7777777777777778, \"#fb9f3a\"], [0.8888888888888888, \"#fdca26\"], [1.0, \"#f0f921\"]], \"type\": \"histogram2dcontour\"}], \"mesh3d\": [{\"colorbar\": {\"outlinewidth\": 0, \"ticks\": \"\"}, \"type\": \"mesh3d\"}], \"parcoords\": [{\"line\": {\"colorbar\": {\"outlinewidth\": 0, \"ticks\": \"\"}}, \"type\": \"parcoords\"}], \"pie\": [{\"automargin\": true, \"type\": \"pie\"}], \"scatter\": [{\"marker\": {\"colorbar\": {\"outlinewidth\": 0, \"ticks\": \"\"}}, \"type\": \"scatter\"}], \"scatter3d\": [{\"line\": {\"colorbar\": {\"outlinewidth\": 0, \"ticks\": \"\"}}, \"marker\": {\"colorbar\": {\"outlinewidth\": 0, \"ticks\": \"\"}}, \"type\": \"scatter3d\"}], \"scattercarpet\": [{\"marker\": {\"colorbar\": {\"outlinewidth\": 0, \"ticks\": \"\"}}, \"type\": \"scattercarpet\"}], \"scattergeo\": [{\"marker\": {\"colorbar\": {\"outlinewidth\": 0, \"ticks\": \"\"}}, \"type\": \"scattergeo\"}], \"scattergl\": [{\"marker\": {\"colorbar\": {\"outlinewidth\": 0, \"ticks\": \"\"}}, \"type\": \"scattergl\"}], \"scattermapbox\": [{\"marker\": {\"colorbar\": {\"outlinewidth\": 0, \"ticks\": \"\"}}, \"type\": \"scattermapbox\"}], \"scatterpolar\": [{\"marker\": {\"colorbar\": {\"outlinewidth\": 0, \"ticks\": \"\"}}, \"type\": \"scatterpolar\"}], \"scatterpolargl\": [{\"marker\": {\"colorbar\": {\"outlinewidth\": 0, \"ticks\": \"\"}}, \"type\": \"scatterpolargl\"}], \"scatterternary\": [{\"marker\": {\"colorbar\": {\"outlinewidth\": 0, \"ticks\": \"\"}}, \"type\": \"scatterternary\"}], \"surface\": [{\"colorbar\": {\"outlinewidth\": 0, \"ticks\": \"\"}, \"colorscale\": [[0.0, \"#0d0887\"], [0.1111111111111111, \"#46039f\"], [0.2222222222222222, \"#7201a8\"], [0.3333333333333333, \"#9c179e\"], [0.4444444444444444, \"#bd3786\"], [0.5555555555555556, \"#d8576b\"], [0.6666666666666666, \"#ed7953\"], [0.7777777777777778, \"#fb9f3a\"], [0.8888888888888888, \"#fdca26\"], [1.0, \"#f0f921\"]], \"type\": \"surface\"}], \"table\": [{\"cells\": {\"fill\": {\"color\": \"#EBF0F8\"}, \"line\": {\"color\": \"white\"}}, \"header\": {\"fill\": {\"color\": \"#C8D4E3\"}, \"line\": {\"color\": \"white\"}}, \"type\": \"table\"}]}, \"layout\": {\"annotationdefaults\": {\"arrowcolor\": \"#2a3f5f\", \"arrowhead\": 0, \"arrowwidth\": 1}, \"coloraxis\": {\"colorbar\": {\"outlinewidth\": 0, \"ticks\": \"\"}}, \"colorscale\": {\"diverging\": [[0, \"#8e0152\"], [0.1, \"#c51b7d\"], [0.2, \"#de77ae\"], [0.3, \"#f1b6da\"], [0.4, \"#fde0ef\"], [0.5, \"#f7f7f7\"], [0.6, \"#e6f5d0\"], [0.7, \"#b8e186\"], [0.8, \"#7fbc41\"], [0.9, \"#4d9221\"], [1, \"#276419\"]], \"sequential\": [[0.0, \"#0d0887\"], [0.1111111111111111, \"#46039f\"], [0.2222222222222222, \"#7201a8\"], [0.3333333333333333, \"#9c179e\"], [0.4444444444444444, \"#bd3786\"], [0.5555555555555556, \"#d8576b\"], [0.6666666666666666, \"#ed7953\"], [0.7777777777777778, \"#fb9f3a\"], [0.8888888888888888, \"#fdca26\"], [1.0, \"#f0f921\"]], \"sequentialminus\": [[0.0, \"#0d0887\"], [0.1111111111111111, \"#46039f\"], [0.2222222222222222, \"#7201a8\"], [0.3333333333333333, \"#9c179e\"], [0.4444444444444444, \"#bd3786\"], [0.5555555555555556, \"#d8576b\"], [0.6666666666666666, \"#ed7953\"], [0.7777777777777778, \"#fb9f3a\"], [0.8888888888888888, \"#fdca26\"], [1.0, \"#f0f921\"]]}, \"colorway\": [\"#636efa\", \"#EF553B\", \"#00cc96\", \"#ab63fa\", \"#FFA15A\", \"#19d3f3\", \"#FF6692\", \"#B6E880\", \"#FF97FF\", \"#FECB52\"], \"font\": {\"color\": \"#2a3f5f\"}, \"geo\": {\"bgcolor\": \"white\", \"lakecolor\": \"white\", \"landcolor\": \"#E5ECF6\", \"showlakes\": true, \"showland\": true, \"subunitcolor\": \"white\"}, \"hoverlabel\": {\"align\": \"left\"}, \"hovermode\": \"closest\", \"mapbox\": {\"style\": \"light\"}, \"paper_bgcolor\": \"white\", \"plot_bgcolor\": \"#E5ECF6\", \"polar\": {\"angularaxis\": {\"gridcolor\": \"white\", \"linecolor\": \"white\", \"ticks\": \"\"}, \"bgcolor\": \"#E5ECF6\", \"radialaxis\": {\"gridcolor\": \"white\", \"linecolor\": \"white\", \"ticks\": \"\"}}, \"scene\": {\"xaxis\": {\"backgroundcolor\": \"#E5ECF6\", \"gridcolor\": \"white\", \"gridwidth\": 2, \"linecolor\": \"white\", \"showbackground\": true, \"ticks\": \"\", \"zerolinecolor\": \"white\"}, \"yaxis\": {\"backgroundcolor\": \"#E5ECF6\", \"gridcolor\": \"white\", \"gridwidth\": 2, \"linecolor\": \"white\", \"showbackground\": true, \"ticks\": \"\", \"zerolinecolor\": \"white\"}, \"zaxis\": {\"backgroundcolor\": \"#E5ECF6\", \"gridcolor\": \"white\", \"gridwidth\": 2, \"linecolor\": \"white\", \"showbackground\": true, \"ticks\": \"\", \"zerolinecolor\": \"white\"}}, \"shapedefaults\": {\"line\": {\"color\": \"#2a3f5f\"}}, \"ternary\": {\"aaxis\": {\"gridcolor\": \"white\", \"linecolor\": \"white\", \"ticks\": \"\"}, \"baxis\": {\"gridcolor\": \"white\", \"linecolor\": \"white\", \"ticks\": \"\"}, \"bgcolor\": \"#E5ECF6\", \"caxis\": {\"gridcolor\": \"white\", \"linecolor\": \"white\", \"ticks\": \"\"}}, \"title\": {\"x\": 0.05}, \"xaxis\": {\"automargin\": true, \"gridcolor\": \"white\", \"linecolor\": \"white\", \"ticks\": \"\", \"title\": {\"standoff\": 15}, \"zerolinecolor\": \"white\", \"zerolinewidth\": 2}, \"yaxis\": {\"automargin\": true, \"gridcolor\": \"white\", \"linecolor\": \"white\", \"ticks\": \"\", \"title\": {\"standoff\": 15}, \"zerolinecolor\": \"white\", \"zerolinewidth\": 2}}}, \"title\": {\"text\": \"\\u0413\\u0440\\u0443\\u043f\\u043f\\u044b 246 \\u0438 247\"}, \"yaxis\": {\"title\": {\"text\": \"\\u0428\\u0430\\u0433\\u0438\"}}},\n",
              "                        {\"responsive\": true}\n",
              "                    ).then(function(){\n",
              "                            \n",
              "var gd = document.getElementById('02c1de63-7072-42fd-b287-5aff149c8ee8');\n",
              "var x = new MutationObserver(function (mutations, observer) {{\n",
              "        var display = window.getComputedStyle(gd).display;\n",
              "        if (!display || display === 'none') {{\n",
              "            console.log([gd, 'removed!']);\n",
              "            Plotly.purge(gd);\n",
              "            observer.disconnect();\n",
              "        }}\n",
              "}});\n",
              "\n",
              "// Listen for the removal of the full notebook cells\n",
              "var notebookContainer = gd.closest('#notebook-container');\n",
              "if (notebookContainer) {{\n",
              "    x.observe(notebookContainer, {childList: true});\n",
              "}}\n",
              "\n",
              "// Listen for the clearing of the current output cell\n",
              "var outputEl = gd.closest('.output');\n",
              "if (outputEl) {{\n",
              "    x.observe(outputEl, {childList: true});\n",
              "}}\n",
              "\n",
              "                        })\n",
              "                };\n",
              "                \n",
              "            </script>\n",
              "        </div>\n",
              "</body>\n",
              "</html>"
            ]
          },
          "metadata": {
            "tags": []
          }
        }
      ]
    },
    {
      "cell_type": "code",
      "metadata": {
        "colab": {
          "background_save": true,
          "base_uri": "https://localhost:8080/",
          "height": 746
        },
        "id": "6NLPhf-pd0Xt",
        "outputId": "54dd9ba0-5b73-41a2-ad68-63aa48359579"
      },
      "source": [
        "func(246, 248)"
      ],
      "execution_count": null,
      "outputs": [
        {
          "output_type": "stream",
          "text": [
            "MainScreenAppear\n",
            "Не получилось отвергнуть нулевую гипотезу, нет оснований считать доли разными\n",
            "---\n",
            "PaymentScreenSuccessful\n",
            "Не получилось отвергнуть нулевую гипотезу, нет оснований считать доли разными\n",
            "---\n",
            "CartScreenAppear\n",
            "Не получилось отвергнуть нулевую гипотезу, нет оснований считать доли разными\n",
            "---\n",
            "OffersScreenAppear\n",
            "Не получилось отвергнуть нулевую гипотезу, нет оснований считать доли разными\n",
            "---\n"
          ],
          "name": "stdout"
        },
        {
          "output_type": "display_data",
          "data": {
            "text/html": [
              "<html>\n",
              "<head><meta charset=\"utf-8\" /></head>\n",
              "<body>\n",
              "    <div>\n",
              "            <script src=\"https://cdnjs.cloudflare.com/ajax/libs/mathjax/2.7.5/MathJax.js?config=TeX-AMS-MML_SVG\"></script><script type=\"text/javascript\">if (window.MathJax) {MathJax.Hub.Config({SVG: {font: \"STIX-Web\"}});}</script>\n",
              "                <script type=\"text/javascript\">window.PlotlyConfig = {MathJaxConfig: 'local'};</script>\n",
              "        <script src=\"https://cdn.plot.ly/plotly-latest.min.js\"></script>    \n",
              "            <div id=\"ab4cb8aa-6b90-47b3-9288-8b744cc9ef4c\" class=\"plotly-graph-div\" style=\"height:525px; width:100%;\"></div>\n",
              "            <script type=\"text/javascript\">\n",
              "                \n",
              "                    window.PLOTLYENV=window.PLOTLYENV || {};\n",
              "                    \n",
              "                if (document.getElementById(\"ab4cb8aa-6b90-47b3-9288-8b744cc9ef4c\")) {\n",
              "                    Plotly.newPlot(\n",
              "                        'ab4cb8aa-6b90-47b3-9288-8b744cc9ef4c',\n",
              "                        [{\"name\": \"246\", \"textinfo\": \"value+percent initial\", \"type\": \"funnel\", \"x\": [2456, 1545, 1270, 1202], \"y\": [\"MainScreenAppear\", \"OffersScreenAppear\", \"CartScreenAppear\", \"PaymentScreenSuccessful\"]}, {\"name\": \"248\", \"textinfo\": \"value+percent initial\", \"type\": \"funnel\", \"x\": [2501, 1538, 1239, 1185], \"y\": [\"MainScreenAppear\", \"OffersScreenAppear\", \"CartScreenAppear\", \"PaymentScreenSuccessful\"]}],\n",
              "                        {\"template\": {\"data\": {\"bar\": [{\"error_x\": {\"color\": \"#2a3f5f\"}, \"error_y\": {\"color\": \"#2a3f5f\"}, \"marker\": {\"line\": {\"color\": \"#E5ECF6\", \"width\": 0.5}}, \"type\": \"bar\"}], \"barpolar\": [{\"marker\": {\"line\": {\"color\": \"#E5ECF6\", \"width\": 0.5}}, \"type\": \"barpolar\"}], \"carpet\": [{\"aaxis\": {\"endlinecolor\": \"#2a3f5f\", \"gridcolor\": \"white\", \"linecolor\": \"white\", \"minorgridcolor\": \"white\", \"startlinecolor\": \"#2a3f5f\"}, \"baxis\": {\"endlinecolor\": \"#2a3f5f\", \"gridcolor\": \"white\", \"linecolor\": \"white\", \"minorgridcolor\": \"white\", \"startlinecolor\": \"#2a3f5f\"}, \"type\": \"carpet\"}], \"choropleth\": [{\"colorbar\": {\"outlinewidth\": 0, \"ticks\": \"\"}, \"type\": \"choropleth\"}], \"contour\": [{\"colorbar\": {\"outlinewidth\": 0, \"ticks\": \"\"}, \"colorscale\": [[0.0, \"#0d0887\"], [0.1111111111111111, \"#46039f\"], [0.2222222222222222, \"#7201a8\"], [0.3333333333333333, \"#9c179e\"], [0.4444444444444444, \"#bd3786\"], [0.5555555555555556, \"#d8576b\"], [0.6666666666666666, \"#ed7953\"], [0.7777777777777778, \"#fb9f3a\"], [0.8888888888888888, \"#fdca26\"], [1.0, \"#f0f921\"]], \"type\": \"contour\"}], \"contourcarpet\": [{\"colorbar\": {\"outlinewidth\": 0, \"ticks\": \"\"}, \"type\": \"contourcarpet\"}], \"heatmap\": [{\"colorbar\": {\"outlinewidth\": 0, \"ticks\": \"\"}, \"colorscale\": [[0.0, \"#0d0887\"], [0.1111111111111111, \"#46039f\"], [0.2222222222222222, \"#7201a8\"], [0.3333333333333333, \"#9c179e\"], [0.4444444444444444, \"#bd3786\"], [0.5555555555555556, \"#d8576b\"], [0.6666666666666666, \"#ed7953\"], [0.7777777777777778, \"#fb9f3a\"], [0.8888888888888888, \"#fdca26\"], [1.0, \"#f0f921\"]], \"type\": \"heatmap\"}], \"heatmapgl\": [{\"colorbar\": {\"outlinewidth\": 0, \"ticks\": \"\"}, \"colorscale\": [[0.0, \"#0d0887\"], [0.1111111111111111, \"#46039f\"], [0.2222222222222222, \"#7201a8\"], [0.3333333333333333, \"#9c179e\"], [0.4444444444444444, \"#bd3786\"], [0.5555555555555556, \"#d8576b\"], [0.6666666666666666, \"#ed7953\"], [0.7777777777777778, \"#fb9f3a\"], [0.8888888888888888, \"#fdca26\"], [1.0, \"#f0f921\"]], \"type\": \"heatmapgl\"}], \"histogram\": [{\"marker\": {\"colorbar\": {\"outlinewidth\": 0, \"ticks\": \"\"}}, \"type\": \"histogram\"}], \"histogram2d\": [{\"colorbar\": {\"outlinewidth\": 0, \"ticks\": \"\"}, \"colorscale\": [[0.0, \"#0d0887\"], [0.1111111111111111, \"#46039f\"], [0.2222222222222222, \"#7201a8\"], [0.3333333333333333, \"#9c179e\"], [0.4444444444444444, \"#bd3786\"], [0.5555555555555556, \"#d8576b\"], [0.6666666666666666, \"#ed7953\"], [0.7777777777777778, \"#fb9f3a\"], [0.8888888888888888, \"#fdca26\"], [1.0, \"#f0f921\"]], \"type\": \"histogram2d\"}], \"histogram2dcontour\": [{\"colorbar\": {\"outlinewidth\": 0, \"ticks\": \"\"}, \"colorscale\": [[0.0, \"#0d0887\"], [0.1111111111111111, \"#46039f\"], [0.2222222222222222, \"#7201a8\"], [0.3333333333333333, \"#9c179e\"], [0.4444444444444444, \"#bd3786\"], [0.5555555555555556, \"#d8576b\"], [0.6666666666666666, \"#ed7953\"], [0.7777777777777778, \"#fb9f3a\"], [0.8888888888888888, \"#fdca26\"], [1.0, \"#f0f921\"]], \"type\": \"histogram2dcontour\"}], \"mesh3d\": [{\"colorbar\": {\"outlinewidth\": 0, \"ticks\": \"\"}, \"type\": \"mesh3d\"}], \"parcoords\": [{\"line\": {\"colorbar\": {\"outlinewidth\": 0, \"ticks\": \"\"}}, \"type\": \"parcoords\"}], \"pie\": [{\"automargin\": true, \"type\": \"pie\"}], \"scatter\": [{\"marker\": {\"colorbar\": {\"outlinewidth\": 0, \"ticks\": \"\"}}, \"type\": \"scatter\"}], \"scatter3d\": [{\"line\": {\"colorbar\": {\"outlinewidth\": 0, \"ticks\": \"\"}}, \"marker\": {\"colorbar\": {\"outlinewidth\": 0, \"ticks\": \"\"}}, \"type\": \"scatter3d\"}], \"scattercarpet\": [{\"marker\": {\"colorbar\": {\"outlinewidth\": 0, \"ticks\": \"\"}}, \"type\": \"scattercarpet\"}], \"scattergeo\": [{\"marker\": {\"colorbar\": {\"outlinewidth\": 0, \"ticks\": \"\"}}, \"type\": \"scattergeo\"}], \"scattergl\": [{\"marker\": {\"colorbar\": {\"outlinewidth\": 0, \"ticks\": \"\"}}, \"type\": \"scattergl\"}], \"scattermapbox\": [{\"marker\": {\"colorbar\": {\"outlinewidth\": 0, \"ticks\": \"\"}}, \"type\": \"scattermapbox\"}], \"scatterpolar\": [{\"marker\": {\"colorbar\": {\"outlinewidth\": 0, \"ticks\": \"\"}}, \"type\": \"scatterpolar\"}], \"scatterpolargl\": [{\"marker\": {\"colorbar\": {\"outlinewidth\": 0, \"ticks\": \"\"}}, \"type\": \"scatterpolargl\"}], \"scatterternary\": [{\"marker\": {\"colorbar\": {\"outlinewidth\": 0, \"ticks\": \"\"}}, \"type\": \"scatterternary\"}], \"surface\": [{\"colorbar\": {\"outlinewidth\": 0, \"ticks\": \"\"}, \"colorscale\": [[0.0, \"#0d0887\"], [0.1111111111111111, \"#46039f\"], [0.2222222222222222, \"#7201a8\"], [0.3333333333333333, \"#9c179e\"], [0.4444444444444444, \"#bd3786\"], [0.5555555555555556, \"#d8576b\"], [0.6666666666666666, \"#ed7953\"], [0.7777777777777778, \"#fb9f3a\"], [0.8888888888888888, \"#fdca26\"], [1.0, \"#f0f921\"]], \"type\": \"surface\"}], \"table\": [{\"cells\": {\"fill\": {\"color\": \"#EBF0F8\"}, \"line\": {\"color\": \"white\"}}, \"header\": {\"fill\": {\"color\": \"#C8D4E3\"}, \"line\": {\"color\": \"white\"}}, \"type\": \"table\"}]}, \"layout\": {\"annotationdefaults\": {\"arrowcolor\": \"#2a3f5f\", \"arrowhead\": 0, \"arrowwidth\": 1}, \"coloraxis\": {\"colorbar\": {\"outlinewidth\": 0, \"ticks\": \"\"}}, \"colorscale\": {\"diverging\": [[0, \"#8e0152\"], [0.1, \"#c51b7d\"], [0.2, \"#de77ae\"], [0.3, \"#f1b6da\"], [0.4, \"#fde0ef\"], [0.5, \"#f7f7f7\"], [0.6, \"#e6f5d0\"], [0.7, \"#b8e186\"], [0.8, \"#7fbc41\"], [0.9, \"#4d9221\"], [1, \"#276419\"]], \"sequential\": [[0.0, \"#0d0887\"], [0.1111111111111111, \"#46039f\"], [0.2222222222222222, \"#7201a8\"], [0.3333333333333333, \"#9c179e\"], [0.4444444444444444, \"#bd3786\"], [0.5555555555555556, \"#d8576b\"], [0.6666666666666666, \"#ed7953\"], [0.7777777777777778, \"#fb9f3a\"], [0.8888888888888888, \"#fdca26\"], [1.0, \"#f0f921\"]], \"sequentialminus\": [[0.0, \"#0d0887\"], [0.1111111111111111, \"#46039f\"], [0.2222222222222222, \"#7201a8\"], [0.3333333333333333, \"#9c179e\"], [0.4444444444444444, \"#bd3786\"], [0.5555555555555556, \"#d8576b\"], [0.6666666666666666, \"#ed7953\"], [0.7777777777777778, \"#fb9f3a\"], [0.8888888888888888, \"#fdca26\"], [1.0, \"#f0f921\"]]}, \"colorway\": [\"#636efa\", \"#EF553B\", \"#00cc96\", \"#ab63fa\", \"#FFA15A\", \"#19d3f3\", \"#FF6692\", \"#B6E880\", \"#FF97FF\", \"#FECB52\"], \"font\": {\"color\": \"#2a3f5f\"}, \"geo\": {\"bgcolor\": \"white\", \"lakecolor\": \"white\", \"landcolor\": \"#E5ECF6\", \"showlakes\": true, \"showland\": true, \"subunitcolor\": \"white\"}, \"hoverlabel\": {\"align\": \"left\"}, \"hovermode\": \"closest\", \"mapbox\": {\"style\": \"light\"}, \"paper_bgcolor\": \"white\", \"plot_bgcolor\": \"#E5ECF6\", \"polar\": {\"angularaxis\": {\"gridcolor\": \"white\", \"linecolor\": \"white\", \"ticks\": \"\"}, \"bgcolor\": \"#E5ECF6\", \"radialaxis\": {\"gridcolor\": \"white\", \"linecolor\": \"white\", \"ticks\": \"\"}}, \"scene\": {\"xaxis\": {\"backgroundcolor\": \"#E5ECF6\", \"gridcolor\": \"white\", \"gridwidth\": 2, \"linecolor\": \"white\", \"showbackground\": true, \"ticks\": \"\", \"zerolinecolor\": \"white\"}, \"yaxis\": {\"backgroundcolor\": \"#E5ECF6\", \"gridcolor\": \"white\", \"gridwidth\": 2, \"linecolor\": \"white\", \"showbackground\": true, \"ticks\": \"\", \"zerolinecolor\": \"white\"}, \"zaxis\": {\"backgroundcolor\": \"#E5ECF6\", \"gridcolor\": \"white\", \"gridwidth\": 2, \"linecolor\": \"white\", \"showbackground\": true, \"ticks\": \"\", \"zerolinecolor\": \"white\"}}, \"shapedefaults\": {\"line\": {\"color\": \"#2a3f5f\"}}, \"ternary\": {\"aaxis\": {\"gridcolor\": \"white\", \"linecolor\": \"white\", \"ticks\": \"\"}, \"baxis\": {\"gridcolor\": \"white\", \"linecolor\": \"white\", \"ticks\": \"\"}, \"bgcolor\": \"#E5ECF6\", \"caxis\": {\"gridcolor\": \"white\", \"linecolor\": \"white\", \"ticks\": \"\"}}, \"title\": {\"x\": 0.05}, \"xaxis\": {\"automargin\": true, \"gridcolor\": \"white\", \"linecolor\": \"white\", \"ticks\": \"\", \"title\": {\"standoff\": 15}, \"zerolinecolor\": \"white\", \"zerolinewidth\": 2}, \"yaxis\": {\"automargin\": true, \"gridcolor\": \"white\", \"linecolor\": \"white\", \"ticks\": \"\", \"title\": {\"standoff\": 15}, \"zerolinecolor\": \"white\", \"zerolinewidth\": 2}}}, \"title\": {\"text\": \"\\u0413\\u0440\\u0443\\u043f\\u043f\\u044b 246 \\u0438 248\"}, \"yaxis\": {\"title\": {\"text\": \"\\u0428\\u0430\\u0433\\u0438\"}}},\n",
              "                        {\"responsive\": true}\n",
              "                    ).then(function(){\n",
              "                            \n",
              "var gd = document.getElementById('ab4cb8aa-6b90-47b3-9288-8b744cc9ef4c');\n",
              "var x = new MutationObserver(function (mutations, observer) {{\n",
              "        var display = window.getComputedStyle(gd).display;\n",
              "        if (!display || display === 'none') {{\n",
              "            console.log([gd, 'removed!']);\n",
              "            Plotly.purge(gd);\n",
              "            observer.disconnect();\n",
              "        }}\n",
              "}});\n",
              "\n",
              "// Listen for the removal of the full notebook cells\n",
              "var notebookContainer = gd.closest('#notebook-container');\n",
              "if (notebookContainer) {{\n",
              "    x.observe(notebookContainer, {childList: true});\n",
              "}}\n",
              "\n",
              "// Listen for the clearing of the current output cell\n",
              "var outputEl = gd.closest('.output');\n",
              "if (outputEl) {{\n",
              "    x.observe(outputEl, {childList: true});\n",
              "}}\n",
              "\n",
              "                        })\n",
              "                };\n",
              "                \n",
              "            </script>\n",
              "        </div>\n",
              "</body>\n",
              "</html>"
            ]
          },
          "metadata": {
            "tags": []
          }
        }
      ]
    },
    {
      "cell_type": "code",
      "metadata": {
        "colab": {
          "background_save": true,
          "base_uri": "https://localhost:8080/",
          "height": 746
        },
        "id": "0aTjZ5Qhd0Xu",
        "outputId": "018a0a9a-d745-4411-da7c-f0202bf938e4"
      },
      "source": [
        "func(247, 248)"
      ],
      "execution_count": null,
      "outputs": [
        {
          "output_type": "stream",
          "text": [
            "MainScreenAppear\n",
            "Не получилось отвергнуть нулевую гипотезу, нет оснований считать доли разными\n",
            "---\n",
            "PaymentScreenSuccessful\n",
            "Не получилось отвергнуть нулевую гипотезу, нет оснований считать доли разными\n",
            "---\n",
            "CartScreenAppear\n",
            "Не получилось отвергнуть нулевую гипотезу, нет оснований считать доли разными\n",
            "---\n",
            "OffersScreenAppear\n",
            "Не получилось отвергнуть нулевую гипотезу, нет оснований считать доли разными\n",
            "---\n"
          ],
          "name": "stdout"
        },
        {
          "output_type": "display_data",
          "data": {
            "text/html": [
              "<html>\n",
              "<head><meta charset=\"utf-8\" /></head>\n",
              "<body>\n",
              "    <div>\n",
              "            <script src=\"https://cdnjs.cloudflare.com/ajax/libs/mathjax/2.7.5/MathJax.js?config=TeX-AMS-MML_SVG\"></script><script type=\"text/javascript\">if (window.MathJax) {MathJax.Hub.Config({SVG: {font: \"STIX-Web\"}});}</script>\n",
              "                <script type=\"text/javascript\">window.PlotlyConfig = {MathJaxConfig: 'local'};</script>\n",
              "        <script src=\"https://cdn.plot.ly/plotly-latest.min.js\"></script>    \n",
              "            <div id=\"2fb5b8bf-8da6-4a35-a5f7-d2ca6ba414e6\" class=\"plotly-graph-div\" style=\"height:525px; width:100%;\"></div>\n",
              "            <script type=\"text/javascript\">\n",
              "                \n",
              "                    window.PLOTLYENV=window.PLOTLYENV || {};\n",
              "                    \n",
              "                if (document.getElementById(\"2fb5b8bf-8da6-4a35-a5f7-d2ca6ba414e6\")) {\n",
              "                    Plotly.newPlot(\n",
              "                        '2fb5b8bf-8da6-4a35-a5f7-d2ca6ba414e6',\n",
              "                        [{\"name\": \"247\", \"textinfo\": \"value+percent initial\", \"type\": \"funnel\", \"x\": [2482, 1530, 1240, 1160], \"y\": [\"MainScreenAppear\", \"OffersScreenAppear\", \"CartScreenAppear\", \"PaymentScreenSuccessful\"]}, {\"name\": \"248\", \"textinfo\": \"value+percent initial\", \"type\": \"funnel\", \"x\": [2501, 1538, 1239, 1185], \"y\": [\"MainScreenAppear\", \"OffersScreenAppear\", \"CartScreenAppear\", \"PaymentScreenSuccessful\"]}],\n",
              "                        {\"template\": {\"data\": {\"bar\": [{\"error_x\": {\"color\": \"#2a3f5f\"}, \"error_y\": {\"color\": \"#2a3f5f\"}, \"marker\": {\"line\": {\"color\": \"#E5ECF6\", \"width\": 0.5}}, \"type\": \"bar\"}], \"barpolar\": [{\"marker\": {\"line\": {\"color\": \"#E5ECF6\", \"width\": 0.5}}, \"type\": \"barpolar\"}], \"carpet\": [{\"aaxis\": {\"endlinecolor\": \"#2a3f5f\", \"gridcolor\": \"white\", \"linecolor\": \"white\", \"minorgridcolor\": \"white\", \"startlinecolor\": \"#2a3f5f\"}, \"baxis\": {\"endlinecolor\": \"#2a3f5f\", \"gridcolor\": \"white\", \"linecolor\": \"white\", \"minorgridcolor\": \"white\", \"startlinecolor\": \"#2a3f5f\"}, \"type\": \"carpet\"}], \"choropleth\": [{\"colorbar\": {\"outlinewidth\": 0, \"ticks\": \"\"}, \"type\": \"choropleth\"}], \"contour\": [{\"colorbar\": {\"outlinewidth\": 0, \"ticks\": \"\"}, \"colorscale\": [[0.0, \"#0d0887\"], [0.1111111111111111, \"#46039f\"], [0.2222222222222222, \"#7201a8\"], [0.3333333333333333, \"#9c179e\"], [0.4444444444444444, \"#bd3786\"], [0.5555555555555556, \"#d8576b\"], [0.6666666666666666, \"#ed7953\"], [0.7777777777777778, \"#fb9f3a\"], [0.8888888888888888, \"#fdca26\"], [1.0, \"#f0f921\"]], \"type\": \"contour\"}], \"contourcarpet\": [{\"colorbar\": {\"outlinewidth\": 0, \"ticks\": \"\"}, \"type\": \"contourcarpet\"}], \"heatmap\": [{\"colorbar\": {\"outlinewidth\": 0, \"ticks\": \"\"}, \"colorscale\": [[0.0, \"#0d0887\"], [0.1111111111111111, \"#46039f\"], [0.2222222222222222, \"#7201a8\"], [0.3333333333333333, \"#9c179e\"], [0.4444444444444444, \"#bd3786\"], [0.5555555555555556, \"#d8576b\"], [0.6666666666666666, \"#ed7953\"], [0.7777777777777778, \"#fb9f3a\"], [0.8888888888888888, \"#fdca26\"], [1.0, \"#f0f921\"]], \"type\": \"heatmap\"}], \"heatmapgl\": [{\"colorbar\": {\"outlinewidth\": 0, \"ticks\": \"\"}, \"colorscale\": [[0.0, \"#0d0887\"], [0.1111111111111111, \"#46039f\"], [0.2222222222222222, \"#7201a8\"], [0.3333333333333333, \"#9c179e\"], [0.4444444444444444, \"#bd3786\"], [0.5555555555555556, \"#d8576b\"], [0.6666666666666666, \"#ed7953\"], [0.7777777777777778, \"#fb9f3a\"], [0.8888888888888888, \"#fdca26\"], [1.0, \"#f0f921\"]], \"type\": \"heatmapgl\"}], \"histogram\": [{\"marker\": {\"colorbar\": {\"outlinewidth\": 0, \"ticks\": \"\"}}, \"type\": \"histogram\"}], \"histogram2d\": [{\"colorbar\": {\"outlinewidth\": 0, \"ticks\": \"\"}, \"colorscale\": [[0.0, \"#0d0887\"], [0.1111111111111111, \"#46039f\"], [0.2222222222222222, \"#7201a8\"], [0.3333333333333333, \"#9c179e\"], [0.4444444444444444, \"#bd3786\"], [0.5555555555555556, \"#d8576b\"], [0.6666666666666666, \"#ed7953\"], [0.7777777777777778, \"#fb9f3a\"], [0.8888888888888888, \"#fdca26\"], [1.0, \"#f0f921\"]], \"type\": \"histogram2d\"}], \"histogram2dcontour\": [{\"colorbar\": {\"outlinewidth\": 0, \"ticks\": \"\"}, \"colorscale\": [[0.0, \"#0d0887\"], [0.1111111111111111, \"#46039f\"], [0.2222222222222222, \"#7201a8\"], [0.3333333333333333, \"#9c179e\"], [0.4444444444444444, \"#bd3786\"], [0.5555555555555556, \"#d8576b\"], [0.6666666666666666, \"#ed7953\"], [0.7777777777777778, \"#fb9f3a\"], [0.8888888888888888, \"#fdca26\"], [1.0, \"#f0f921\"]], \"type\": \"histogram2dcontour\"}], \"mesh3d\": [{\"colorbar\": {\"outlinewidth\": 0, \"ticks\": \"\"}, \"type\": \"mesh3d\"}], \"parcoords\": [{\"line\": {\"colorbar\": {\"outlinewidth\": 0, \"ticks\": \"\"}}, \"type\": \"parcoords\"}], \"pie\": [{\"automargin\": true, \"type\": \"pie\"}], \"scatter\": [{\"marker\": {\"colorbar\": {\"outlinewidth\": 0, \"ticks\": \"\"}}, \"type\": \"scatter\"}], \"scatter3d\": [{\"line\": {\"colorbar\": {\"outlinewidth\": 0, \"ticks\": \"\"}}, \"marker\": {\"colorbar\": {\"outlinewidth\": 0, \"ticks\": \"\"}}, \"type\": \"scatter3d\"}], \"scattercarpet\": [{\"marker\": {\"colorbar\": {\"outlinewidth\": 0, \"ticks\": \"\"}}, \"type\": \"scattercarpet\"}], \"scattergeo\": [{\"marker\": {\"colorbar\": {\"outlinewidth\": 0, \"ticks\": \"\"}}, \"type\": \"scattergeo\"}], \"scattergl\": [{\"marker\": {\"colorbar\": {\"outlinewidth\": 0, \"ticks\": \"\"}}, \"type\": \"scattergl\"}], \"scattermapbox\": [{\"marker\": {\"colorbar\": {\"outlinewidth\": 0, \"ticks\": \"\"}}, \"type\": \"scattermapbox\"}], \"scatterpolar\": [{\"marker\": {\"colorbar\": {\"outlinewidth\": 0, \"ticks\": \"\"}}, \"type\": \"scatterpolar\"}], \"scatterpolargl\": [{\"marker\": {\"colorbar\": {\"outlinewidth\": 0, \"ticks\": \"\"}}, \"type\": \"scatterpolargl\"}], \"scatterternary\": [{\"marker\": {\"colorbar\": {\"outlinewidth\": 0, \"ticks\": \"\"}}, \"type\": \"scatterternary\"}], \"surface\": [{\"colorbar\": {\"outlinewidth\": 0, \"ticks\": \"\"}, \"colorscale\": [[0.0, \"#0d0887\"], [0.1111111111111111, \"#46039f\"], [0.2222222222222222, \"#7201a8\"], [0.3333333333333333, \"#9c179e\"], [0.4444444444444444, \"#bd3786\"], [0.5555555555555556, \"#d8576b\"], [0.6666666666666666, \"#ed7953\"], [0.7777777777777778, \"#fb9f3a\"], [0.8888888888888888, \"#fdca26\"], [1.0, \"#f0f921\"]], \"type\": \"surface\"}], \"table\": [{\"cells\": {\"fill\": {\"color\": \"#EBF0F8\"}, \"line\": {\"color\": \"white\"}}, \"header\": {\"fill\": {\"color\": \"#C8D4E3\"}, \"line\": {\"color\": \"white\"}}, \"type\": \"table\"}]}, \"layout\": {\"annotationdefaults\": {\"arrowcolor\": \"#2a3f5f\", \"arrowhead\": 0, \"arrowwidth\": 1}, \"coloraxis\": {\"colorbar\": {\"outlinewidth\": 0, \"ticks\": \"\"}}, \"colorscale\": {\"diverging\": [[0, \"#8e0152\"], [0.1, \"#c51b7d\"], [0.2, \"#de77ae\"], [0.3, \"#f1b6da\"], [0.4, \"#fde0ef\"], [0.5, \"#f7f7f7\"], [0.6, \"#e6f5d0\"], [0.7, \"#b8e186\"], [0.8, \"#7fbc41\"], [0.9, \"#4d9221\"], [1, \"#276419\"]], \"sequential\": [[0.0, \"#0d0887\"], [0.1111111111111111, \"#46039f\"], [0.2222222222222222, \"#7201a8\"], [0.3333333333333333, \"#9c179e\"], [0.4444444444444444, \"#bd3786\"], [0.5555555555555556, \"#d8576b\"], [0.6666666666666666, \"#ed7953\"], [0.7777777777777778, \"#fb9f3a\"], [0.8888888888888888, \"#fdca26\"], [1.0, \"#f0f921\"]], \"sequentialminus\": [[0.0, \"#0d0887\"], [0.1111111111111111, \"#46039f\"], [0.2222222222222222, \"#7201a8\"], [0.3333333333333333, \"#9c179e\"], [0.4444444444444444, \"#bd3786\"], [0.5555555555555556, \"#d8576b\"], [0.6666666666666666, \"#ed7953\"], [0.7777777777777778, \"#fb9f3a\"], [0.8888888888888888, \"#fdca26\"], [1.0, \"#f0f921\"]]}, \"colorway\": [\"#636efa\", \"#EF553B\", \"#00cc96\", \"#ab63fa\", \"#FFA15A\", \"#19d3f3\", \"#FF6692\", \"#B6E880\", \"#FF97FF\", \"#FECB52\"], \"font\": {\"color\": \"#2a3f5f\"}, \"geo\": {\"bgcolor\": \"white\", \"lakecolor\": \"white\", \"landcolor\": \"#E5ECF6\", \"showlakes\": true, \"showland\": true, \"subunitcolor\": \"white\"}, \"hoverlabel\": {\"align\": \"left\"}, \"hovermode\": \"closest\", \"mapbox\": {\"style\": \"light\"}, \"paper_bgcolor\": \"white\", \"plot_bgcolor\": \"#E5ECF6\", \"polar\": {\"angularaxis\": {\"gridcolor\": \"white\", \"linecolor\": \"white\", \"ticks\": \"\"}, \"bgcolor\": \"#E5ECF6\", \"radialaxis\": {\"gridcolor\": \"white\", \"linecolor\": \"white\", \"ticks\": \"\"}}, \"scene\": {\"xaxis\": {\"backgroundcolor\": \"#E5ECF6\", \"gridcolor\": \"white\", \"gridwidth\": 2, \"linecolor\": \"white\", \"showbackground\": true, \"ticks\": \"\", \"zerolinecolor\": \"white\"}, \"yaxis\": {\"backgroundcolor\": \"#E5ECF6\", \"gridcolor\": \"white\", \"gridwidth\": 2, \"linecolor\": \"white\", \"showbackground\": true, \"ticks\": \"\", \"zerolinecolor\": \"white\"}, \"zaxis\": {\"backgroundcolor\": \"#E5ECF6\", \"gridcolor\": \"white\", \"gridwidth\": 2, \"linecolor\": \"white\", \"showbackground\": true, \"ticks\": \"\", \"zerolinecolor\": \"white\"}}, \"shapedefaults\": {\"line\": {\"color\": \"#2a3f5f\"}}, \"ternary\": {\"aaxis\": {\"gridcolor\": \"white\", \"linecolor\": \"white\", \"ticks\": \"\"}, \"baxis\": {\"gridcolor\": \"white\", \"linecolor\": \"white\", \"ticks\": \"\"}, \"bgcolor\": \"#E5ECF6\", \"caxis\": {\"gridcolor\": \"white\", \"linecolor\": \"white\", \"ticks\": \"\"}}, \"title\": {\"x\": 0.05}, \"xaxis\": {\"automargin\": true, \"gridcolor\": \"white\", \"linecolor\": \"white\", \"ticks\": \"\", \"title\": {\"standoff\": 15}, \"zerolinecolor\": \"white\", \"zerolinewidth\": 2}, \"yaxis\": {\"automargin\": true, \"gridcolor\": \"white\", \"linecolor\": \"white\", \"ticks\": \"\", \"title\": {\"standoff\": 15}, \"zerolinecolor\": \"white\", \"zerolinewidth\": 2}}}, \"title\": {\"text\": \"\\u0413\\u0440\\u0443\\u043f\\u043f\\u044b 247 \\u0438 248\"}, \"yaxis\": {\"title\": {\"text\": \"\\u0428\\u0430\\u0433\\u0438\"}}},\n",
              "                        {\"responsive\": true}\n",
              "                    ).then(function(){\n",
              "                            \n",
              "var gd = document.getElementById('2fb5b8bf-8da6-4a35-a5f7-d2ca6ba414e6');\n",
              "var x = new MutationObserver(function (mutations, observer) {{\n",
              "        var display = window.getComputedStyle(gd).display;\n",
              "        if (!display || display === 'none') {{\n",
              "            console.log([gd, 'removed!']);\n",
              "            Plotly.purge(gd);\n",
              "            observer.disconnect();\n",
              "        }}\n",
              "}});\n",
              "\n",
              "// Listen for the removal of the full notebook cells\n",
              "var notebookContainer = gd.closest('#notebook-container');\n",
              "if (notebookContainer) {{\n",
              "    x.observe(notebookContainer, {childList: true});\n",
              "}}\n",
              "\n",
              "// Listen for the clearing of the current output cell\n",
              "var outputEl = gd.closest('.output');\n",
              "if (outputEl) {{\n",
              "    x.observe(outputEl, {childList: true});\n",
              "}}\n",
              "\n",
              "                        })\n",
              "                };\n",
              "                \n",
              "            </script>\n",
              "        </div>\n",
              "</body>\n",
              "</html>"
            ]
          },
          "metadata": {
            "tags": []
          }
        }
      ]
    },
    {
      "cell_type": "code",
      "metadata": {
        "colab": {
          "background_save": true,
          "base_uri": "https://localhost:8080/",
          "height": 814
        },
        "id": "v-Rwz1-rd0Xv",
        "outputId": "1d00d251-4b21-47c1-d53c-32b8ba7e56ce"
      },
      "source": [
        "    alpha = 0.05/4\n",
        "    \n",
        "    purchases = []\n",
        "    for i in data_new['event_name'].unique():\n",
        "        purchases = [data_new.query('group == 246 & event_name == @i')['user_id'].nunique() + data_new.query('group == 247 & event_name == @i')['user_id'].nunique(),\n",
        "        data_new.query('group == 248 & event_name == @i')['user_id'].nunique()]\n",
        "        purchases.append(i)\n",
        "        leads = [data_new.query('group == 246')['user_id'].nunique() + data_new.query('group == 247')['user_id'].nunique(),\n",
        "             data_new.query('group == 248')['user_id'].nunique()]\n",
        "\n",
        "        p1 = purchases[0]/leads[0]\n",
        "        p2 = purchases[1]/leads[1]\n",
        "        p_combined = (purchases[0] + purchases[1]) / (leads[0] + leads[1])        \n",
        "        difference = p1 - p2\n",
        "        z_value = difference / mth.sqrt(p_combined * (1 - p_combined) * (1/leads[0] + 1/leads[1]))\n",
        "        distr = st.norm(0, 1)  \n",
        "        p_value = (1 - distr.cdf(abs(z_value))) * 2\n",
        "\n",
        "        print(i)\n",
        "        print(purchases)\n",
        "        if p_value < alpha:\n",
        "            print('Отвергаем нулевую гипотезу: между долями есть значимая разница')\n",
        "        else:\n",
        "            print(\n",
        "                'Не получилось отвергнуть нулевую гипотезу, нет оснований считать доли разными'\n",
        "            )\n",
        "        print('---')\n",
        "\n",
        "    fig = go.Figure()\n",
        "    fig.add_trace(go.Funnel(\n",
        "        name = '246+247',\n",
        "        y = group_pivot['event_name'],\n",
        "        x = group_pivot['246+247'],\n",
        "        textinfo = \"value+percent initial\"))\n",
        "    fig.add_trace(go.Funnel(\n",
        "        name = '248',\n",
        "        y = group_pivot['event_name'],\n",
        "        x = group_pivot[248],\n",
        "        textinfo = \"value+percent initial\"))\n",
        "    fig.update_layout(title=\"Группы 246, 247 и 248\",\n",
        "                 # xaxis_title=\"x Axis Title\",\n",
        "                  yaxis_title=\"Шаги\",)\n",
        "    fig.show()"
      ],
      "execution_count": null,
      "outputs": [
        {
          "output_type": "stream",
          "text": [
            "MainScreenAppear\n",
            "[4938, 2501, 'MainScreenAppear']\n",
            "Не получилось отвергнуть нулевую гипотезу, нет оснований считать доли разными\n",
            "---\n",
            "PaymentScreenSuccessful\n",
            "[2362, 1185, 'PaymentScreenSuccessful']\n",
            "Не получилось отвергнуть нулевую гипотезу, нет оснований считать доли разными\n",
            "---\n",
            "CartScreenAppear\n",
            "[2510, 1239, 'CartScreenAppear']\n",
            "Не получилось отвергнуть нулевую гипотезу, нет оснований считать доли разными\n",
            "---\n",
            "OffersScreenAppear\n",
            "[3075, 1538, 'OffersScreenAppear']\n",
            "Не получилось отвергнуть нулевую гипотезу, нет оснований считать доли разными\n",
            "---\n"
          ],
          "name": "stdout"
        },
        {
          "output_type": "display_data",
          "data": {
            "text/html": [
              "<html>\n",
              "<head><meta charset=\"utf-8\" /></head>\n",
              "<body>\n",
              "    <div>\n",
              "            <script src=\"https://cdnjs.cloudflare.com/ajax/libs/mathjax/2.7.5/MathJax.js?config=TeX-AMS-MML_SVG\"></script><script type=\"text/javascript\">if (window.MathJax) {MathJax.Hub.Config({SVG: {font: \"STIX-Web\"}});}</script>\n",
              "                <script type=\"text/javascript\">window.PlotlyConfig = {MathJaxConfig: 'local'};</script>\n",
              "        <script src=\"https://cdn.plot.ly/plotly-latest.min.js\"></script>    \n",
              "            <div id=\"bef72db1-6b8d-4699-aa4f-efe1acd2eae7\" class=\"plotly-graph-div\" style=\"height:525px; width:100%;\"></div>\n",
              "            <script type=\"text/javascript\">\n",
              "                \n",
              "                    window.PLOTLYENV=window.PLOTLYENV || {};\n",
              "                    \n",
              "                if (document.getElementById(\"bef72db1-6b8d-4699-aa4f-efe1acd2eae7\")) {\n",
              "                    Plotly.newPlot(\n",
              "                        'bef72db1-6b8d-4699-aa4f-efe1acd2eae7',\n",
              "                        [{\"name\": \"246+247\", \"textinfo\": \"value+percent initial\", \"type\": \"funnel\", \"x\": [4938, 3075, 2510, 2362], \"y\": [\"MainScreenAppear\", \"OffersScreenAppear\", \"CartScreenAppear\", \"PaymentScreenSuccessful\"]}, {\"name\": \"248\", \"textinfo\": \"value+percent initial\", \"type\": \"funnel\", \"x\": [2501, 1538, 1239, 1185], \"y\": [\"MainScreenAppear\", \"OffersScreenAppear\", \"CartScreenAppear\", \"PaymentScreenSuccessful\"]}],\n",
              "                        {\"template\": {\"data\": {\"bar\": [{\"error_x\": {\"color\": \"#2a3f5f\"}, \"error_y\": {\"color\": \"#2a3f5f\"}, \"marker\": {\"line\": {\"color\": \"#E5ECF6\", \"width\": 0.5}}, \"type\": \"bar\"}], \"barpolar\": [{\"marker\": {\"line\": {\"color\": \"#E5ECF6\", \"width\": 0.5}}, \"type\": \"barpolar\"}], \"carpet\": [{\"aaxis\": {\"endlinecolor\": \"#2a3f5f\", \"gridcolor\": \"white\", \"linecolor\": \"white\", \"minorgridcolor\": \"white\", \"startlinecolor\": \"#2a3f5f\"}, \"baxis\": {\"endlinecolor\": \"#2a3f5f\", \"gridcolor\": \"white\", \"linecolor\": \"white\", \"minorgridcolor\": \"white\", \"startlinecolor\": \"#2a3f5f\"}, \"type\": \"carpet\"}], \"choropleth\": [{\"colorbar\": {\"outlinewidth\": 0, \"ticks\": \"\"}, \"type\": \"choropleth\"}], \"contour\": [{\"colorbar\": {\"outlinewidth\": 0, \"ticks\": \"\"}, \"colorscale\": [[0.0, \"#0d0887\"], [0.1111111111111111, \"#46039f\"], [0.2222222222222222, \"#7201a8\"], [0.3333333333333333, \"#9c179e\"], [0.4444444444444444, \"#bd3786\"], [0.5555555555555556, \"#d8576b\"], [0.6666666666666666, \"#ed7953\"], [0.7777777777777778, \"#fb9f3a\"], [0.8888888888888888, \"#fdca26\"], [1.0, \"#f0f921\"]], \"type\": \"contour\"}], \"contourcarpet\": [{\"colorbar\": {\"outlinewidth\": 0, \"ticks\": \"\"}, \"type\": \"contourcarpet\"}], \"heatmap\": [{\"colorbar\": {\"outlinewidth\": 0, \"ticks\": \"\"}, \"colorscale\": [[0.0, \"#0d0887\"], [0.1111111111111111, \"#46039f\"], [0.2222222222222222, \"#7201a8\"], [0.3333333333333333, \"#9c179e\"], [0.4444444444444444, \"#bd3786\"], [0.5555555555555556, \"#d8576b\"], [0.6666666666666666, \"#ed7953\"], [0.7777777777777778, \"#fb9f3a\"], [0.8888888888888888, \"#fdca26\"], [1.0, \"#f0f921\"]], \"type\": \"heatmap\"}], \"heatmapgl\": [{\"colorbar\": {\"outlinewidth\": 0, \"ticks\": \"\"}, \"colorscale\": [[0.0, \"#0d0887\"], [0.1111111111111111, \"#46039f\"], [0.2222222222222222, \"#7201a8\"], [0.3333333333333333, \"#9c179e\"], [0.4444444444444444, \"#bd3786\"], [0.5555555555555556, \"#d8576b\"], [0.6666666666666666, \"#ed7953\"], [0.7777777777777778, \"#fb9f3a\"], [0.8888888888888888, \"#fdca26\"], [1.0, \"#f0f921\"]], \"type\": \"heatmapgl\"}], \"histogram\": [{\"marker\": {\"colorbar\": {\"outlinewidth\": 0, \"ticks\": \"\"}}, \"type\": \"histogram\"}], \"histogram2d\": [{\"colorbar\": {\"outlinewidth\": 0, \"ticks\": \"\"}, \"colorscale\": [[0.0, \"#0d0887\"], [0.1111111111111111, \"#46039f\"], [0.2222222222222222, \"#7201a8\"], [0.3333333333333333, \"#9c179e\"], [0.4444444444444444, \"#bd3786\"], [0.5555555555555556, \"#d8576b\"], [0.6666666666666666, \"#ed7953\"], [0.7777777777777778, \"#fb9f3a\"], [0.8888888888888888, \"#fdca26\"], [1.0, \"#f0f921\"]], \"type\": \"histogram2d\"}], \"histogram2dcontour\": [{\"colorbar\": {\"outlinewidth\": 0, \"ticks\": \"\"}, \"colorscale\": [[0.0, \"#0d0887\"], [0.1111111111111111, \"#46039f\"], [0.2222222222222222, \"#7201a8\"], [0.3333333333333333, \"#9c179e\"], [0.4444444444444444, \"#bd3786\"], [0.5555555555555556, \"#d8576b\"], [0.6666666666666666, \"#ed7953\"], [0.7777777777777778, \"#fb9f3a\"], [0.8888888888888888, \"#fdca26\"], [1.0, \"#f0f921\"]], \"type\": \"histogram2dcontour\"}], \"mesh3d\": [{\"colorbar\": {\"outlinewidth\": 0, \"ticks\": \"\"}, \"type\": \"mesh3d\"}], \"parcoords\": [{\"line\": {\"colorbar\": {\"outlinewidth\": 0, \"ticks\": \"\"}}, \"type\": \"parcoords\"}], \"pie\": [{\"automargin\": true, \"type\": \"pie\"}], \"scatter\": [{\"marker\": {\"colorbar\": {\"outlinewidth\": 0, \"ticks\": \"\"}}, \"type\": \"scatter\"}], \"scatter3d\": [{\"line\": {\"colorbar\": {\"outlinewidth\": 0, \"ticks\": \"\"}}, \"marker\": {\"colorbar\": {\"outlinewidth\": 0, \"ticks\": \"\"}}, \"type\": \"scatter3d\"}], \"scattercarpet\": [{\"marker\": {\"colorbar\": {\"outlinewidth\": 0, \"ticks\": \"\"}}, \"type\": \"scattercarpet\"}], \"scattergeo\": [{\"marker\": {\"colorbar\": {\"outlinewidth\": 0, \"ticks\": \"\"}}, \"type\": \"scattergeo\"}], \"scattergl\": [{\"marker\": {\"colorbar\": {\"outlinewidth\": 0, \"ticks\": \"\"}}, \"type\": \"scattergl\"}], \"scattermapbox\": [{\"marker\": {\"colorbar\": {\"outlinewidth\": 0, \"ticks\": \"\"}}, \"type\": \"scattermapbox\"}], \"scatterpolar\": [{\"marker\": {\"colorbar\": {\"outlinewidth\": 0, \"ticks\": \"\"}}, \"type\": \"scatterpolar\"}], \"scatterpolargl\": [{\"marker\": {\"colorbar\": {\"outlinewidth\": 0, \"ticks\": \"\"}}, \"type\": \"scatterpolargl\"}], \"scatterternary\": [{\"marker\": {\"colorbar\": {\"outlinewidth\": 0, \"ticks\": \"\"}}, \"type\": \"scatterternary\"}], \"surface\": [{\"colorbar\": {\"outlinewidth\": 0, \"ticks\": \"\"}, \"colorscale\": [[0.0, \"#0d0887\"], [0.1111111111111111, \"#46039f\"], [0.2222222222222222, \"#7201a8\"], [0.3333333333333333, \"#9c179e\"], [0.4444444444444444, \"#bd3786\"], [0.5555555555555556, \"#d8576b\"], [0.6666666666666666, \"#ed7953\"], [0.7777777777777778, \"#fb9f3a\"], [0.8888888888888888, \"#fdca26\"], [1.0, \"#f0f921\"]], \"type\": \"surface\"}], \"table\": [{\"cells\": {\"fill\": {\"color\": \"#EBF0F8\"}, \"line\": {\"color\": \"white\"}}, \"header\": {\"fill\": {\"color\": \"#C8D4E3\"}, \"line\": {\"color\": \"white\"}}, \"type\": \"table\"}]}, \"layout\": {\"annotationdefaults\": {\"arrowcolor\": \"#2a3f5f\", \"arrowhead\": 0, \"arrowwidth\": 1}, \"coloraxis\": {\"colorbar\": {\"outlinewidth\": 0, \"ticks\": \"\"}}, \"colorscale\": {\"diverging\": [[0, \"#8e0152\"], [0.1, \"#c51b7d\"], [0.2, \"#de77ae\"], [0.3, \"#f1b6da\"], [0.4, \"#fde0ef\"], [0.5, \"#f7f7f7\"], [0.6, \"#e6f5d0\"], [0.7, \"#b8e186\"], [0.8, \"#7fbc41\"], [0.9, \"#4d9221\"], [1, \"#276419\"]], \"sequential\": [[0.0, \"#0d0887\"], [0.1111111111111111, \"#46039f\"], [0.2222222222222222, \"#7201a8\"], [0.3333333333333333, \"#9c179e\"], [0.4444444444444444, \"#bd3786\"], [0.5555555555555556, \"#d8576b\"], [0.6666666666666666, \"#ed7953\"], [0.7777777777777778, \"#fb9f3a\"], [0.8888888888888888, \"#fdca26\"], [1.0, \"#f0f921\"]], \"sequentialminus\": [[0.0, \"#0d0887\"], [0.1111111111111111, \"#46039f\"], [0.2222222222222222, \"#7201a8\"], [0.3333333333333333, \"#9c179e\"], [0.4444444444444444, \"#bd3786\"], [0.5555555555555556, \"#d8576b\"], [0.6666666666666666, \"#ed7953\"], [0.7777777777777778, \"#fb9f3a\"], [0.8888888888888888, \"#fdca26\"], [1.0, \"#f0f921\"]]}, \"colorway\": [\"#636efa\", \"#EF553B\", \"#00cc96\", \"#ab63fa\", \"#FFA15A\", \"#19d3f3\", \"#FF6692\", \"#B6E880\", \"#FF97FF\", \"#FECB52\"], \"font\": {\"color\": \"#2a3f5f\"}, \"geo\": {\"bgcolor\": \"white\", \"lakecolor\": \"white\", \"landcolor\": \"#E5ECF6\", \"showlakes\": true, \"showland\": true, \"subunitcolor\": \"white\"}, \"hoverlabel\": {\"align\": \"left\"}, \"hovermode\": \"closest\", \"mapbox\": {\"style\": \"light\"}, \"paper_bgcolor\": \"white\", \"plot_bgcolor\": \"#E5ECF6\", \"polar\": {\"angularaxis\": {\"gridcolor\": \"white\", \"linecolor\": \"white\", \"ticks\": \"\"}, \"bgcolor\": \"#E5ECF6\", \"radialaxis\": {\"gridcolor\": \"white\", \"linecolor\": \"white\", \"ticks\": \"\"}}, \"scene\": {\"xaxis\": {\"backgroundcolor\": \"#E5ECF6\", \"gridcolor\": \"white\", \"gridwidth\": 2, \"linecolor\": \"white\", \"showbackground\": true, \"ticks\": \"\", \"zerolinecolor\": \"white\"}, \"yaxis\": {\"backgroundcolor\": \"#E5ECF6\", \"gridcolor\": \"white\", \"gridwidth\": 2, \"linecolor\": \"white\", \"showbackground\": true, \"ticks\": \"\", \"zerolinecolor\": \"white\"}, \"zaxis\": {\"backgroundcolor\": \"#E5ECF6\", \"gridcolor\": \"white\", \"gridwidth\": 2, \"linecolor\": \"white\", \"showbackground\": true, \"ticks\": \"\", \"zerolinecolor\": \"white\"}}, \"shapedefaults\": {\"line\": {\"color\": \"#2a3f5f\"}}, \"ternary\": {\"aaxis\": {\"gridcolor\": \"white\", \"linecolor\": \"white\", \"ticks\": \"\"}, \"baxis\": {\"gridcolor\": \"white\", \"linecolor\": \"white\", \"ticks\": \"\"}, \"bgcolor\": \"#E5ECF6\", \"caxis\": {\"gridcolor\": \"white\", \"linecolor\": \"white\", \"ticks\": \"\"}}, \"title\": {\"x\": 0.05}, \"xaxis\": {\"automargin\": true, \"gridcolor\": \"white\", \"linecolor\": \"white\", \"ticks\": \"\", \"title\": {\"standoff\": 15}, \"zerolinecolor\": \"white\", \"zerolinewidth\": 2}, \"yaxis\": {\"automargin\": true, \"gridcolor\": \"white\", \"linecolor\": \"white\", \"ticks\": \"\", \"title\": {\"standoff\": 15}, \"zerolinecolor\": \"white\", \"zerolinewidth\": 2}}}, \"title\": {\"text\": \"\\u0413\\u0440\\u0443\\u043f\\u043f\\u044b 246, 247 \\u0438 248\"}, \"yaxis\": {\"title\": {\"text\": \"\\u0428\\u0430\\u0433\\u0438\"}}},\n",
              "                        {\"responsive\": true}\n",
              "                    ).then(function(){\n",
              "                            \n",
              "var gd = document.getElementById('bef72db1-6b8d-4699-aa4f-efe1acd2eae7');\n",
              "var x = new MutationObserver(function (mutations, observer) {{\n",
              "        var display = window.getComputedStyle(gd).display;\n",
              "        if (!display || display === 'none') {{\n",
              "            console.log([gd, 'removed!']);\n",
              "            Plotly.purge(gd);\n",
              "            observer.disconnect();\n",
              "        }}\n",
              "}});\n",
              "\n",
              "// Listen for the removal of the full notebook cells\n",
              "var notebookContainer = gd.closest('#notebook-container');\n",
              "if (notebookContainer) {{\n",
              "    x.observe(notebookContainer, {childList: true});\n",
              "}}\n",
              "\n",
              "// Listen for the clearing of the current output cell\n",
              "var outputEl = gd.closest('.output');\n",
              "if (outputEl) {{\n",
              "    x.observe(outputEl, {childList: true});\n",
              "}}\n",
              "\n",
              "                        })\n",
              "                };\n",
              "                \n",
              "            </script>\n",
              "        </div>\n",
              "</body>\n",
              "</html>"
            ]
          },
          "metadata": {
            "tags": []
          }
        }
      ]
    },
    {
      "cell_type": "markdown",
      "metadata": {
        "id": "CXl1Wt-ed0Xx"
      },
      "source": [
        "Даже с поправкой Бонферрони результат остаётся прежним."
      ]
    },
    {
      "cell_type": "markdown",
      "metadata": {
        "id": "Wa6LAFcXd0Xx"
      },
      "source": [
        "## Вывод"
      ]
    },
    {
      "cell_type": "markdown",
      "metadata": {
        "id": "REq0-t-vd0Xy"
      },
      "source": [
        "Перед нами была поставлена цель проанализировать поведение пользователей приложения по доставке еды. Разработчиков интересовало, не спровоцирует ли изменение шрифта отток пользователей.\n",
        "\n",
        "После предобработки данных мы выяснили, что всего в логе 243713 событий и 7551 пользователей. Вы выбрали данные с 1 по 7 августа 2019 года, а все данные до этого отсекли из-за их неполноты. Вероятно, неполнота данных связана с постепенным включением новых функций; очевидно, таким образом тестировалась работоспособность новой версии приложения.\n",
        "\n",
        "Мы выяснили, что в логе пять событий. Чаще всего встречается событие захода в приложение, за ним идёт событие добавления товаров в корзину, после него оформление заказа, затем оплата и, наконец, обращение к инструкции. Вырисовывается чёткая воронка, из которой мы исключаем обращение к инструкции как не необходимый шаг.\n",
        "\n",
        "Мы выяснили, что большая часть пользователей (чуть меньше половины) \"отваливается\" после первого шага. Может, посетителей не устроили цены? Или есть проблемы с отображением кнопки для добавления в корзину? От первого до последнего шага доходит всего 6% пользователей - тревожные данные, на которые следует обратить внимание!\n",
        "\n",
        "Далее мы обратились к А/А/В-тестированию. Мы сформулировали основную гипотезу следующим образом: Не существует статистически значимой разницы между долями; доли статистически равны. Альтернативная гипотеза звучит следующим образом: Нет оснований считать, что статистически значимая разница между долями отсутствует.\n",
        "\n",
        "\n",
        "Мы создали функцию, проверяющую статистическую разницу между всеми выборками, а затем провели 16 проверок статистических гипотез. Результаты показали, что нет статистически значимой разницы между исследуемых группами. Аналогичный результат был достигнут при применении поправки Бонферрони. Этот результат говорит о том, что **оттока пользователей не случилось**, что в свою очередь означает **успешность проведённых тестов**. Измненение шрифта не повлияло существенным образом на поведение пользователей и, если дизайнеры считают это изменение необходимым, они могут его осуществить.\n",
        "\n"
      ]
    },
    {
      "cell_type": "code",
      "metadata": {
        "colab": {
          "background_save": true
        },
        "id": "qI4sDLGjd0Xz"
      },
      "source": [
        ""
      ],
      "execution_count": null,
      "outputs": []
    }
  ]
}